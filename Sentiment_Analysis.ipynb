{
  "cells": [
    {
      "cell_type": "markdown",
      "metadata": {
        "id": "IgJvxvR20VSj"
      },
      "source": [
        "# 1. Data acquisition"
      ]
    },
    {
      "cell_type": "markdown",
      "metadata": {
        "id": "mb8KEPsrMBv5"
      },
      "source": [
        "## 1.1 Install the libraries and import them"
      ]
    },
    {
      "cell_type": "code",
      "execution_count": null,
      "metadata": {
        "id": "IIsmayM8LlMn"
      },
      "outputs": [],
      "source": [
        "# Install libraries\n",
        "# !pip install textblob\n",
        "# !pip install tweepy\n",
        "# !pip install flair"
      ]
    },
    {
      "cell_type": "code",
      "execution_count": null,
      "metadata": {
        "colab": {
          "base_uri": "https://localhost:8080/"
        },
        "id": "olEXxG8zR6UM",
        "outputId": "afa9199e-0963-4668-a042-a98fb85f4bec"
      },
      "outputs": [
        {
          "name": "stdout",
          "output_type": "stream",
          "text": [
            "[nltk_data] Downloading package stopwords to /root/nltk_data...\n",
            "[nltk_data]   Package stopwords is already up-to-date!\n",
            "[nltk_data] Downloading package vader_lexicon to /root/nltk_data...\n",
            "[nltk_data]   Package vader_lexicon is already up-to-date!\n"
          ]
        },
        {
          "name": "stderr",
          "output_type": "stream",
          "text": [
            "/usr/local/lib/python3.7/dist-packages/nltk/twitter/__init__.py:20: UserWarning: The twython library has not been installed. Some functionality from the twitter package will not be available.\n",
            "  warnings.warn(\"The twython library has not been installed. \"\n"
          ]
        }
      ],
      "source": [
        "# Import the libraries\n",
        "import pandas as pd\n",
        "import tweepy\n",
        "import re\n",
        "from textblob import TextBlob\n",
        "from datetime import timedelta\n",
        "import nltk\n",
        "from nltk.corpus import stopwords\n",
        "nltk.download('stopwords')\n",
        "nltk.download('vader_lexicon')\n",
        "from nltk.sentiment.vader import SentimentIntensityAnalyzer\n",
        "from flair.models import TextClassifier\n",
        "from flair.data import Sentence"
      ]
    },
    {
      "cell_type": "markdown",
      "metadata": {
        "id": "hF5u-kWCtyKL"
      },
      "source": [
        "## 1.2 Set keys and secrets"
      ]
    },
    {
      "cell_type": "code",
      "execution_count": null,
      "metadata": {
        "id": "-bUTgQT-Xb3S"
      },
      "outputs": [],
      "source": [
        "# Keys and secrets\n",
        "# api_key = \n",
        "# api_key_secret = \n",
        "\n",
        "# access_token = \n",
        "# access_token_secret = "
      ]
    },
    {
      "cell_type": "markdown",
      "metadata": {
        "id": "inDMBkEpt15I"
      },
      "source": [
        "## 1.3 Define the search criteria and authenticate the API"
      ]
    },
    {
      "cell_type": "code",
      "execution_count": null,
      "metadata": {
        "id": "ZTTs86Sct4nG"
      },
      "outputs": [],
      "source": [
        "# Terms for the query\n",
        "query = '(stocks OR bitcoin) lang:en'\n",
        "\n",
        "# Maximum numbers of tweets per query\n",
        "max_n_tweets = 20\n",
        "\n",
        "# Date start date format - mm/dd/yyyy\n",
        "start_date = '04/24/2021'\n",
        "# Adjust the format to Tweepy - yyyyMMddHHmm\n",
        "start_date = start_date[-4:] + start_date[:2] + start_date[3:5] + '0000'\n",
        "\n",
        "end_date = '05/24/2021'\n",
        "end_date = end_date[-4:] + end_date[:2] + end_date[3:5] + '0000'"
      ]
    },
    {
      "cell_type": "code",
      "execution_count": null,
      "metadata": {
        "id": "xDeDqvNnZkvp"
      },
      "outputs": [],
      "source": [
        "# Authentication object\n",
        "auth = tweepy.OAuthHandler(consumer_key=api_key, \n",
        "                                   consumer_secret=api_key_secret)\n",
        "\n",
        "# Set the access\n",
        "auth.set_access_token(access_token, access_token_secret)\n",
        "\n",
        "# Create the API object\n",
        "api = tweepy.API(auth)"
      ]
    },
    {
      "cell_type": "markdown",
      "metadata": {
        "id": "9UgGXY_0u3vl"
      },
      "source": [
        "## 1.4 Retrieve the tweets and set the dataframe"
      ]
    },
    {
      "cell_type": "code",
      "execution_count": null,
      "metadata": {
        "id": "Rk1V_WVPrXs7"
      },
      "outputs": [],
      "source": [
        "# Find the tweets\n",
        "tweets = api.search_full_archive(environment_name='aml2404',\n",
        "                                 fromDate=start_date,\n",
        "                                 toDate=end_date,\n",
        "                                 query=query,\n",
        "                                 maxResults=max_n_tweets)"
      ]
    },
    {
      "cell_type": "code",
      "execution_count": null,
      "metadata": {
        "colab": {
          "base_uri": "https://localhost:8080/"
        },
        "id": "PkVo9p65_Z-i",
        "outputId": "17f0891c-0049-440c-8c43-f8d883ba7f45"
      },
      "outputs": [
        {
          "data": {
            "text/plain": [
              "[Status(_api=<tweepy.api.API object at 0x7f9ad9753f10>, _json={'created_at': 'Sun May 23 23:59:59 +0000 2021', 'id': 1396616935630991361, 'id_str': '1396616935630991361', 'text': 'RT @flurbnb: $120 to one person in 24 hours\\n\\nRetweet &amp; \\n1. Go to https://t.co/xkXkTKZVgT\\n2. Search - CHAD (CHAD)\\n3. Tap the star ⭐ to add t…', 'source': '<a href=\"https://mobile.twitter.com\" rel=\"nofollow\">Twitter Web App</a>', 'truncated': False, 'in_reply_to_status_id': None, 'in_reply_to_status_id_str': None, 'in_reply_to_user_id': None, 'in_reply_to_user_id_str': None, 'in_reply_to_screen_name': None, 'user': {'id': 1395646069971640324, 'id_str': '1395646069971640324', 'name': '✨ 6️⃣5️⃣🎹', 'screen_name': 'pamxlaaaa_', 'location': \"can't access @pamxlaaa_ \", 'url': 'http://paypal.me/pamxlaaa', 'description': '#LegitCutieBabeGem #ILYAngeLQueeN 6️⃣5️⃣🎹 ✨ living by faith ✨ Claiming: #IwonHanabi #InezWinners #LegitFAM #LiT  #AP8testi #tigergang #SobatGarangan', 'translator_type': 'none', 'protected': False, 'verified': False, 'followers_count': 182, 'friends_count': 1324, 'listed_count': 0, 'favourites_count': 2675, 'statuses_count': 8674, 'created_at': 'Fri May 21 07:42:27 +0000 2021', 'utc_offset': None, 'time_zone': None, 'geo_enabled': False, 'lang': None, 'contributors_enabled': False, 'is_translator': False, 'profile_background_color': 'F5F8FA', 'profile_background_image_url': '', 'profile_background_image_url_https': '', 'profile_background_tile': False, 'profile_link_color': '1DA1F2', 'profile_sidebar_border_color': 'C0DEED', 'profile_sidebar_fill_color': 'DDEEF6', 'profile_text_color': '333333', 'profile_use_background_image': True, 'profile_image_url': 'http://pbs.twimg.com/profile_images/1399475506697838592/tkuWjbjS_normal.jpg', 'profile_image_url_https': 'https://pbs.twimg.com/profile_images/1399475506697838592/tkuWjbjS_normal.jpg', 'profile_banner_url': 'https://pbs.twimg.com/profile_banners/1395646069971640324/1622502750', 'default_profile': True, 'default_profile_image': False, 'following': None, 'follow_request_sent': None, 'notifications': None, 'withheld_in_countries': []}, 'geo': None, 'coordinates': None, 'place': None, 'contributors': None, 'retweeted_status': {'created_at': 'Sat May 22 18:21:01 +0000 2021', 'id': 1396169243519963137, 'id_str': '1396169243519963137', 'text': '$120 to one person in 24 hours\\n\\nRetweet &amp; \\n1. Go to https://t.co/xkXkTKZVgT\\n2. Search - CHAD (CHAD)\\n3. Tap the star… https://t.co/5vPRNsjqKg', 'display_text_range': [0, 140], 'source': '<a href=\"https://mobile.twitter.com\" rel=\"nofollow\">Twitter Web App</a>', 'truncated': True, 'in_reply_to_status_id': None, 'in_reply_to_status_id_str': None, 'in_reply_to_user_id': None, 'in_reply_to_user_id_str': None, 'in_reply_to_screen_name': None, 'user': {'id': 1184294344984952833, 'id_str': '1184294344984952833', 'name': 'Flur 🤫 | 📌 $1k giveaway 📌 $FLUR #flurarmy', 'screen_name': 'flurbnb', 'location': 'ONLY DM if you want to SPONSOR', 'url': 'https://www.flurmoon.com', 'description': 'Turn on 🔔 for daily #giveaway / My Project: @FlurMoon $FLUR / My Admin: @flurhi / @flurgrow @flurdraw @flurwinner #flurarmy #BSC / $200k+ given 💰', 'translator_type': 'none', 'protected': False, 'verified': False, 'followers_count': 174972, 'friends_count': 2699, 'listed_count': 313, 'favourites_count': 27579, 'statuses_count': 24632, 'created_at': 'Wed Oct 16 02:27:02 +0000 2019', 'utc_offset': None, 'time_zone': None, 'geo_enabled': True, 'lang': None, 'contributors_enabled': False, 'is_translator': False, 'profile_background_color': 'F5F8FA', 'profile_background_image_url': '', 'profile_background_image_url_https': '', 'profile_background_tile': False, 'profile_link_color': '1DA1F2', 'profile_sidebar_border_color': 'C0DEED', 'profile_sidebar_fill_color': 'DDEEF6', 'profile_text_color': '333333', 'profile_use_background_image': True, 'profile_image_url': 'http://pbs.twimg.com/profile_images/1374821117236416512/sbR1SpCw_normal.jpg', 'profile_image_url_https': 'https://pbs.twimg.com/profile_images/1374821117236416512/sbR1SpCw_normal.jpg', 'profile_banner_url': 'https://pbs.twimg.com/profile_banners/1184294344984952833/1614644374', 'default_profile': True, 'default_profile_image': False, 'following': None, 'follow_request_sent': None, 'notifications': None, 'withheld_in_countries': []}, 'geo': None, 'coordinates': None, 'place': None, 'contributors': None, 'is_quote_status': False, 'extended_tweet': {'full_text': '$120 to one person in 24 hours\\n\\nRetweet &amp; \\n1. Go to https://t.co/xkXkTKZVgT\\n2. Search - CHAD (CHAD)\\n3. Tap the star ⭐ to add to watchlist\\n4. Press 😆\\n4. Post proof\\n\\n#cryptocurrency #cryptocurrencies #cryptocurrencyNews #ethereum #bitcoin #bnb #cryptotwitter #Coinmarketcap https://t.co/oLp90h2QaM', 'display_text_range': [0, 275], 'entities': {'hashtags': [{'text': 'cryptocurrency', 'indices': [168, 183]}, {'text': 'cryptocurrencies', 'indices': [184, 201]}, {'text': 'cryptocurrencyNews', 'indices': [202, 221]}, {'text': 'ethereum', 'indices': [222, 231]}, {'text': 'bitcoin', 'indices': [232, 240]}, {'text': 'bnb', 'indices': [241, 245]}, {'text': 'cryptotwitter', 'indices': [246, 260]}, {'text': 'Coinmarketcap', 'indices': [261, 275]}], 'urls': [{'url': 'https://t.co/xkXkTKZVgT', 'expanded_url': 'http://coinmarketcap.com/', 'display_url': 'coinmarketcap.com', 'indices': [56, 79]}], 'user_mentions': [], 'symbols': [], 'media': [{'id': 1396169137005547522, 'id_str': '1396169137005547522', 'indices': [276, 299], 'media_url': 'http://pbs.twimg.com/media/E2AwbtGUUAItaLX.jpg', 'media_url_https': 'https://pbs.twimg.com/media/E2AwbtGUUAItaLX.jpg', 'url': 'https://t.co/oLp90h2QaM', 'display_url': 'pic.twitter.com/oLp90h2QaM', 'expanded_url': 'https://twitter.com/flurbnb/status/1396169243519963137/photo/1', 'type': 'photo', 'sizes': {'thumb': {'w': 150, 'h': 150, 'resize': 'crop'}, 'small': {'w': 631, 'h': 680, 'resize': 'fit'}, 'medium': {'w': 720, 'h': 776, 'resize': 'fit'}, 'large': {'w': 720, 'h': 776, 'resize': 'fit'}}}, {'id': 1396169144345661447, 'id_str': '1396169144345661447', 'indices': [276, 299], 'media_url': 'http://pbs.twimg.com/media/E2AwcIcVkAc2cLC.jpg', 'media_url_https': 'https://pbs.twimg.com/media/E2AwcIcVkAc2cLC.jpg', 'url': 'https://t.co/oLp90h2QaM', 'display_url': 'pic.twitter.com/oLp90h2QaM', 'expanded_url': 'https://twitter.com/flurbnb/status/1396169243519963137/photo/1', 'type': 'photo', 'sizes': {'thumb': {'w': 150, 'h': 150, 'resize': 'crop'}, 'medium': {'w': 720, 'h': 484, 'resize': 'fit'}, 'large': {'w': 720, 'h': 484, 'resize': 'fit'}, 'small': {'w': 680, 'h': 457, 'resize': 'fit'}}}]}, 'extended_entities': {'media': [{'id': 1396169137005547522, 'id_str': '1396169137005547522', 'indices': [276, 299], 'media_url': 'http://pbs.twimg.com/media/E2AwbtGUUAItaLX.jpg', 'media_url_https': 'https://pbs.twimg.com/media/E2AwbtGUUAItaLX.jpg', 'url': 'https://t.co/oLp90h2QaM', 'display_url': 'pic.twitter.com/oLp90h2QaM', 'expanded_url': 'https://twitter.com/flurbnb/status/1396169243519963137/photo/1', 'type': 'photo', 'sizes': {'thumb': {'w': 150, 'h': 150, 'resize': 'crop'}, 'small': {'w': 631, 'h': 680, 'resize': 'fit'}, 'medium': {'w': 720, 'h': 776, 'resize': 'fit'}, 'large': {'w': 720, 'h': 776, 'resize': 'fit'}}}, {'id': 1396169144345661447, 'id_str': '1396169144345661447', 'indices': [276, 299], 'media_url': 'http://pbs.twimg.com/media/E2AwcIcVkAc2cLC.jpg', 'media_url_https': 'https://pbs.twimg.com/media/E2AwcIcVkAc2cLC.jpg', 'url': 'https://t.co/oLp90h2QaM', 'display_url': 'pic.twitter.com/oLp90h2QaM', 'expanded_url': 'https://twitter.com/flurbnb/status/1396169243519963137/photo/1', 'type': 'photo', 'sizes': {'thumb': {'w': 150, 'h': 150, 'resize': 'crop'}, 'medium': {'w': 720, 'h': 484, 'resize': 'fit'}, 'large': {'w': 720, 'h': 484, 'resize': 'fit'}, 'small': {'w': 680, 'h': 457, 'resize': 'fit'}}}]}}, 'quote_count': 4, 'reply_count': 1488, 'retweet_count': 1373, 'favorite_count': 716, 'entities': {'hashtags': [], 'urls': [{'url': 'https://t.co/xkXkTKZVgT', 'expanded_url': 'http://coinmarketcap.com/', 'display_url': 'coinmarketcap.com', 'indices': [56, 79]}, {'url': 'https://t.co/5vPRNsjqKg', 'expanded_url': 'https://twitter.com/i/web/status/1396169243519963137', 'display_url': 'twitter.com/i/web/status/1…', 'indices': [121, 144]}], 'user_mentions': [], 'symbols': []}, 'favorited': False, 'retweeted': False, 'possibly_sensitive': False, 'filter_level': 'low', 'lang': 'en'}, 'is_quote_status': False, 'quote_count': 0, 'reply_count': 0, 'retweet_count': 0, 'favorite_count': 0, 'entities': {'hashtags': [], 'urls': [{'url': 'https://t.co/xkXkTKZVgT', 'expanded_url': 'http://coinmarketcap.com/', 'display_url': 'coinmarketcap.com', 'indices': [69, 92]}], 'user_mentions': [{'screen_name': 'flurbnb', 'name': 'Flur 🤫 | 📌 $1k giveaway 📌 $FLUR #flurarmy', 'id': 1184294344984952833, 'id_str': '1184294344984952833', 'indices': [3, 11]}], 'symbols': []}, 'favorited': False, 'retweeted': False, 'possibly_sensitive': False, 'filter_level': 'low', 'lang': 'en', 'matching_rules': [{'tag': None}]}, created_at=datetime.datetime(2021, 5, 23, 23, 59, 59), id=1396616935630991361, id_str='1396616935630991361', text='RT @flurbnb: $120 to one person in 24 hours\\n\\nRetweet &amp; \\n1. Go to https://t.co/xkXkTKZVgT\\n2. Search - CHAD (CHAD)\\n3. Tap the star ⭐ to add t…', source='Twitter Web App', source_url='https://mobile.twitter.com', truncated=False, in_reply_to_status_id=None, in_reply_to_status_id_str=None, in_reply_to_user_id=None, in_reply_to_user_id_str=None, in_reply_to_screen_name=None, author=User(_api=<tweepy.api.API object at 0x7f9ad9753f10>, _json={'id': 1395646069971640324, 'id_str': '1395646069971640324', 'name': '✨ 6️⃣5️⃣🎹', 'screen_name': 'pamxlaaaa_', 'location': \"can't access @pamxlaaa_ \", 'url': 'http://paypal.me/pamxlaaa', 'description': '#LegitCutieBabeGem #ILYAngeLQueeN 6️⃣5️⃣🎹 ✨ living by faith ✨ Claiming: #IwonHanabi #InezWinners #LegitFAM #LiT  #AP8testi #tigergang #SobatGarangan', 'translator_type': 'none', 'protected': False, 'verified': False, 'followers_count': 182, 'friends_count': 1324, 'listed_count': 0, 'favourites_count': 2675, 'statuses_count': 8674, 'created_at': 'Fri May 21 07:42:27 +0000 2021', 'utc_offset': None, 'time_zone': None, 'geo_enabled': False, 'lang': None, 'contributors_enabled': False, 'is_translator': False, 'profile_background_color': 'F5F8FA', 'profile_background_image_url': '', 'profile_background_image_url_https': '', 'profile_background_tile': False, 'profile_link_color': '1DA1F2', 'profile_sidebar_border_color': 'C0DEED', 'profile_sidebar_fill_color': 'DDEEF6', 'profile_text_color': '333333', 'profile_use_background_image': True, 'profile_image_url': 'http://pbs.twimg.com/profile_images/1399475506697838592/tkuWjbjS_normal.jpg', 'profile_image_url_https': 'https://pbs.twimg.com/profile_images/1399475506697838592/tkuWjbjS_normal.jpg', 'profile_banner_url': 'https://pbs.twimg.com/profile_banners/1395646069971640324/1622502750', 'default_profile': True, 'default_profile_image': False, 'following': None, 'follow_request_sent': None, 'notifications': None, 'withheld_in_countries': []}, id=1395646069971640324, id_str='1395646069971640324', name='✨ 6️⃣5️⃣🎹', screen_name='pamxlaaaa_', location=\"can't access @pamxlaaa_ \", url='http://paypal.me/pamxlaaa', description='#LegitCutieBabeGem #ILYAngeLQueeN 6️⃣5️⃣🎹 ✨ living by faith ✨ Claiming: #IwonHanabi #InezWinners #LegitFAM #LiT  #AP8testi #tigergang #SobatGarangan', translator_type='none', protected=False, verified=False, followers_count=182, friends_count=1324, listed_count=0, favourites_count=2675, statuses_count=8674, created_at=datetime.datetime(2021, 5, 21, 7, 42, 27), utc_offset=None, time_zone=None, geo_enabled=False, lang=None, contributors_enabled=False, is_translator=False, profile_background_color='F5F8FA', profile_background_image_url='', profile_background_image_url_https='', profile_background_tile=False, profile_link_color='1DA1F2', profile_sidebar_border_color='C0DEED', profile_sidebar_fill_color='DDEEF6', profile_text_color='333333', profile_use_background_image=True, profile_image_url='http://pbs.twimg.com/profile_images/1399475506697838592/tkuWjbjS_normal.jpg', profile_image_url_https='https://pbs.twimg.com/profile_images/1399475506697838592/tkuWjbjS_normal.jpg', profile_banner_url='https://pbs.twimg.com/profile_banners/1395646069971640324/1622502750', default_profile=True, default_profile_image=False, following=False, follow_request_sent=None, notifications=None, withheld_in_countries=[]), user=User(_api=<tweepy.api.API object at 0x7f9ad9753f10>, _json={'id': 1395646069971640324, 'id_str': '1395646069971640324', 'name': '✨ 6️⃣5️⃣🎹', 'screen_name': 'pamxlaaaa_', 'location': \"can't access @pamxlaaa_ \", 'url': 'http://paypal.me/pamxlaaa', 'description': '#LegitCutieBabeGem #ILYAngeLQueeN 6️⃣5️⃣🎹 ✨ living by faith ✨ Claiming: #IwonHanabi #InezWinners #LegitFAM #LiT  #AP8testi #tigergang #SobatGarangan', 'translator_type': 'none', 'protected': False, 'verified': False, 'followers_count': 182, 'friends_count': 1324, 'listed_count': 0, 'favourites_count': 2675, 'statuses_count': 8674, 'created_at': 'Fri May 21 07:42:27 +0000 2021', 'utc_offset': None, 'time_zone': None, 'geo_enabled': False, 'lang': None, 'contributors_enabled': False, 'is_translator': False, 'profile_background_color': 'F5F8FA', 'profile_background_image_url': '', 'profile_background_image_url_https': '', 'profile_background_tile': False, 'profile_link_color': '1DA1F2', 'profile_sidebar_border_color': 'C0DEED', 'profile_sidebar_fill_color': 'DDEEF6', 'profile_text_color': '333333', 'profile_use_background_image': True, 'profile_image_url': 'http://pbs.twimg.com/profile_images/1399475506697838592/tkuWjbjS_normal.jpg', 'profile_image_url_https': 'https://pbs.twimg.com/profile_images/1399475506697838592/tkuWjbjS_normal.jpg', 'profile_banner_url': 'https://pbs.twimg.com/profile_banners/1395646069971640324/1622502750', 'default_profile': True, 'default_profile_image': False, 'following': None, 'follow_request_sent': None, 'notifications': None, 'withheld_in_countries': []}, id=1395646069971640324, id_str='1395646069971640324', name='✨ 6️⃣5️⃣🎹', screen_name='pamxlaaaa_', location=\"can't access @pamxlaaa_ \", url='http://paypal.me/pamxlaaa', description='#LegitCutieBabeGem #ILYAngeLQueeN 6️⃣5️⃣🎹 ✨ living by faith ✨ Claiming: #IwonHanabi #InezWinners #LegitFAM #LiT  #AP8testi #tigergang #SobatGarangan', translator_type='none', protected=False, verified=False, followers_count=182, friends_count=1324, listed_count=0, favourites_count=2675, statuses_count=8674, created_at=datetime.datetime(2021, 5, 21, 7, 42, 27), utc_offset=None, time_zone=None, geo_enabled=False, lang=None, contributors_enabled=False, is_translator=False, profile_background_color='F5F8FA', profile_background_image_url='', profile_background_image_url_https='', profile_background_tile=False, profile_link_color='1DA1F2', profile_sidebar_border_color='C0DEED', profile_sidebar_fill_color='DDEEF6', profile_text_color='333333', profile_use_background_image=True, profile_image_url='http://pbs.twimg.com/profile_images/1399475506697838592/tkuWjbjS_normal.jpg', profile_image_url_https='https://pbs.twimg.com/profile_images/1399475506697838592/tkuWjbjS_normal.jpg', profile_banner_url='https://pbs.twimg.com/profile_banners/1395646069971640324/1622502750', default_profile=True, default_profile_image=False, following=False, follow_request_sent=None, notifications=None, withheld_in_countries=[]), geo=None, coordinates=None, place=None, contributors=None, retweeted_status=Status(_api=<tweepy.api.API object at 0x7f9ad9753f10>, _json={'created_at': 'Sat May 22 18:21:01 +0000 2021', 'id': 1396169243519963137, 'id_str': '1396169243519963137', 'text': '$120 to one person in 24 hours\\n\\nRetweet &amp; \\n1. Go to https://t.co/xkXkTKZVgT\\n2. Search - CHAD (CHAD)\\n3. Tap the star… https://t.co/5vPRNsjqKg', 'display_text_range': [0, 140], 'source': '<a href=\"https://mobile.twitter.com\" rel=\"nofollow\">Twitter Web App</a>', 'truncated': True, 'in_reply_to_status_id': None, 'in_reply_to_status_id_str': None, 'in_reply_to_user_id': None, 'in_reply_to_user_id_str': None, 'in_reply_to_screen_name': None, 'user': {'id': 1184294344984952833, 'id_str': '1184294344984952833', 'name': 'Flur 🤫 | 📌 $1k giveaway 📌 $FLUR #flurarmy', 'screen_name': 'flurbnb', 'location': 'ONLY DM if you want to SPONSOR', 'url': 'https://www.flurmoon.com', 'description': 'Turn on 🔔 for daily #giveaway / My Project: @FlurMoon $FLUR / My Admin: @flurhi / @flurgrow @flurdraw @flurwinner #flurarmy #BSC / $200k+ given 💰', 'translator_type': 'none', 'protected': False, 'verified': False, 'followers_count': 174972, 'friends_count': 2699, 'listed_count': 313, 'favourites_count': 27579, 'statuses_count': 24632, 'created_at': 'Wed Oct 16 02:27:02 +0000 2019', 'utc_offset': None, 'time_zone': None, 'geo_enabled': True, 'lang': None, 'contributors_enabled': False, 'is_translator': False, 'profile_background_color': 'F5F8FA', 'profile_background_image_url': '', 'profile_background_image_url_https': '', 'profile_background_tile': False, 'profile_link_color': '1DA1F2', 'profile_sidebar_border_color': 'C0DEED', 'profile_sidebar_fill_color': 'DDEEF6', 'profile_text_color': '333333', 'profile_use_background_image': True, 'profile_image_url': 'http://pbs.twimg.com/profile_images/1374821117236416512/sbR1SpCw_normal.jpg', 'profile_image_url_https': 'https://pbs.twimg.com/profile_images/1374821117236416512/sbR1SpCw_normal.jpg', 'profile_banner_url': 'https://pbs.twimg.com/profile_banners/1184294344984952833/1614644374', 'default_profile': True, 'default_profile_image': False, 'following': None, 'follow_request_sent': None, 'notifications': None, 'withheld_in_countries': []}, 'geo': None, 'coordinates': None, 'place': None, 'contributors': None, 'is_quote_status': False, 'extended_tweet': {'full_text': '$120 to one person in 24 hours\\n\\nRetweet &amp; \\n1. Go to https://t.co/xkXkTKZVgT\\n2. Search - CHAD (CHAD)\\n3. Tap the star ⭐ to add to watchlist\\n4. Press 😆\\n4. Post proof\\n\\n#cryptocurrency #cryptocurrencies #cryptocurrencyNews #ethereum #bitcoin #bnb #cryptotwitter #Coinmarketcap https://t.co/oLp90h2QaM', 'display_text_range': [0, 275], 'entities': {'hashtags': [{'text': 'cryptocurrency', 'indices': [168, 183]}, {'text': 'cryptocurrencies', 'indices': [184, 201]}, {'text': 'cryptocurrencyNews', 'indices': [202, 221]}, {'text': 'ethereum', 'indices': [222, 231]}, {'text': 'bitcoin', 'indices': [232, 240]}, {'text': 'bnb', 'indices': [241, 245]}, {'text': 'cryptotwitter', 'indices': [246, 260]}, {'text': 'Coinmarketcap', 'indices': [261, 275]}], 'urls': [{'url': 'https://t.co/xkXkTKZVgT', 'expanded_url': 'http://coinmarketcap.com/', 'display_url': 'coinmarketcap.com', 'indices': [56, 79]}], 'user_mentions': [], 'symbols': [], 'media': [{'id': 1396169137005547522, 'id_str': '1396169137005547522', 'indices': [276, 299], 'media_url': 'http://pbs.twimg.com/media/E2AwbtGUUAItaLX.jpg', 'media_url_https': 'https://pbs.twimg.com/media/E2AwbtGUUAItaLX.jpg', 'url': 'https://t.co/oLp90h2QaM', 'display_url': 'pic.twitter.com/oLp90h2QaM', 'expanded_url': 'https://twitter.com/flurbnb/status/1396169243519963137/photo/1', 'type': 'photo', 'sizes': {'thumb': {'w': 150, 'h': 150, 'resize': 'crop'}, 'small': {'w': 631, 'h': 680, 'resize': 'fit'}, 'medium': {'w': 720, 'h': 776, 'resize': 'fit'}, 'large': {'w': 720, 'h': 776, 'resize': 'fit'}}}, {'id': 1396169144345661447, 'id_str': '1396169144345661447', 'indices': [276, 299], 'media_url': 'http://pbs.twimg.com/media/E2AwcIcVkAc2cLC.jpg', 'media_url_https': 'https://pbs.twimg.com/media/E2AwcIcVkAc2cLC.jpg', 'url': 'https://t.co/oLp90h2QaM', 'display_url': 'pic.twitter.com/oLp90h2QaM', 'expanded_url': 'https://twitter.com/flurbnb/status/1396169243519963137/photo/1', 'type': 'photo', 'sizes': {'thumb': {'w': 150, 'h': 150, 'resize': 'crop'}, 'medium': {'w': 720, 'h': 484, 'resize': 'fit'}, 'large': {'w': 720, 'h': 484, 'resize': 'fit'}, 'small': {'w': 680, 'h': 457, 'resize': 'fit'}}}]}, 'extended_entities': {'media': [{'id': 1396169137005547522, 'id_str': '1396169137005547522', 'indices': [276, 299], 'media_url': 'http://pbs.twimg.com/media/E2AwbtGUUAItaLX.jpg', 'media_url_https': 'https://pbs.twimg.com/media/E2AwbtGUUAItaLX.jpg', 'url': 'https://t.co/oLp90h2QaM', 'display_url': 'pic.twitter.com/oLp90h2QaM', 'expanded_url': 'https://twitter.com/flurbnb/status/1396169243519963137/photo/1', 'type': 'photo', 'sizes': {'thumb': {'w': 150, 'h': 150, 'resize': 'crop'}, 'small': {'w': 631, 'h': 680, 'resize': 'fit'}, 'medium': {'w': 720, 'h': 776, 'resize': 'fit'}, 'large': {'w': 720, 'h': 776, 'resize': 'fit'}}}, {'id': 1396169144345661447, 'id_str': '1396169144345661447', 'indices': [276, 299], 'media_url': 'http://pbs.twimg.com/media/E2AwcIcVkAc2cLC.jpg', 'media_url_https': 'https://pbs.twimg.com/media/E2AwcIcVkAc2cLC.jpg', 'url': 'https://t.co/oLp90h2QaM', 'display_url': 'pic.twitter.com/oLp90h2QaM', 'expanded_url': 'https://twitter.com/flurbnb/status/1396169243519963137/photo/1', 'type': 'photo', 'sizes': {'thumb': {'w': 150, 'h': 150, 'resize': 'crop'}, 'medium': {'w': 720, 'h': 484, 'resize': 'fit'}, 'large': {'w': 720, 'h': 484, 'resize': 'fit'}, 'small': {'w': 680, 'h': 457, 'resize': 'fit'}}}]}}, 'quote_count': 4, 'reply_count': 1488, 'retweet_count': 1373, 'favorite_count': 716, 'entities': {'hashtags': [], 'urls': [{'url': 'https://t.co/xkXkTKZVgT', 'expanded_url': 'http://coinmarketcap.com/', 'display_url': 'coinmarketcap.com', 'indices': [56, 79]}, {'url': 'https://t.co/5vPRNsjqKg', 'expanded_url': 'https://twitter.com/i/web/status/1396169243519963137', 'display_url': 'twitter.com/i/web/status/1…', 'indices': [121, 144]}], 'user_mentions': [], 'symbols': []}, 'favorited': False, 'retweeted': False, 'possibly_sensitive': False, 'filter_level': 'low', 'lang': 'en'}, created_at=datetime.datetime(2021, 5, 22, 18, 21, 1), id=1396169243519963137, id_str='1396169243519963137', text='$120 to one person in 24 hours\\n\\nRetweet &amp; \\n1. Go to https://t.co/xkXkTKZVgT\\n2. Search - CHAD (CHAD)\\n3. Tap the star… https://t.co/5vPRNsjqKg', display_text_range=[0, 140], source='Twitter Web App', source_url='https://mobile.twitter.com', truncated=True, in_reply_to_status_id=None, in_reply_to_status_id_str=None, in_reply_to_user_id=None, in_reply_to_user_id_str=None, in_reply_to_screen_name=None, author=User(_api=<tweepy.api.API object at 0x7f9ad9753f10>, _json={'id': 1184294344984952833, 'id_str': '1184294344984952833', 'name': 'Flur 🤫 | 📌 $1k giveaway 📌 $FLUR #flurarmy', 'screen_name': 'flurbnb', 'location': 'ONLY DM if you want to SPONSOR', 'url': 'https://www.flurmoon.com', 'description': 'Turn on 🔔 for daily #giveaway / My Project: @FlurMoon $FLUR / My Admin: @flurhi / @flurgrow @flurdraw @flurwinner #flurarmy #BSC / $200k+ given 💰', 'translator_type': 'none', 'protected': False, 'verified': False, 'followers_count': 174972, 'friends_count': 2699, 'listed_count': 313, 'favourites_count': 27579, 'statuses_count': 24632, 'created_at': 'Wed Oct 16 02:27:02 +0000 2019', 'utc_offset': None, 'time_zone': None, 'geo_enabled': True, 'lang': None, 'contributors_enabled': False, 'is_translator': False, 'profile_background_color': 'F5F8FA', 'profile_background_image_url': '', 'profile_background_image_url_https': '', 'profile_background_tile': False, 'profile_link_color': '1DA1F2', 'profile_sidebar_border_color': 'C0DEED', 'profile_sidebar_fill_color': 'DDEEF6', 'profile_text_color': '333333', 'profile_use_background_image': True, 'profile_image_url': 'http://pbs.twimg.com/profile_images/1374821117236416512/sbR1SpCw_normal.jpg', 'profile_image_url_https': 'https://pbs.twimg.com/profile_images/1374821117236416512/sbR1SpCw_normal.jpg', 'profile_banner_url': 'https://pbs.twimg.com/profile_banners/1184294344984952833/1614644374', 'default_profile': True, 'default_profile_image': False, 'following': None, 'follow_request_sent': None, 'notifications': None, 'withheld_in_countries': []}, id=1184294344984952833, id_str='1184294344984952833', name='Flur 🤫 | 📌 $1k giveaway 📌 $FLUR #flurarmy', screen_name='flurbnb', location='ONLY DM if you want to SPONSOR', url='https://www.flurmoon.com', description='Turn on 🔔 for daily #giveaway / My Project: @FlurMoon $FLUR / My Admin: @flurhi / @flurgrow @flurdraw @flurwinner #flurarmy #BSC / $200k+ given 💰', translator_type='none', protected=False, verified=False, followers_count=174972, friends_count=2699, listed_count=313, favourites_count=27579, statuses_count=24632, created_at=datetime.datetime(2019, 10, 16, 2, 27, 2), utc_offset=None, time_zone=None, geo_enabled=True, lang=None, contributors_enabled=False, is_translator=False, profile_background_color='F5F8FA', profile_background_image_url='', profile_background_image_url_https='', profile_background_tile=False, profile_link_color='1DA1F2', profile_sidebar_border_color='C0DEED', profile_sidebar_fill_color='DDEEF6', profile_text_color='333333', profile_use_background_image=True, profile_image_url='http://pbs.twimg.com/profile_images/1374821117236416512/sbR1SpCw_normal.jpg', profile_image_url_https='https://pbs.twimg.com/profile_images/1374821117236416512/sbR1SpCw_normal.jpg', profile_banner_url='https://pbs.twimg.com/profile_banners/1184294344984952833/1614644374', default_profile=True, default_profile_image=False, following=False, follow_request_sent=None, notifications=None, withheld_in_countries=[]), user=User(_api=<tweepy.api.API object at 0x7f9ad9753f10>, _json={'id': 1184294344984952833, 'id_str': '1184294344984952833', 'name': 'Flur 🤫 | 📌 $1k giveaway 📌 $FLUR #flurarmy', 'screen_name': 'flurbnb', 'location': 'ONLY DM if you want to SPONSOR', 'url': 'https://www.flurmoon.com', 'description': 'Turn on 🔔 for daily #giveaway / My Project: @FlurMoon $FLUR / My Admin: @flurhi / @flurgrow @flurdraw @flurwinner #flurarmy #BSC / $200k+ given 💰', 'translator_type': 'none', 'protected': False, 'verified': False, 'followers_count': 174972, 'friends_count': 2699, 'listed_count': 313, 'favourites_count': 27579, 'statuses_count': 24632, 'created_at': 'Wed Oct 16 02:27:02 +0000 2019', 'utc_offset': None, 'time_zone': None, 'geo_enabled': True, 'lang': None, 'contributors_enabled': False, 'is_translator': False, 'profile_background_color': 'F5F8FA', 'profile_background_image_url': '', 'profile_background_image_url_https': '', 'profile_background_tile': False, 'profile_link_color': '1DA1F2', 'profile_sidebar_border_color': 'C0DEED', 'profile_sidebar_fill_color': 'DDEEF6', 'profile_text_color': '333333', 'profile_use_background_image': True, 'profile_image_url': 'http://pbs.twimg.com/profile_images/1374821117236416512/sbR1SpCw_normal.jpg', 'profile_image_url_https': 'https://pbs.twimg.com/profile_images/1374821117236416512/sbR1SpCw_normal.jpg', 'profile_banner_url': 'https://pbs.twimg.com/profile_banners/1184294344984952833/1614644374', 'default_profile': True, 'default_profile_image': False, 'following': None, 'follow_request_sent': None, 'notifications': None, 'withheld_in_countries': []}, id=1184294344984952833, id_str='1184294344984952833', name='Flur 🤫 | 📌 $1k giveaway 📌 $FLUR #flurarmy', screen_name='flurbnb', location='ONLY DM if you want to SPONSOR', url='https://www.flurmoon.com', description='Turn on 🔔 for daily #giveaway / My Project: @FlurMoon $FLUR / My Admin: @flurhi / @flurgrow @flurdraw @flurwinner #flurarmy #BSC / $200k+ given 💰', translator_type='none', protected=False, verified=False, followers_count=174972, friends_count=2699, listed_count=313, favourites_count=27579, statuses_count=24632, created_at=datetime.datetime(2019, 10, 16, 2, 27, 2), utc_offset=None, time_zone=None, geo_enabled=True, lang=None, contributors_enabled=False, is_translator=False, profile_background_color='F5F8FA', profile_background_image_url='', profile_background_image_url_https='', profile_background_tile=False, profile_link_color='1DA1F2', profile_sidebar_border_color='C0DEED', profile_sidebar_fill_color='DDEEF6', profile_text_color='333333', profile_use_background_image=True, profile_image_url='http://pbs.twimg.com/profile_images/1374821117236416512/sbR1SpCw_normal.jpg', profile_image_url_https='https://pbs.twimg.com/profile_images/1374821117236416512/sbR1SpCw_normal.jpg', profile_banner_url='https://pbs.twimg.com/profile_banners/1184294344984952833/1614644374', default_profile=True, default_profile_image=False, following=False, follow_request_sent=None, notifications=None, withheld_in_countries=[]), geo=None, coordinates=None, place=None, contributors=None, is_quote_status=False, extended_tweet={'full_text': '$120 to one person in 24 hours\\n\\nRetweet &amp; \\n1. Go to https://t.co/xkXkTKZVgT\\n2. Search - CHAD (CHAD)\\n3. Tap the star ⭐ to add to watchlist\\n4. Press 😆\\n4. Post proof\\n\\n#cryptocurrency #cryptocurrencies #cryptocurrencyNews #ethereum #bitcoin #bnb #cryptotwitter #Coinmarketcap https://t.co/oLp90h2QaM', 'display_text_range': [0, 275], 'entities': {'hashtags': [{'text': 'cryptocurrency', 'indices': [168, 183]}, {'text': 'cryptocurrencies', 'indices': [184, 201]}, {'text': 'cryptocurrencyNews', 'indices': [202, 221]}, {'text': 'ethereum', 'indices': [222, 231]}, {'text': 'bitcoin', 'indices': [232, 240]}, {'text': 'bnb', 'indices': [241, 245]}, {'text': 'cryptotwitter', 'indices': [246, 260]}, {'text': 'Coinmarketcap', 'indices': [261, 275]}], 'urls': [{'url': 'https://t.co/xkXkTKZVgT', 'expanded_url': 'http://coinmarketcap.com/', 'display_url': 'coinmarketcap.com', 'indices': [56, 79]}], 'user_mentions': [], 'symbols': [], 'media': [{'id': 1396169137005547522, 'id_str': '1396169137005547522', 'indices': [276, 299], 'media_url': 'http://pbs.twimg.com/media/E2AwbtGUUAItaLX.jpg', 'media_url_https': 'https://pbs.twimg.com/media/E2AwbtGUUAItaLX.jpg', 'url': 'https://t.co/oLp90h2QaM', 'display_url': 'pic.twitter.com/oLp90h2QaM', 'expanded_url': 'https://twitter.com/flurbnb/status/1396169243519963137/photo/1', 'type': 'photo', 'sizes': {'thumb': {'w': 150, 'h': 150, 'resize': 'crop'}, 'small': {'w': 631, 'h': 680, 'resize': 'fit'}, 'medium': {'w': 720, 'h': 776, 'resize': 'fit'}, 'large': {'w': 720, 'h': 776, 'resize': 'fit'}}}, {'id': 1396169144345661447, 'id_str': '1396169144345661447', 'indices': [276, 299], 'media_url': 'http://pbs.twimg.com/media/E2AwcIcVkAc2cLC.jpg', 'media_url_https': 'https://pbs.twimg.com/media/E2AwcIcVkAc2cLC.jpg', 'url': 'https://t.co/oLp90h2QaM', 'display_url': 'pic.twitter.com/oLp90h2QaM', 'expanded_url': 'https://twitter.com/flurbnb/status/1396169243519963137/photo/1', 'type': 'photo', 'sizes': {'thumb': {'w': 150, 'h': 150, 'resize': 'crop'}, 'medium': {'w': 720, 'h': 484, 'resize': 'fit'}, 'large': {'w': 720, 'h': 484, 'resize': 'fit'}, 'small': {'w': 680, 'h': 457, 'resize': 'fit'}}}]}, 'extended_entities': {'media': [{'id': 1396169137005547522, 'id_str': '1396169137005547522', 'indices': [276, 299], 'media_url': 'http://pbs.twimg.com/media/E2AwbtGUUAItaLX.jpg', 'media_url_https': 'https://pbs.twimg.com/media/E2AwbtGUUAItaLX.jpg', 'url': 'https://t.co/oLp90h2QaM', 'display_url': 'pic.twitter.com/oLp90h2QaM', 'expanded_url': 'https://twitter.com/flurbnb/status/1396169243519963137/photo/1', 'type': 'photo', 'sizes': {'thumb': {'w': 150, 'h': 150, 'resize': 'crop'}, 'small': {'w': 631, 'h': 680, 'resize': 'fit'}, 'medium': {'w': 720, 'h': 776, 'resize': 'fit'}, 'large': {'w': 720, 'h': 776, 'resize': 'fit'}}}, {'id': 1396169144345661447, 'id_str': '1396169144345661447', 'indices': [276, 299], 'media_url': 'http://pbs.twimg.com/media/E2AwcIcVkAc2cLC.jpg', 'media_url_https': 'https://pbs.twimg.com/media/E2AwcIcVkAc2cLC.jpg', 'url': 'https://t.co/oLp90h2QaM', 'display_url': 'pic.twitter.com/oLp90h2QaM', 'expanded_url': 'https://twitter.com/flurbnb/status/1396169243519963137/photo/1', 'type': 'photo', 'sizes': {'thumb': {'w': 150, 'h': 150, 'resize': 'crop'}, 'medium': {'w': 720, 'h': 484, 'resize': 'fit'}, 'large': {'w': 720, 'h': 484, 'resize': 'fit'}, 'small': {'w': 680, 'h': 457, 'resize': 'fit'}}}]}}, quote_count=4, reply_count=1488, retweet_count=1373, favorite_count=716, entities={'hashtags': [], 'urls': [{'url': 'https://t.co/xkXkTKZVgT', 'expanded_url': 'http://coinmarketcap.com/', 'display_url': 'coinmarketcap.com', 'indices': [56, 79]}, {'url': 'https://t.co/5vPRNsjqKg', 'expanded_url': 'https://twitter.com/i/web/status/1396169243519963137', 'display_url': 'twitter.com/i/web/status/1…', 'indices': [121, 144]}], 'user_mentions': [], 'symbols': []}, favorited=False, retweeted=False, possibly_sensitive=False, filter_level='low', lang='en'), is_quote_status=False, quote_count=0, reply_count=0, retweet_count=0, favorite_count=0, entities={'hashtags': [], 'urls': [{'url': 'https://t.co/xkXkTKZVgT', 'expanded_url': 'http://coinmarketcap.com/', 'display_url': 'coinmarketcap.com', 'indices': [69, 92]}], 'user_mentions': [{'screen_name': 'flurbnb', 'name': 'Flur 🤫 | 📌 $1k giveaway 📌 $FLUR #flurarmy', 'id': 1184294344984952833, 'id_str': '1184294344984952833', 'indices': [3, 11]}], 'symbols': []}, favorited=False, retweeted=False, possibly_sensitive=False, filter_level='low', lang='en', matching_rules=[{'tag': None}]),\n",
              " Status(_api=<tweepy.api.API object at 0x7f9ad9753f10>, _json={'created_at': 'Sun May 23 23:59:59 +0000 2021', 'id': 1396616934834200577, 'id_str': '1396616934834200577', 'text': 'RT @BTC_Archive: #Bitcoin chart - 4 hour\\nMACD looks to be forming a bottom. \\nStrong rebound on the cards, but when? 🤷🏻\\u200d♂️ https://t.co/TYPm…', 'source': '<a href=\"https://mobile.twitter.com\" rel=\"nofollow\">Twitter Web App</a>', 'truncated': False, 'in_reply_to_status_id': None, 'in_reply_to_status_id_str': None, 'in_reply_to_user_id': None, 'in_reply_to_user_id_str': None, 'in_reply_to_screen_name': None, 'user': {'id': 483064211, 'id_str': '483064211', 'name': 'Alex Morgan', 'screen_name': 'AlexMorgan1984', 'location': None, 'url': None, 'description': 'Find your own wise quotes.\\n\\n#Bitcoin #Ethereum #Crypto', 'translator_type': 'none', 'protected': False, 'verified': False, 'followers_count': 405, 'friends_count': 729, 'listed_count': 9, 'favourites_count': 38649, 'statuses_count': 12074, 'created_at': 'Sat Feb 04 16:11:38 +0000 2012', 'utc_offset': None, 'time_zone': None, 'geo_enabled': False, 'lang': None, 'contributors_enabled': False, 'is_translator': False, 'profile_background_color': 'C6E2EE', 'profile_background_image_url': 'http://abs.twimg.com/images/themes/theme2/bg.gif', 'profile_background_image_url_https': 'https://abs.twimg.com/images/themes/theme2/bg.gif', 'profile_background_tile': False, 'profile_link_color': '1F98C7', 'profile_sidebar_border_color': 'C6E2EE', 'profile_sidebar_fill_color': 'DAECF4', 'profile_text_color': '663B12', 'profile_use_background_image': True, 'profile_image_url': 'http://pbs.twimg.com/profile_images/1394989196864000001/FgXnVjt6_normal.jpg', 'profile_image_url_https': 'https://pbs.twimg.com/profile_images/1394989196864000001/FgXnVjt6_normal.jpg', 'profile_banner_url': 'https://pbs.twimg.com/profile_banners/483064211/1621426317', 'default_profile': False, 'default_profile_image': False, 'following': None, 'follow_request_sent': None, 'notifications': None, 'withheld_in_countries': []}, 'geo': None, 'coordinates': None, 'place': None, 'contributors': None, 'retweeted_status': {'created_at': 'Sun May 23 13:29:02 +0000 2021', 'id': 1396458148089769994, 'id_str': '1396458148089769994', 'text': '#Bitcoin chart - 4 hour\\nMACD looks to be forming a bottom. \\nStrong rebound on the cards, but when? 🤷🏻\\u200d♂️ https://t.co/TYPmYuUHQ5', 'display_text_range': [0, 104], 'source': '<a href=\"http://twitter.com/download/iphone\" rel=\"nofollow\">Twitter for iPhone</a>', 'truncated': False, 'in_reply_to_status_id': None, 'in_reply_to_status_id_str': None, 'in_reply_to_user_id': None, 'in_reply_to_user_id_str': None, 'in_reply_to_screen_name': None, 'user': {'id': 970994516357472257, 'id_str': '970994516357472257', 'name': 'Bitcoin Archive 🗄🚀🌔', 'screen_name': 'BTC_Archive', 'location': 'Decentralised', 'url': None, 'description': '#Bitcoin \\nAnalysis & market commentary 🚀🌔  \\nhttp://bitcoinarchive.substack.com', 'translator_type': 'none', 'protected': False, 'verified': False, 'followers_count': 312487, 'friends_count': 530, 'listed_count': 1922, 'favourites_count': 80051, 'statuses_count': 13128, 'created_at': 'Tue Mar 06 12:08:27 +0000 2018', 'utc_offset': None, 'time_zone': None, 'geo_enabled': False, 'lang': None, 'contributors_enabled': False, 'is_translator': False, 'profile_background_color': 'F5F8FA', 'profile_background_image_url': '', 'profile_background_image_url_https': '', 'profile_background_tile': False, 'profile_link_color': '1DA1F2', 'profile_sidebar_border_color': 'C0DEED', 'profile_sidebar_fill_color': 'DDEEF6', 'profile_text_color': '333333', 'profile_use_background_image': True, 'profile_image_url': 'http://pbs.twimg.com/profile_images/1362740544741466128/yJ99sdb4_normal.jpg', 'profile_image_url_https': 'https://pbs.twimg.com/profile_images/1362740544741466128/yJ99sdb4_normal.jpg', 'profile_banner_url': 'https://pbs.twimg.com/profile_banners/970994516357472257/1613812203', 'default_profile': True, 'default_profile_image': False, 'following': None, 'follow_request_sent': None, 'notifications': None, 'withheld_in_countries': []}, 'geo': None, 'coordinates': None, 'place': None, 'contributors': None, 'is_quote_status': False, 'quote_count': 20, 'reply_count': 268, 'retweet_count': 359, 'favorite_count': 2634, 'entities': {'hashtags': [{'text': 'Bitcoin', 'indices': [0, 8]}], 'urls': [], 'user_mentions': [], 'symbols': [], 'media': [{'id': 1396458143878680577, 'id_str': '1396458143878680577', 'indices': [105, 128], 'media_url': 'http://pbs.twimg.com/media/E2E3SHmXEAEab90.jpg', 'media_url_https': 'https://pbs.twimg.com/media/E2E3SHmXEAEab90.jpg', 'url': 'https://t.co/TYPmYuUHQ5', 'display_url': 'pic.twitter.com/TYPmYuUHQ5', 'expanded_url': 'https://twitter.com/BTC_Archive/status/1396458148089769994/photo/1', 'type': 'photo', 'sizes': {'small': {'w': 680, 'h': 334, 'resize': 'fit'}, 'thumb': {'w': 150, 'h': 150, 'resize': 'crop'}, 'large': {'w': 2048, 'h': 1006, 'resize': 'fit'}, 'medium': {'w': 1200, 'h': 589, 'resize': 'fit'}}}]}, 'extended_entities': {'media': [{'id': 1396458143878680577, 'id_str': '1396458143878680577', 'indices': [105, 128], 'media_url': 'http://pbs.twimg.com/media/E2E3SHmXEAEab90.jpg', 'media_url_https': 'https://pbs.twimg.com/media/E2E3SHmXEAEab90.jpg', 'url': 'https://t.co/TYPmYuUHQ5', 'display_url': 'pic.twitter.com/TYPmYuUHQ5', 'expanded_url': 'https://twitter.com/BTC_Archive/status/1396458148089769994/photo/1', 'type': 'photo', 'sizes': {'small': {'w': 680, 'h': 334, 'resize': 'fit'}, 'thumb': {'w': 150, 'h': 150, 'resize': 'crop'}, 'large': {'w': 2048, 'h': 1006, 'resize': 'fit'}, 'medium': {'w': 1200, 'h': 589, 'resize': 'fit'}}}]}, 'favorited': False, 'retweeted': False, 'possibly_sensitive': False, 'filter_level': 'low', 'lang': 'en'}, 'is_quote_status': False, 'quote_count': 0, 'reply_count': 0, 'retweet_count': 0, 'favorite_count': 0, 'entities': {'hashtags': [{'text': 'Bitcoin', 'indices': [17, 25]}], 'urls': [], 'user_mentions': [{'screen_name': 'BTC_Archive', 'name': 'Bitcoin Archive 🗄🚀🌔', 'id': 970994516357472257, 'id_str': '970994516357472257', 'indices': [3, 15]}], 'symbols': []}, 'favorited': False, 'retweeted': False, 'filter_level': 'low', 'lang': 'en', 'matching_rules': [{'tag': None}]}, created_at=datetime.datetime(2021, 5, 23, 23, 59, 59), id=1396616934834200577, id_str='1396616934834200577', text='RT @BTC_Archive: #Bitcoin chart - 4 hour\\nMACD looks to be forming a bottom. \\nStrong rebound on the cards, but when? 🤷🏻\\u200d♂️ https://t.co/TYPm…', source='Twitter Web App', source_url='https://mobile.twitter.com', truncated=False, in_reply_to_status_id=None, in_reply_to_status_id_str=None, in_reply_to_user_id=None, in_reply_to_user_id_str=None, in_reply_to_screen_name=None, author=User(_api=<tweepy.api.API object at 0x7f9ad9753f10>, _json={'id': 483064211, 'id_str': '483064211', 'name': 'Alex Morgan', 'screen_name': 'AlexMorgan1984', 'location': None, 'url': None, 'description': 'Find your own wise quotes.\\n\\n#Bitcoin #Ethereum #Crypto', 'translator_type': 'none', 'protected': False, 'verified': False, 'followers_count': 405, 'friends_count': 729, 'listed_count': 9, 'favourites_count': 38649, 'statuses_count': 12074, 'created_at': 'Sat Feb 04 16:11:38 +0000 2012', 'utc_offset': None, 'time_zone': None, 'geo_enabled': False, 'lang': None, 'contributors_enabled': False, 'is_translator': False, 'profile_background_color': 'C6E2EE', 'profile_background_image_url': 'http://abs.twimg.com/images/themes/theme2/bg.gif', 'profile_background_image_url_https': 'https://abs.twimg.com/images/themes/theme2/bg.gif', 'profile_background_tile': False, 'profile_link_color': '1F98C7', 'profile_sidebar_border_color': 'C6E2EE', 'profile_sidebar_fill_color': 'DAECF4', 'profile_text_color': '663B12', 'profile_use_background_image': True, 'profile_image_url': 'http://pbs.twimg.com/profile_images/1394989196864000001/FgXnVjt6_normal.jpg', 'profile_image_url_https': 'https://pbs.twimg.com/profile_images/1394989196864000001/FgXnVjt6_normal.jpg', 'profile_banner_url': 'https://pbs.twimg.com/profile_banners/483064211/1621426317', 'default_profile': False, 'default_profile_image': False, 'following': None, 'follow_request_sent': None, 'notifications': None, 'withheld_in_countries': []}, id=483064211, id_str='483064211', name='Alex Morgan', screen_name='AlexMorgan1984', location=None, url=None, description='Find your own wise quotes.\\n\\n#Bitcoin #Ethereum #Crypto', translator_type='none', protected=False, verified=False, followers_count=405, friends_count=729, listed_count=9, favourites_count=38649, statuses_count=12074, created_at=datetime.datetime(2012, 2, 4, 16, 11, 38), utc_offset=None, time_zone=None, geo_enabled=False, lang=None, contributors_enabled=False, is_translator=False, profile_background_color='C6E2EE', profile_background_image_url='http://abs.twimg.com/images/themes/theme2/bg.gif', profile_background_image_url_https='https://abs.twimg.com/images/themes/theme2/bg.gif', profile_background_tile=False, profile_link_color='1F98C7', profile_sidebar_border_color='C6E2EE', profile_sidebar_fill_color='DAECF4', profile_text_color='663B12', profile_use_background_image=True, profile_image_url='http://pbs.twimg.com/profile_images/1394989196864000001/FgXnVjt6_normal.jpg', profile_image_url_https='https://pbs.twimg.com/profile_images/1394989196864000001/FgXnVjt6_normal.jpg', profile_banner_url='https://pbs.twimg.com/profile_banners/483064211/1621426317', default_profile=False, default_profile_image=False, following=False, follow_request_sent=None, notifications=None, withheld_in_countries=[]), user=User(_api=<tweepy.api.API object at 0x7f9ad9753f10>, _json={'id': 483064211, 'id_str': '483064211', 'name': 'Alex Morgan', 'screen_name': 'AlexMorgan1984', 'location': None, 'url': None, 'description': 'Find your own wise quotes.\\n\\n#Bitcoin #Ethereum #Crypto', 'translator_type': 'none', 'protected': False, 'verified': False, 'followers_count': 405, 'friends_count': 729, 'listed_count': 9, 'favourites_count': 38649, 'statuses_count': 12074, 'created_at': 'Sat Feb 04 16:11:38 +0000 2012', 'utc_offset': None, 'time_zone': None, 'geo_enabled': False, 'lang': None, 'contributors_enabled': False, 'is_translator': False, 'profile_background_color': 'C6E2EE', 'profile_background_image_url': 'http://abs.twimg.com/images/themes/theme2/bg.gif', 'profile_background_image_url_https': 'https://abs.twimg.com/images/themes/theme2/bg.gif', 'profile_background_tile': False, 'profile_link_color': '1F98C7', 'profile_sidebar_border_color': 'C6E2EE', 'profile_sidebar_fill_color': 'DAECF4', 'profile_text_color': '663B12', 'profile_use_background_image': True, 'profile_image_url': 'http://pbs.twimg.com/profile_images/1394989196864000001/FgXnVjt6_normal.jpg', 'profile_image_url_https': 'https://pbs.twimg.com/profile_images/1394989196864000001/FgXnVjt6_normal.jpg', 'profile_banner_url': 'https://pbs.twimg.com/profile_banners/483064211/1621426317', 'default_profile': False, 'default_profile_image': False, 'following': None, 'follow_request_sent': None, 'notifications': None, 'withheld_in_countries': []}, id=483064211, id_str='483064211', name='Alex Morgan', screen_name='AlexMorgan1984', location=None, url=None, description='Find your own wise quotes.\\n\\n#Bitcoin #Ethereum #Crypto', translator_type='none', protected=False, verified=False, followers_count=405, friends_count=729, listed_count=9, favourites_count=38649, statuses_count=12074, created_at=datetime.datetime(2012, 2, 4, 16, 11, 38), utc_offset=None, time_zone=None, geo_enabled=False, lang=None, contributors_enabled=False, is_translator=False, profile_background_color='C6E2EE', profile_background_image_url='http://abs.twimg.com/images/themes/theme2/bg.gif', profile_background_image_url_https='https://abs.twimg.com/images/themes/theme2/bg.gif', profile_background_tile=False, profile_link_color='1F98C7', profile_sidebar_border_color='C6E2EE', profile_sidebar_fill_color='DAECF4', profile_text_color='663B12', profile_use_background_image=True, profile_image_url='http://pbs.twimg.com/profile_images/1394989196864000001/FgXnVjt6_normal.jpg', profile_image_url_https='https://pbs.twimg.com/profile_images/1394989196864000001/FgXnVjt6_normal.jpg', profile_banner_url='https://pbs.twimg.com/profile_banners/483064211/1621426317', default_profile=False, default_profile_image=False, following=False, follow_request_sent=None, notifications=None, withheld_in_countries=[]), geo=None, coordinates=None, place=None, contributors=None, retweeted_status=Status(_api=<tweepy.api.API object at 0x7f9ad9753f10>, _json={'created_at': 'Sun May 23 13:29:02 +0000 2021', 'id': 1396458148089769994, 'id_str': '1396458148089769994', 'text': '#Bitcoin chart - 4 hour\\nMACD looks to be forming a bottom. \\nStrong rebound on the cards, but when? 🤷🏻\\u200d♂️ https://t.co/TYPmYuUHQ5', 'display_text_range': [0, 104], 'source': '<a href=\"http://twitter.com/download/iphone\" rel=\"nofollow\">Twitter for iPhone</a>', 'truncated': False, 'in_reply_to_status_id': None, 'in_reply_to_status_id_str': None, 'in_reply_to_user_id': None, 'in_reply_to_user_id_str': None, 'in_reply_to_screen_name': None, 'user': {'id': 970994516357472257, 'id_str': '970994516357472257', 'name': 'Bitcoin Archive 🗄🚀🌔', 'screen_name': 'BTC_Archive', 'location': 'Decentralised', 'url': None, 'description': '#Bitcoin \\nAnalysis & market commentary 🚀🌔  \\nhttp://bitcoinarchive.substack.com', 'translator_type': 'none', 'protected': False, 'verified': False, 'followers_count': 312487, 'friends_count': 530, 'listed_count': 1922, 'favourites_count': 80051, 'statuses_count': 13128, 'created_at': 'Tue Mar 06 12:08:27 +0000 2018', 'utc_offset': None, 'time_zone': None, 'geo_enabled': False, 'lang': None, 'contributors_enabled': False, 'is_translator': False, 'profile_background_color': 'F5F8FA', 'profile_background_image_url': '', 'profile_background_image_url_https': '', 'profile_background_tile': False, 'profile_link_color': '1DA1F2', 'profile_sidebar_border_color': 'C0DEED', 'profile_sidebar_fill_color': 'DDEEF6', 'profile_text_color': '333333', 'profile_use_background_image': True, 'profile_image_url': 'http://pbs.twimg.com/profile_images/1362740544741466128/yJ99sdb4_normal.jpg', 'profile_image_url_https': 'https://pbs.twimg.com/profile_images/1362740544741466128/yJ99sdb4_normal.jpg', 'profile_banner_url': 'https://pbs.twimg.com/profile_banners/970994516357472257/1613812203', 'default_profile': True, 'default_profile_image': False, 'following': None, 'follow_request_sent': None, 'notifications': None, 'withheld_in_countries': []}, 'geo': None, 'coordinates': None, 'place': None, 'contributors': None, 'is_quote_status': False, 'quote_count': 20, 'reply_count': 268, 'retweet_count': 359, 'favorite_count': 2634, 'entities': {'hashtags': [{'text': 'Bitcoin', 'indices': [0, 8]}], 'urls': [], 'user_mentions': [], 'symbols': [], 'media': [{'id': 1396458143878680577, 'id_str': '1396458143878680577', 'indices': [105, 128], 'media_url': 'http://pbs.twimg.com/media/E2E3SHmXEAEab90.jpg', 'media_url_https': 'https://pbs.twimg.com/media/E2E3SHmXEAEab90.jpg', 'url': 'https://t.co/TYPmYuUHQ5', 'display_url': 'pic.twitter.com/TYPmYuUHQ5', 'expanded_url': 'https://twitter.com/BTC_Archive/status/1396458148089769994/photo/1', 'type': 'photo', 'sizes': {'small': {'w': 680, 'h': 334, 'resize': 'fit'}, 'thumb': {'w': 150, 'h': 150, 'resize': 'crop'}, 'large': {'w': 2048, 'h': 1006, 'resize': 'fit'}, 'medium': {'w': 1200, 'h': 589, 'resize': 'fit'}}}]}, 'extended_entities': {'media': [{'id': 1396458143878680577, 'id_str': '1396458143878680577', 'indices': [105, 128], 'media_url': 'http://pbs.twimg.com/media/E2E3SHmXEAEab90.jpg', 'media_url_https': 'https://pbs.twimg.com/media/E2E3SHmXEAEab90.jpg', 'url': 'https://t.co/TYPmYuUHQ5', 'display_url': 'pic.twitter.com/TYPmYuUHQ5', 'expanded_url': 'https://twitter.com/BTC_Archive/status/1396458148089769994/photo/1', 'type': 'photo', 'sizes': {'small': {'w': 680, 'h': 334, 'resize': 'fit'}, 'thumb': {'w': 150, 'h': 150, 'resize': 'crop'}, 'large': {'w': 2048, 'h': 1006, 'resize': 'fit'}, 'medium': {'w': 1200, 'h': 589, 'resize': 'fit'}}}]}, 'favorited': False, 'retweeted': False, 'possibly_sensitive': False, 'filter_level': 'low', 'lang': 'en'}, created_at=datetime.datetime(2021, 5, 23, 13, 29, 2), id=1396458148089769994, id_str='1396458148089769994', text='#Bitcoin chart - 4 hour\\nMACD looks to be forming a bottom. \\nStrong rebound on the cards, but when? 🤷🏻\\u200d♂️ https://t.co/TYPmYuUHQ5', display_text_range=[0, 104], source='Twitter for iPhone', source_url='http://twitter.com/download/iphone', truncated=False, in_reply_to_status_id=None, in_reply_to_status_id_str=None, in_reply_to_user_id=None, in_reply_to_user_id_str=None, in_reply_to_screen_name=None, author=User(_api=<tweepy.api.API object at 0x7f9ad9753f10>, _json={'id': 970994516357472257, 'id_str': '970994516357472257', 'name': 'Bitcoin Archive 🗄🚀🌔', 'screen_name': 'BTC_Archive', 'location': 'Decentralised', 'url': None, 'description': '#Bitcoin \\nAnalysis & market commentary 🚀🌔  \\nhttp://bitcoinarchive.substack.com', 'translator_type': 'none', 'protected': False, 'verified': False, 'followers_count': 312487, 'friends_count': 530, 'listed_count': 1922, 'favourites_count': 80051, 'statuses_count': 13128, 'created_at': 'Tue Mar 06 12:08:27 +0000 2018', 'utc_offset': None, 'time_zone': None, 'geo_enabled': False, 'lang': None, 'contributors_enabled': False, 'is_translator': False, 'profile_background_color': 'F5F8FA', 'profile_background_image_url': '', 'profile_background_image_url_https': '', 'profile_background_tile': False, 'profile_link_color': '1DA1F2', 'profile_sidebar_border_color': 'C0DEED', 'profile_sidebar_fill_color': 'DDEEF6', 'profile_text_color': '333333', 'profile_use_background_image': True, 'profile_image_url': 'http://pbs.twimg.com/profile_images/1362740544741466128/yJ99sdb4_normal.jpg', 'profile_image_url_https': 'https://pbs.twimg.com/profile_images/1362740544741466128/yJ99sdb4_normal.jpg', 'profile_banner_url': 'https://pbs.twimg.com/profile_banners/970994516357472257/1613812203', 'default_profile': True, 'default_profile_image': False, 'following': None, 'follow_request_sent': None, 'notifications': None, 'withheld_in_countries': []}, id=970994516357472257, id_str='970994516357472257', name='Bitcoin Archive 🗄🚀🌔', screen_name='BTC_Archive', location='Decentralised', url=None, description='#Bitcoin \\nAnalysis & market commentary 🚀🌔  \\nhttp://bitcoinarchive.substack.com', translator_type='none', protected=False, verified=False, followers_count=312487, friends_count=530, listed_count=1922, favourites_count=80051, statuses_count=13128, created_at=datetime.datetime(2018, 3, 6, 12, 8, 27), utc_offset=None, time_zone=None, geo_enabled=False, lang=None, contributors_enabled=False, is_translator=False, profile_background_color='F5F8FA', profile_background_image_url='', profile_background_image_url_https='', profile_background_tile=False, profile_link_color='1DA1F2', profile_sidebar_border_color='C0DEED', profile_sidebar_fill_color='DDEEF6', profile_text_color='333333', profile_use_background_image=True, profile_image_url='http://pbs.twimg.com/profile_images/1362740544741466128/yJ99sdb4_normal.jpg', profile_image_url_https='https://pbs.twimg.com/profile_images/1362740544741466128/yJ99sdb4_normal.jpg', profile_banner_url='https://pbs.twimg.com/profile_banners/970994516357472257/1613812203', default_profile=True, default_profile_image=False, following=False, follow_request_sent=None, notifications=None, withheld_in_countries=[]), user=User(_api=<tweepy.api.API object at 0x7f9ad9753f10>, _json={'id': 970994516357472257, 'id_str': '970994516357472257', 'name': 'Bitcoin Archive 🗄🚀🌔', 'screen_name': 'BTC_Archive', 'location': 'Decentralised', 'url': None, 'description': '#Bitcoin \\nAnalysis & market commentary 🚀🌔  \\nhttp://bitcoinarchive.substack.com', 'translator_type': 'none', 'protected': False, 'verified': False, 'followers_count': 312487, 'friends_count': 530, 'listed_count': 1922, 'favourites_count': 80051, 'statuses_count': 13128, 'created_at': 'Tue Mar 06 12:08:27 +0000 2018', 'utc_offset': None, 'time_zone': None, 'geo_enabled': False, 'lang': None, 'contributors_enabled': False, 'is_translator': False, 'profile_background_color': 'F5F8FA', 'profile_background_image_url': '', 'profile_background_image_url_https': '', 'profile_background_tile': False, 'profile_link_color': '1DA1F2', 'profile_sidebar_border_color': 'C0DEED', 'profile_sidebar_fill_color': 'DDEEF6', 'profile_text_color': '333333', 'profile_use_background_image': True, 'profile_image_url': 'http://pbs.twimg.com/profile_images/1362740544741466128/yJ99sdb4_normal.jpg', 'profile_image_url_https': 'https://pbs.twimg.com/profile_images/1362740544741466128/yJ99sdb4_normal.jpg', 'profile_banner_url': 'https://pbs.twimg.com/profile_banners/970994516357472257/1613812203', 'default_profile': True, 'default_profile_image': False, 'following': None, 'follow_request_sent': None, 'notifications': None, 'withheld_in_countries': []}, id=970994516357472257, id_str='970994516357472257', name='Bitcoin Archive 🗄🚀🌔', screen_name='BTC_Archive', location='Decentralised', url=None, description='#Bitcoin \\nAnalysis & market commentary 🚀🌔  \\nhttp://bitcoinarchive.substack.com', translator_type='none', protected=False, verified=False, followers_count=312487, friends_count=530, listed_count=1922, favourites_count=80051, statuses_count=13128, created_at=datetime.datetime(2018, 3, 6, 12, 8, 27), utc_offset=None, time_zone=None, geo_enabled=False, lang=None, contributors_enabled=False, is_translator=False, profile_background_color='F5F8FA', profile_background_image_url='', profile_background_image_url_https='', profile_background_tile=False, profile_link_color='1DA1F2', profile_sidebar_border_color='C0DEED', profile_sidebar_fill_color='DDEEF6', profile_text_color='333333', profile_use_background_image=True, profile_image_url='http://pbs.twimg.com/profile_images/1362740544741466128/yJ99sdb4_normal.jpg', profile_image_url_https='https://pbs.twimg.com/profile_images/1362740544741466128/yJ99sdb4_normal.jpg', profile_banner_url='https://pbs.twimg.com/profile_banners/970994516357472257/1613812203', default_profile=True, default_profile_image=False, following=False, follow_request_sent=None, notifications=None, withheld_in_countries=[]), geo=None, coordinates=None, place=None, contributors=None, is_quote_status=False, quote_count=20, reply_count=268, retweet_count=359, favorite_count=2634, entities={'hashtags': [{'text': 'Bitcoin', 'indices': [0, 8]}], 'urls': [], 'user_mentions': [], 'symbols': [], 'media': [{'id': 1396458143878680577, 'id_str': '1396458143878680577', 'indices': [105, 128], 'media_url': 'http://pbs.twimg.com/media/E2E3SHmXEAEab90.jpg', 'media_url_https': 'https://pbs.twimg.com/media/E2E3SHmXEAEab90.jpg', 'url': 'https://t.co/TYPmYuUHQ5', 'display_url': 'pic.twitter.com/TYPmYuUHQ5', 'expanded_url': 'https://twitter.com/BTC_Archive/status/1396458148089769994/photo/1', 'type': 'photo', 'sizes': {'small': {'w': 680, 'h': 334, 'resize': 'fit'}, 'thumb': {'w': 150, 'h': 150, 'resize': 'crop'}, 'large': {'w': 2048, 'h': 1006, 'resize': 'fit'}, 'medium': {'w': 1200, 'h': 589, 'resize': 'fit'}}}]}, extended_entities={'media': [{'id': 1396458143878680577, 'id_str': '1396458143878680577', 'indices': [105, 128], 'media_url': 'http://pbs.twimg.com/media/E2E3SHmXEAEab90.jpg', 'media_url_https': 'https://pbs.twimg.com/media/E2E3SHmXEAEab90.jpg', 'url': 'https://t.co/TYPmYuUHQ5', 'display_url': 'pic.twitter.com/TYPmYuUHQ5', 'expanded_url': 'https://twitter.com/BTC_Archive/status/1396458148089769994/photo/1', 'type': 'photo', 'sizes': {'small': {'w': 680, 'h': 334, 'resize': 'fit'}, 'thumb': {'w': 150, 'h': 150, 'resize': 'crop'}, 'large': {'w': 2048, 'h': 1006, 'resize': 'fit'}, 'medium': {'w': 1200, 'h': 589, 'resize': 'fit'}}}]}, favorited=False, retweeted=False, possibly_sensitive=False, filter_level='low', lang='en'), is_quote_status=False, quote_count=0, reply_count=0, retweet_count=0, favorite_count=0, entities={'hashtags': [{'text': 'Bitcoin', 'indices': [17, 25]}], 'urls': [], 'user_mentions': [{'screen_name': 'BTC_Archive', 'name': 'Bitcoin Archive 🗄🚀🌔', 'id': 970994516357472257, 'id_str': '970994516357472257', 'indices': [3, 15]}], 'symbols': []}, favorited=False, retweeted=False, filter_level='low', lang='en', matching_rules=[{'tag': None}]),\n",
              " Status(_api=<tweepy.api.API object at 0x7f9ad9753f10>, _json={'created_at': 'Sun May 23 23:59:59 +0000 2021', 'id': 1396616931709313025, 'id_str': '1396616931709313025', 'text': 'RT @airdropinspect: New airdrop: Bullcrypto (CZB)\\nReward: 160,000 CZB ($8)\\nRate: ⭐️⭐️⭐️⭐️\\nNews: BondlyFinance, Thundercore\\nDistribution: Ju…', 'source': '<a href=\"http://twitter.com/download/android\" rel=\"nofollow\">Twitter for Android</a>', 'truncated': False, 'in_reply_to_status_id': None, 'in_reply_to_status_id_str': None, 'in_reply_to_user_id': None, 'in_reply_to_user_id_str': None, 'in_reply_to_screen_name': None, 'user': {'id': 1393921526777274368, 'id_str': '1393921526777274368', 'name': 'ball', 'screen_name': 'ball50868202', 'location': None, 'url': None, 'description': None, 'translator_type': 'none', 'protected': False, 'verified': False, 'followers_count': 0, 'friends_count': 72, 'listed_count': 0, 'favourites_count': 56, 'statuses_count': 74, 'created_at': 'Sun May 16 13:29:38 +0000 2021', 'utc_offset': None, 'time_zone': None, 'geo_enabled': False, 'lang': None, 'contributors_enabled': False, 'is_translator': False, 'profile_background_color': 'F5F8FA', 'profile_background_image_url': '', 'profile_background_image_url_https': '', 'profile_background_tile': False, 'profile_link_color': '1DA1F2', 'profile_sidebar_border_color': 'C0DEED', 'profile_sidebar_fill_color': 'DDEEF6', 'profile_text_color': '333333', 'profile_use_background_image': True, 'profile_image_url': 'http://abs.twimg.com/sticky/default_profile_images/default_profile_normal.png', 'profile_image_url_https': 'https://abs.twimg.com/sticky/default_profile_images/default_profile_normal.png', 'default_profile': True, 'default_profile_image': False, 'following': None, 'follow_request_sent': None, 'notifications': None, 'withheld_in_countries': []}, 'geo': None, 'coordinates': None, 'place': None, 'contributors': None, 'retweeted_status': {'created_at': 'Sun May 23 17:33:42 +0000 2021', 'id': 1396519723743940610, 'id_str': '1396519723743940610', 'text': 'New airdrop: Bullcrypto (CZB)\\nReward: 160,000 CZB ($8)\\nRate: ⭐️⭐️⭐️⭐️\\nNews: BondlyFinance, Thundercore\\nDistribution… https://t.co/HLfsfAESHX', 'source': '<a href=\"https://mobile.twitter.com\" rel=\"nofollow\">Twitter Web App</a>', 'truncated': True, 'in_reply_to_status_id': None, 'in_reply_to_status_id_str': None, 'in_reply_to_user_id': None, 'in_reply_to_user_id_str': None, 'in_reply_to_screen_name': None, 'user': {'id': 1151153768165076992, 'id_str': '1151153768165076992', 'name': 'Airdrop Inspector', 'screen_name': 'airdropinspect', 'location': None, 'url': None, 'description': '#Bitcoin\\nChannel: https://t.co/r00P2WAwWA\\n\\nBuild bots with the referral system\\nPromote Airdrop/Bounty/Giveaway/Referral Link\\n\\nContact: https://t.co/iQYq41ZeDD', 'translator_type': 'none', 'protected': False, 'verified': False, 'followers_count': 483475, 'friends_count': 8, 'listed_count': 336, 'favourites_count': 191, 'statuses_count': 1068, 'created_at': 'Tue Jul 16 15:37:00 +0000 2019', 'utc_offset': None, 'time_zone': None, 'geo_enabled': False, 'lang': None, 'contributors_enabled': False, 'is_translator': False, 'profile_background_color': 'F5F8FA', 'profile_background_image_url': '', 'profile_background_image_url_https': '', 'profile_background_tile': False, 'profile_link_color': '1DA1F2', 'profile_sidebar_border_color': 'C0DEED', 'profile_sidebar_fill_color': 'DDEEF6', 'profile_text_color': '333333', 'profile_use_background_image': True, 'profile_image_url': 'http://pbs.twimg.com/profile_images/1222773963635462144/s1p3aLPj_normal.jpg', 'profile_image_url_https': 'https://pbs.twimg.com/profile_images/1222773963635462144/s1p3aLPj_normal.jpg', 'profile_banner_url': 'https://pbs.twimg.com/profile_banners/1151153768165076992/1613410906', 'default_profile': True, 'default_profile_image': False, 'following': None, 'follow_request_sent': None, 'notifications': None, 'withheld_in_countries': []}, 'geo': None, 'coordinates': None, 'place': None, 'contributors': None, 'is_quote_status': False, 'extended_tweet': {'full_text': 'New airdrop: Bullcrypto (CZB)\\nReward: 160,000 CZB ($8)\\nRate: ⭐️⭐️⭐️⭐️\\nNews: BondlyFinance, Thundercore\\nDistribution: July 1th\\n\\nAirdrop details: https://t.co/f7HxC9oRUJ\\n\\nBot Airdrop Link: https://t.co/rENgmEJq5B\\n\\n#Airdrop #Airdrops #Bounty #Airdropinspector #BSC #BNB #Bitcoin', 'display_text_range': [0, 275], 'entities': {'hashtags': [{'text': 'Airdrop', 'indices': [212, 220]}, {'text': 'Airdrops', 'indices': [221, 230]}, {'text': 'Bounty', 'indices': [231, 238]}, {'text': 'Airdropinspector', 'indices': [239, 256]}, {'text': 'BSC', 'indices': [257, 261]}, {'text': 'BNB', 'indices': [262, 266]}, {'text': 'Bitcoin', 'indices': [267, 275]}], 'urls': [{'url': 'https://t.co/f7HxC9oRUJ', 'expanded_url': 'https://t.me/airdropinspector/2804', 'display_url': 't.me/airdropinspect…', 'indices': [144, 167]}, {'url': 'https://t.co/rENgmEJq5B', 'expanded_url': 'https://t.me/BullcryptoAirdroprobot', 'display_url': 't.me/BullcryptoAird…', 'indices': [187, 210]}], 'user_mentions': [], 'symbols': []}}, 'quote_count': 816, 'reply_count': 631, 'retweet_count': 6161, 'favorite_count': 5502, 'entities': {'hashtags': [], 'urls': [{'url': 'https://t.co/HLfsfAESHX', 'expanded_url': 'https://twitter.com/i/web/status/1396519723743940610', 'display_url': 'twitter.com/i/web/status/1…', 'indices': [117, 140]}], 'user_mentions': [], 'symbols': []}, 'favorited': False, 'retweeted': False, 'possibly_sensitive': False, 'filter_level': 'low', 'lang': 'en'}, 'is_quote_status': False, 'quote_count': 0, 'reply_count': 0, 'retweet_count': 0, 'favorite_count': 0, 'entities': {'hashtags': [], 'urls': [], 'user_mentions': [{'screen_name': 'airdropinspect', 'name': 'Airdrop Inspector', 'id': 1151153768165076992, 'id_str': '1151153768165076992', 'indices': [3, 18]}], 'symbols': []}, 'favorited': False, 'retweeted': False, 'filter_level': 'low', 'lang': 'en', 'matching_rules': [{'tag': None}]}, created_at=datetime.datetime(2021, 5, 23, 23, 59, 59), id=1396616931709313025, id_str='1396616931709313025', text='RT @airdropinspect: New airdrop: Bullcrypto (CZB)\\nReward: 160,000 CZB ($8)\\nRate: ⭐️⭐️⭐️⭐️\\nNews: BondlyFinance, Thundercore\\nDistribution: Ju…', source='Twitter for Android', source_url='http://twitter.com/download/android', truncated=False, in_reply_to_status_id=None, in_reply_to_status_id_str=None, in_reply_to_user_id=None, in_reply_to_user_id_str=None, in_reply_to_screen_name=None, author=User(_api=<tweepy.api.API object at 0x7f9ad9753f10>, _json={'id': 1393921526777274368, 'id_str': '1393921526777274368', 'name': 'ball', 'screen_name': 'ball50868202', 'location': None, 'url': None, 'description': None, 'translator_type': 'none', 'protected': False, 'verified': False, 'followers_count': 0, 'friends_count': 72, 'listed_count': 0, 'favourites_count': 56, 'statuses_count': 74, 'created_at': 'Sun May 16 13:29:38 +0000 2021', 'utc_offset': None, 'time_zone': None, 'geo_enabled': False, 'lang': None, 'contributors_enabled': False, 'is_translator': False, 'profile_background_color': 'F5F8FA', 'profile_background_image_url': '', 'profile_background_image_url_https': '', 'profile_background_tile': False, 'profile_link_color': '1DA1F2', 'profile_sidebar_border_color': 'C0DEED', 'profile_sidebar_fill_color': 'DDEEF6', 'profile_text_color': '333333', 'profile_use_background_image': True, 'profile_image_url': 'http://abs.twimg.com/sticky/default_profile_images/default_profile_normal.png', 'profile_image_url_https': 'https://abs.twimg.com/sticky/default_profile_images/default_profile_normal.png', 'default_profile': True, 'default_profile_image': False, 'following': None, 'follow_request_sent': None, 'notifications': None, 'withheld_in_countries': []}, id=1393921526777274368, id_str='1393921526777274368', name='ball', screen_name='ball50868202', location=None, url=None, description=None, translator_type='none', protected=False, verified=False, followers_count=0, friends_count=72, listed_count=0, favourites_count=56, statuses_count=74, created_at=datetime.datetime(2021, 5, 16, 13, 29, 38), utc_offset=None, time_zone=None, geo_enabled=False, lang=None, contributors_enabled=False, is_translator=False, profile_background_color='F5F8FA', profile_background_image_url='', profile_background_image_url_https='', profile_background_tile=False, profile_link_color='1DA1F2', profile_sidebar_border_color='C0DEED', profile_sidebar_fill_color='DDEEF6', profile_text_color='333333', profile_use_background_image=True, profile_image_url='http://abs.twimg.com/sticky/default_profile_images/default_profile_normal.png', profile_image_url_https='https://abs.twimg.com/sticky/default_profile_images/default_profile_normal.png', default_profile=True, default_profile_image=False, following=False, follow_request_sent=None, notifications=None, withheld_in_countries=[]), user=User(_api=<tweepy.api.API object at 0x7f9ad9753f10>, _json={'id': 1393921526777274368, 'id_str': '1393921526777274368', 'name': 'ball', 'screen_name': 'ball50868202', 'location': None, 'url': None, 'description': None, 'translator_type': 'none', 'protected': False, 'verified': False, 'followers_count': 0, 'friends_count': 72, 'listed_count': 0, 'favourites_count': 56, 'statuses_count': 74, 'created_at': 'Sun May 16 13:29:38 +0000 2021', 'utc_offset': None, 'time_zone': None, 'geo_enabled': False, 'lang': None, 'contributors_enabled': False, 'is_translator': False, 'profile_background_color': 'F5F8FA', 'profile_background_image_url': '', 'profile_background_image_url_https': '', 'profile_background_tile': False, 'profile_link_color': '1DA1F2', 'profile_sidebar_border_color': 'C0DEED', 'profile_sidebar_fill_color': 'DDEEF6', 'profile_text_color': '333333', 'profile_use_background_image': True, 'profile_image_url': 'http://abs.twimg.com/sticky/default_profile_images/default_profile_normal.png', 'profile_image_url_https': 'https://abs.twimg.com/sticky/default_profile_images/default_profile_normal.png', 'default_profile': True, 'default_profile_image': False, 'following': None, 'follow_request_sent': None, 'notifications': None, 'withheld_in_countries': []}, id=1393921526777274368, id_str='1393921526777274368', name='ball', screen_name='ball50868202', location=None, url=None, description=None, translator_type='none', protected=False, verified=False, followers_count=0, friends_count=72, listed_count=0, favourites_count=56, statuses_count=74, created_at=datetime.datetime(2021, 5, 16, 13, 29, 38), utc_offset=None, time_zone=None, geo_enabled=False, lang=None, contributors_enabled=False, is_translator=False, profile_background_color='F5F8FA', profile_background_image_url='', profile_background_image_url_https='', profile_background_tile=False, profile_link_color='1DA1F2', profile_sidebar_border_color='C0DEED', profile_sidebar_fill_color='DDEEF6', profile_text_color='333333', profile_use_background_image=True, profile_image_url='http://abs.twimg.com/sticky/default_profile_images/default_profile_normal.png', profile_image_url_https='https://abs.twimg.com/sticky/default_profile_images/default_profile_normal.png', default_profile=True, default_profile_image=False, following=False, follow_request_sent=None, notifications=None, withheld_in_countries=[]), geo=None, coordinates=None, place=None, contributors=None, retweeted_status=Status(_api=<tweepy.api.API object at 0x7f9ad9753f10>, _json={'created_at': 'Sun May 23 17:33:42 +0000 2021', 'id': 1396519723743940610, 'id_str': '1396519723743940610', 'text': 'New airdrop: Bullcrypto (CZB)\\nReward: 160,000 CZB ($8)\\nRate: ⭐️⭐️⭐️⭐️\\nNews: BondlyFinance, Thundercore\\nDistribution… https://t.co/HLfsfAESHX', 'source': '<a href=\"https://mobile.twitter.com\" rel=\"nofollow\">Twitter Web App</a>', 'truncated': True, 'in_reply_to_status_id': None, 'in_reply_to_status_id_str': None, 'in_reply_to_user_id': None, 'in_reply_to_user_id_str': None, 'in_reply_to_screen_name': None, 'user': {'id': 1151153768165076992, 'id_str': '1151153768165076992', 'name': 'Airdrop Inspector', 'screen_name': 'airdropinspect', 'location': None, 'url': None, 'description': '#Bitcoin\\nChannel: https://t.co/r00P2WAwWA\\n\\nBuild bots with the referral system\\nPromote Airdrop/Bounty/Giveaway/Referral Link\\n\\nContact: https://t.co/iQYq41ZeDD', 'translator_type': 'none', 'protected': False, 'verified': False, 'followers_count': 483475, 'friends_count': 8, 'listed_count': 336, 'favourites_count': 191, 'statuses_count': 1068, 'created_at': 'Tue Jul 16 15:37:00 +0000 2019', 'utc_offset': None, 'time_zone': None, 'geo_enabled': False, 'lang': None, 'contributors_enabled': False, 'is_translator': False, 'profile_background_color': 'F5F8FA', 'profile_background_image_url': '', 'profile_background_image_url_https': '', 'profile_background_tile': False, 'profile_link_color': '1DA1F2', 'profile_sidebar_border_color': 'C0DEED', 'profile_sidebar_fill_color': 'DDEEF6', 'profile_text_color': '333333', 'profile_use_background_image': True, 'profile_image_url': 'http://pbs.twimg.com/profile_images/1222773963635462144/s1p3aLPj_normal.jpg', 'profile_image_url_https': 'https://pbs.twimg.com/profile_images/1222773963635462144/s1p3aLPj_normal.jpg', 'profile_banner_url': 'https://pbs.twimg.com/profile_banners/1151153768165076992/1613410906', 'default_profile': True, 'default_profile_image': False, 'following': None, 'follow_request_sent': None, 'notifications': None, 'withheld_in_countries': []}, 'geo': None, 'coordinates': None, 'place': None, 'contributors': None, 'is_quote_status': False, 'extended_tweet': {'full_text': 'New airdrop: Bullcrypto (CZB)\\nReward: 160,000 CZB ($8)\\nRate: ⭐️⭐️⭐️⭐️\\nNews: BondlyFinance, Thundercore\\nDistribution: July 1th\\n\\nAirdrop details: https://t.co/f7HxC9oRUJ\\n\\nBot Airdrop Link: https://t.co/rENgmEJq5B\\n\\n#Airdrop #Airdrops #Bounty #Airdropinspector #BSC #BNB #Bitcoin', 'display_text_range': [0, 275], 'entities': {'hashtags': [{'text': 'Airdrop', 'indices': [212, 220]}, {'text': 'Airdrops', 'indices': [221, 230]}, {'text': 'Bounty', 'indices': [231, 238]}, {'text': 'Airdropinspector', 'indices': [239, 256]}, {'text': 'BSC', 'indices': [257, 261]}, {'text': 'BNB', 'indices': [262, 266]}, {'text': 'Bitcoin', 'indices': [267, 275]}], 'urls': [{'url': 'https://t.co/f7HxC9oRUJ', 'expanded_url': 'https://t.me/airdropinspector/2804', 'display_url': 't.me/airdropinspect…', 'indices': [144, 167]}, {'url': 'https://t.co/rENgmEJq5B', 'expanded_url': 'https://t.me/BullcryptoAirdroprobot', 'display_url': 't.me/BullcryptoAird…', 'indices': [187, 210]}], 'user_mentions': [], 'symbols': []}}, 'quote_count': 816, 'reply_count': 631, 'retweet_count': 6161, 'favorite_count': 5502, 'entities': {'hashtags': [], 'urls': [{'url': 'https://t.co/HLfsfAESHX', 'expanded_url': 'https://twitter.com/i/web/status/1396519723743940610', 'display_url': 'twitter.com/i/web/status/1…', 'indices': [117, 140]}], 'user_mentions': [], 'symbols': []}, 'favorited': False, 'retweeted': False, 'possibly_sensitive': False, 'filter_level': 'low', 'lang': 'en'}, created_at=datetime.datetime(2021, 5, 23, 17, 33, 42), id=1396519723743940610, id_str='1396519723743940610', text='New airdrop: Bullcrypto (CZB)\\nReward: 160,000 CZB ($8)\\nRate: ⭐️⭐️⭐️⭐️\\nNews: BondlyFinance, Thundercore\\nDistribution… https://t.co/HLfsfAESHX', source='Twitter Web App', source_url='https://mobile.twitter.com', truncated=True, in_reply_to_status_id=None, in_reply_to_status_id_str=None, in_reply_to_user_id=None, in_reply_to_user_id_str=None, in_reply_to_screen_name=None, author=User(_api=<tweepy.api.API object at 0x7f9ad9753f10>, _json={'id': 1151153768165076992, 'id_str': '1151153768165076992', 'name': 'Airdrop Inspector', 'screen_name': 'airdropinspect', 'location': None, 'url': None, 'description': '#Bitcoin\\nChannel: https://t.co/r00P2WAwWA\\n\\nBuild bots with the referral system\\nPromote Airdrop/Bounty/Giveaway/Referral Link\\n\\nContact: https://t.co/iQYq41ZeDD', 'translator_type': 'none', 'protected': False, 'verified': False, 'followers_count': 483475, 'friends_count': 8, 'listed_count': 336, 'favourites_count': 191, 'statuses_count': 1068, 'created_at': 'Tue Jul 16 15:37:00 +0000 2019', 'utc_offset': None, 'time_zone': None, 'geo_enabled': False, 'lang': None, 'contributors_enabled': False, 'is_translator': False, 'profile_background_color': 'F5F8FA', 'profile_background_image_url': '', 'profile_background_image_url_https': '', 'profile_background_tile': False, 'profile_link_color': '1DA1F2', 'profile_sidebar_border_color': 'C0DEED', 'profile_sidebar_fill_color': 'DDEEF6', 'profile_text_color': '333333', 'profile_use_background_image': True, 'profile_image_url': 'http://pbs.twimg.com/profile_images/1222773963635462144/s1p3aLPj_normal.jpg', 'profile_image_url_https': 'https://pbs.twimg.com/profile_images/1222773963635462144/s1p3aLPj_normal.jpg', 'profile_banner_url': 'https://pbs.twimg.com/profile_banners/1151153768165076992/1613410906', 'default_profile': True, 'default_profile_image': False, 'following': None, 'follow_request_sent': None, 'notifications': None, 'withheld_in_countries': []}, id=1151153768165076992, id_str='1151153768165076992', name='Airdrop Inspector', screen_name='airdropinspect', location=None, url=None, description='#Bitcoin\\nChannel: https://t.co/r00P2WAwWA\\n\\nBuild bots with the referral system\\nPromote Airdrop/Bounty/Giveaway/Referral Link\\n\\nContact: https://t.co/iQYq41ZeDD', translator_type='none', protected=False, verified=False, followers_count=483475, friends_count=8, listed_count=336, favourites_count=191, statuses_count=1068, created_at=datetime.datetime(2019, 7, 16, 15, 37), utc_offset=None, time_zone=None, geo_enabled=False, lang=None, contributors_enabled=False, is_translator=False, profile_background_color='F5F8FA', profile_background_image_url='', profile_background_image_url_https='', profile_background_tile=False, profile_link_color='1DA1F2', profile_sidebar_border_color='C0DEED', profile_sidebar_fill_color='DDEEF6', profile_text_color='333333', profile_use_background_image=True, profile_image_url='http://pbs.twimg.com/profile_images/1222773963635462144/s1p3aLPj_normal.jpg', profile_image_url_https='https://pbs.twimg.com/profile_images/1222773963635462144/s1p3aLPj_normal.jpg', profile_banner_url='https://pbs.twimg.com/profile_banners/1151153768165076992/1613410906', default_profile=True, default_profile_image=False, following=False, follow_request_sent=None, notifications=None, withheld_in_countries=[]), user=User(_api=<tweepy.api.API object at 0x7f9ad9753f10>, _json={'id': 1151153768165076992, 'id_str': '1151153768165076992', 'name': 'Airdrop Inspector', 'screen_name': 'airdropinspect', 'location': None, 'url': None, 'description': '#Bitcoin\\nChannel: https://t.co/r00P2WAwWA\\n\\nBuild bots with the referral system\\nPromote Airdrop/Bounty/Giveaway/Referral Link\\n\\nContact: https://t.co/iQYq41ZeDD', 'translator_type': 'none', 'protected': False, 'verified': False, 'followers_count': 483475, 'friends_count': 8, 'listed_count': 336, 'favourites_count': 191, 'statuses_count': 1068, 'created_at': 'Tue Jul 16 15:37:00 +0000 2019', 'utc_offset': None, 'time_zone': None, 'geo_enabled': False, 'lang': None, 'contributors_enabled': False, 'is_translator': False, 'profile_background_color': 'F5F8FA', 'profile_background_image_url': '', 'profile_background_image_url_https': '', 'profile_background_tile': False, 'profile_link_color': '1DA1F2', 'profile_sidebar_border_color': 'C0DEED', 'profile_sidebar_fill_color': 'DDEEF6', 'profile_text_color': '333333', 'profile_use_background_image': True, 'profile_image_url': 'http://pbs.twimg.com/profile_images/1222773963635462144/s1p3aLPj_normal.jpg', 'profile_image_url_https': 'https://pbs.twimg.com/profile_images/1222773963635462144/s1p3aLPj_normal.jpg', 'profile_banner_url': 'https://pbs.twimg.com/profile_banners/1151153768165076992/1613410906', 'default_profile': True, 'default_profile_image': False, 'following': None, 'follow_request_sent': None, 'notifications': None, 'withheld_in_countries': []}, id=1151153768165076992, id_str='1151153768165076992', name='Airdrop Inspector', screen_name='airdropinspect', location=None, url=None, description='#Bitcoin\\nChannel: https://t.co/r00P2WAwWA\\n\\nBuild bots with the referral system\\nPromote Airdrop/Bounty/Giveaway/Referral Link\\n\\nContact: https://t.co/iQYq41ZeDD', translator_type='none', protected=False, verified=False, followers_count=483475, friends_count=8, listed_count=336, favourites_count=191, statuses_count=1068, created_at=datetime.datetime(2019, 7, 16, 15, 37), utc_offset=None, time_zone=None, geo_enabled=False, lang=None, contributors_enabled=False, is_translator=False, profile_background_color='F5F8FA', profile_background_image_url='', profile_background_image_url_https='', profile_background_tile=False, profile_link_color='1DA1F2', profile_sidebar_border_color='C0DEED', profile_sidebar_fill_color='DDEEF6', profile_text_color='333333', profile_use_background_image=True, profile_image_url='http://pbs.twimg.com/profile_images/1222773963635462144/s1p3aLPj_normal.jpg', profile_image_url_https='https://pbs.twimg.com/profile_images/1222773963635462144/s1p3aLPj_normal.jpg', profile_banner_url='https://pbs.twimg.com/profile_banners/1151153768165076992/1613410906', default_profile=True, default_profile_image=False, following=False, follow_request_sent=None, notifications=None, withheld_in_countries=[]), geo=None, coordinates=None, place=None, contributors=None, is_quote_status=False, extended_tweet={'full_text': 'New airdrop: Bullcrypto (CZB)\\nReward: 160,000 CZB ($8)\\nRate: ⭐️⭐️⭐️⭐️\\nNews: BondlyFinance, Thundercore\\nDistribution: July 1th\\n\\nAirdrop details: https://t.co/f7HxC9oRUJ\\n\\nBot Airdrop Link: https://t.co/rENgmEJq5B\\n\\n#Airdrop #Airdrops #Bounty #Airdropinspector #BSC #BNB #Bitcoin', 'display_text_range': [0, 275], 'entities': {'hashtags': [{'text': 'Airdrop', 'indices': [212, 220]}, {'text': 'Airdrops', 'indices': [221, 230]}, {'text': 'Bounty', 'indices': [231, 238]}, {'text': 'Airdropinspector', 'indices': [239, 256]}, {'text': 'BSC', 'indices': [257, 261]}, {'text': 'BNB', 'indices': [262, 266]}, {'text': 'Bitcoin', 'indices': [267, 275]}], 'urls': [{'url': 'https://t.co/f7HxC9oRUJ', 'expanded_url': 'https://t.me/airdropinspector/2804', 'display_url': 't.me/airdropinspect…', 'indices': [144, 167]}, {'url': 'https://t.co/rENgmEJq5B', 'expanded_url': 'https://t.me/BullcryptoAirdroprobot', 'display_url': 't.me/BullcryptoAird…', 'indices': [187, 210]}], 'user_mentions': [], 'symbols': []}}, quote_count=816, reply_count=631, retweet_count=6161, favorite_count=5502, entities={'hashtags': [], 'urls': [{'url': 'https://t.co/HLfsfAESHX', 'expanded_url': 'https://twitter.com/i/web/status/1396519723743940610', 'display_url': 'twitter.com/i/web/status/1…', 'indices': [117, 140]}], 'user_mentions': [], 'symbols': []}, favorited=False, retweeted=False, possibly_sensitive=False, filter_level='low', lang='en'), is_quote_status=False, quote_count=0, reply_count=0, retweet_count=0, favorite_count=0, entities={'hashtags': [], 'urls': [], 'user_mentions': [{'screen_name': 'airdropinspect', 'name': 'Airdrop Inspector', 'id': 1151153768165076992, 'id_str': '1151153768165076992', 'indices': [3, 18]}], 'symbols': []}, favorited=False, retweeted=False, filter_level='low', lang='en', matching_rules=[{'tag': None}]),\n",
              " Status(_api=<tweepy.api.API object at 0x7f9ad9753f10>, _json={'created_at': 'Sun May 23 23:59:58 +0000 2021', 'id': 1396616931310858241, 'id_str': '1396616931310858241', 'text': 'RT @100trillionUSD: In the chart you see at what price level each of the total 18.7M BTC was last moved.\\n\\nSo what happened in May? Weak han…', 'source': '<a href=\"http://twitter.com/download/iphone\" rel=\"nofollow\">Twitter for iPhone</a>', 'truncated': False, 'in_reply_to_status_id': None, 'in_reply_to_status_id_str': None, 'in_reply_to_user_id': None, 'in_reply_to_user_id_str': None, 'in_reply_to_screen_name': None, 'user': {'id': 873850146915729408, 'id_str': '873850146915729408', 'name': 'Escapade', 'screen_name': 'CryptoEscapades', 'location': 'Sydney, New South Wales', 'url': None, 'description': 'Truth seeker', 'translator_type': 'none', 'protected': False, 'verified': False, 'followers_count': 206, 'friends_count': 1269, 'listed_count': 1, 'favourites_count': 36337, 'statuses_count': 6634, 'created_at': 'Sun Jun 11 10:31:25 +0000 2017', 'utc_offset': None, 'time_zone': None, 'geo_enabled': False, 'lang': None, 'contributors_enabled': False, 'is_translator': False, 'profile_background_color': '000000', 'profile_background_image_url': 'http://abs.twimg.com/images/themes/theme1/bg.png', 'profile_background_image_url_https': 'https://abs.twimg.com/images/themes/theme1/bg.png', 'profile_background_tile': False, 'profile_link_color': 'FF691F', 'profile_sidebar_border_color': '000000', 'profile_sidebar_fill_color': '000000', 'profile_text_color': '000000', 'profile_use_background_image': False, 'profile_image_url': 'http://pbs.twimg.com/profile_images/1089326424954003456/8r7dtiHt_normal.jpg', 'profile_image_url_https': 'https://pbs.twimg.com/profile_images/1089326424954003456/8r7dtiHt_normal.jpg', 'default_profile': False, 'default_profile_image': False, 'following': None, 'follow_request_sent': None, 'notifications': None, 'withheld_in_countries': []}, 'geo': None, 'coordinates': None, 'place': None, 'contributors': None, 'retweeted_status': {'created_at': 'Sun May 23 23:28:47 +0000 2021', 'id': 1396609082111504386, 'id_str': '1396609082111504386', 'text': 'In the chart you see at what price level each of the total 18.7M BTC was last moved.\\n\\nSo what happened in May? Weak… https://t.co/v7fDSAWxHM', 'display_text_range': [0, 140], 'source': '<a href=\"https://mobile.twitter.com\" rel=\"nofollow\">Twitter Web App</a>', 'truncated': True, 'in_reply_to_status_id': None, 'in_reply_to_status_id_str': None, 'in_reply_to_user_id': None, 'in_reply_to_user_id_str': None, 'in_reply_to_screen_name': None, 'user': {'id': 918804624303382528, 'id_str': '918804624303382528', 'name': 'PlanB', 'screen_name': '100trillionUSD', 'location': 'NOT FINANCIAL ADVICE', 'url': 'http://PlanBTC.com', 'description': '#bitcoin\\nhttp://PlanBTC.com\\nNOT FINANCIAL ADVICE\\n1PRoNLcWHzM8DuKpGE4YM9hb1PjSEnWRpn', 'translator_type': 'none', 'protected': False, 'verified': False, 'followers_count': 543886, 'friends_count': 190, 'listed_count': 6520, 'favourites_count': 23605, 'statuses_count': 7182, 'created_at': 'Fri Oct 13 11:44:27 +0000 2017', 'utc_offset': None, 'time_zone': None, 'geo_enabled': False, 'lang': None, 'contributors_enabled': False, 'is_translator': False, 'profile_background_color': 'F5F8FA', 'profile_background_image_url': '', 'profile_background_image_url_https': '', 'profile_background_tile': False, 'profile_link_color': '1DA1F2', 'profile_sidebar_border_color': 'C0DEED', 'profile_sidebar_fill_color': 'DDEEF6', 'profile_text_color': '333333', 'profile_use_background_image': True, 'profile_image_url': 'http://pbs.twimg.com/profile_images/1381894517708754948/EpK8VJPe_normal.jpg', 'profile_image_url_https': 'https://pbs.twimg.com/profile_images/1381894517708754948/EpK8VJPe_normal.jpg', 'profile_banner_url': 'https://pbs.twimg.com/profile_banners/918804624303382528/1601733353', 'default_profile': True, 'default_profile_image': False, 'following': None, 'follow_request_sent': None, 'notifications': None, 'withheld_in_countries': []}, 'geo': None, 'coordinates': None, 'place': None, 'contributors': None, 'is_quote_status': False, 'extended_tweet': {'full_text': 'In the chart you see at what price level each of the total 18.7M BTC was last moved.\\n\\nSo what happened in May? Weak hands sold ~1M BTC in May at $30k-35k .. which they bought in April at $55k-60k: a staggering ~$20B loss. The good news: these 1M #bitcoin are in strong hands now. https://t.co/bIXhil2LL7', 'display_text_range': [0, 279], 'entities': {'hashtags': [{'text': 'bitcoin', 'indices': [246, 254]}], 'urls': [], 'user_mentions': [], 'symbols': [], 'media': [{'id': 1396608675482062850, 'id_str': '1396608675482062850', 'indices': [280, 303], 'media_url': 'http://pbs.twimg.com/media/E2HAMNhWUAI3tvb.png', 'media_url_https': 'https://pbs.twimg.com/media/E2HAMNhWUAI3tvb.png', 'url': 'https://t.co/bIXhil2LL7', 'display_url': 'pic.twitter.com/bIXhil2LL7', 'expanded_url': 'https://twitter.com/100trillionUSD/status/1396609082111504386/photo/1', 'type': 'photo', 'sizes': {'medium': {'w': 1200, 'h': 678, 'resize': 'fit'}, 'large': {'w': 1668, 'h': 943, 'resize': 'fit'}, 'small': {'w': 680, 'h': 384, 'resize': 'fit'}, 'thumb': {'w': 150, 'h': 150, 'resize': 'crop'}}}]}, 'extended_entities': {'media': [{'id': 1396608675482062850, 'id_str': '1396608675482062850', 'indices': [280, 303], 'media_url': 'http://pbs.twimg.com/media/E2HAMNhWUAI3tvb.png', 'media_url_https': 'https://pbs.twimg.com/media/E2HAMNhWUAI3tvb.png', 'url': 'https://t.co/bIXhil2LL7', 'display_url': 'pic.twitter.com/bIXhil2LL7', 'expanded_url': 'https://twitter.com/100trillionUSD/status/1396609082111504386/photo/1', 'type': 'photo', 'sizes': {'medium': {'w': 1200, 'h': 678, 'resize': 'fit'}, 'large': {'w': 1668, 'h': 943, 'resize': 'fit'}, 'small': {'w': 680, 'h': 384, 'resize': 'fit'}, 'thumb': {'w': 150, 'h': 150, 'resize': 'crop'}}}]}}, 'quote_count': 171, 'reply_count': 313, 'retweet_count': 1675, 'favorite_count': 8371, 'entities': {'hashtags': [], 'urls': [{'url': 'https://t.co/v7fDSAWxHM', 'expanded_url': 'https://twitter.com/i/web/status/1396609082111504386', 'display_url': 'twitter.com/i/web/status/1…', 'indices': [117, 140]}], 'user_mentions': [], 'symbols': []}, 'favorited': False, 'retweeted': False, 'possibly_sensitive': False, 'filter_level': 'low', 'lang': 'en'}, 'is_quote_status': False, 'quote_count': 0, 'reply_count': 0, 'retweet_count': 0, 'favorite_count': 0, 'entities': {'hashtags': [], 'urls': [], 'user_mentions': [{'screen_name': '100trillionUSD', 'name': 'PlanB', 'id': 918804624303382528, 'id_str': '918804624303382528', 'indices': [3, 18]}], 'symbols': []}, 'favorited': False, 'retweeted': False, 'filter_level': 'low', 'lang': 'en', 'matching_rules': [{'tag': None}]}, created_at=datetime.datetime(2021, 5, 23, 23, 59, 58), id=1396616931310858241, id_str='1396616931310858241', text='RT @100trillionUSD: In the chart you see at what price level each of the total 18.7M BTC was last moved.\\n\\nSo what happened in May? Weak han…', source='Twitter for iPhone', source_url='http://twitter.com/download/iphone', truncated=False, in_reply_to_status_id=None, in_reply_to_status_id_str=None, in_reply_to_user_id=None, in_reply_to_user_id_str=None, in_reply_to_screen_name=None, author=User(_api=<tweepy.api.API object at 0x7f9ad9753f10>, _json={'id': 873850146915729408, 'id_str': '873850146915729408', 'name': 'Escapade', 'screen_name': 'CryptoEscapades', 'location': 'Sydney, New South Wales', 'url': None, 'description': 'Truth seeker', 'translator_type': 'none', 'protected': False, 'verified': False, 'followers_count': 206, 'friends_count': 1269, 'listed_count': 1, 'favourites_count': 36337, 'statuses_count': 6634, 'created_at': 'Sun Jun 11 10:31:25 +0000 2017', 'utc_offset': None, 'time_zone': None, 'geo_enabled': False, 'lang': None, 'contributors_enabled': False, 'is_translator': False, 'profile_background_color': '000000', 'profile_background_image_url': 'http://abs.twimg.com/images/themes/theme1/bg.png', 'profile_background_image_url_https': 'https://abs.twimg.com/images/themes/theme1/bg.png', 'profile_background_tile': False, 'profile_link_color': 'FF691F', 'profile_sidebar_border_color': '000000', 'profile_sidebar_fill_color': '000000', 'profile_text_color': '000000', 'profile_use_background_image': False, 'profile_image_url': 'http://pbs.twimg.com/profile_images/1089326424954003456/8r7dtiHt_normal.jpg', 'profile_image_url_https': 'https://pbs.twimg.com/profile_images/1089326424954003456/8r7dtiHt_normal.jpg', 'default_profile': False, 'default_profile_image': False, 'following': None, 'follow_request_sent': None, 'notifications': None, 'withheld_in_countries': []}, id=873850146915729408, id_str='873850146915729408', name='Escapade', screen_name='CryptoEscapades', location='Sydney, New South Wales', url=None, description='Truth seeker', translator_type='none', protected=False, verified=False, followers_count=206, friends_count=1269, listed_count=1, favourites_count=36337, statuses_count=6634, created_at=datetime.datetime(2017, 6, 11, 10, 31, 25), utc_offset=None, time_zone=None, geo_enabled=False, lang=None, contributors_enabled=False, is_translator=False, profile_background_color='000000', profile_background_image_url='http://abs.twimg.com/images/themes/theme1/bg.png', profile_background_image_url_https='https://abs.twimg.com/images/themes/theme1/bg.png', profile_background_tile=False, profile_link_color='FF691F', profile_sidebar_border_color='000000', profile_sidebar_fill_color='000000', profile_text_color='000000', profile_use_background_image=False, profile_image_url='http://pbs.twimg.com/profile_images/1089326424954003456/8r7dtiHt_normal.jpg', profile_image_url_https='https://pbs.twimg.com/profile_images/1089326424954003456/8r7dtiHt_normal.jpg', default_profile=False, default_profile_image=False, following=False, follow_request_sent=None, notifications=None, withheld_in_countries=[]), user=User(_api=<tweepy.api.API object at 0x7f9ad9753f10>, _json={'id': 873850146915729408, 'id_str': '873850146915729408', 'name': 'Escapade', 'screen_name': 'CryptoEscapades', 'location': 'Sydney, New South Wales', 'url': None, 'description': 'Truth seeker', 'translator_type': 'none', 'protected': False, 'verified': False, 'followers_count': 206, 'friends_count': 1269, 'listed_count': 1, 'favourites_count': 36337, 'statuses_count': 6634, 'created_at': 'Sun Jun 11 10:31:25 +0000 2017', 'utc_offset': None, 'time_zone': None, 'geo_enabled': False, 'lang': None, 'contributors_enabled': False, 'is_translator': False, 'profile_background_color': '000000', 'profile_background_image_url': 'http://abs.twimg.com/images/themes/theme1/bg.png', 'profile_background_image_url_https': 'https://abs.twimg.com/images/themes/theme1/bg.png', 'profile_background_tile': False, 'profile_link_color': 'FF691F', 'profile_sidebar_border_color': '000000', 'profile_sidebar_fill_color': '000000', 'profile_text_color': '000000', 'profile_use_background_image': False, 'profile_image_url': 'http://pbs.twimg.com/profile_images/1089326424954003456/8r7dtiHt_normal.jpg', 'profile_image_url_https': 'https://pbs.twimg.com/profile_images/1089326424954003456/8r7dtiHt_normal.jpg', 'default_profile': False, 'default_profile_image': False, 'following': None, 'follow_request_sent': None, 'notifications': None, 'withheld_in_countries': []}, id=873850146915729408, id_str='873850146915729408', name='Escapade', screen_name='CryptoEscapades', location='Sydney, New South Wales', url=None, description='Truth seeker', translator_type='none', protected=False, verified=False, followers_count=206, friends_count=1269, listed_count=1, favourites_count=36337, statuses_count=6634, created_at=datetime.datetime(2017, 6, 11, 10, 31, 25), utc_offset=None, time_zone=None, geo_enabled=False, lang=None, contributors_enabled=False, is_translator=False, profile_background_color='000000', profile_background_image_url='http://abs.twimg.com/images/themes/theme1/bg.png', profile_background_image_url_https='https://abs.twimg.com/images/themes/theme1/bg.png', profile_background_tile=False, profile_link_color='FF691F', profile_sidebar_border_color='000000', profile_sidebar_fill_color='000000', profile_text_color='000000', profile_use_background_image=False, profile_image_url='http://pbs.twimg.com/profile_images/1089326424954003456/8r7dtiHt_normal.jpg', profile_image_url_https='https://pbs.twimg.com/profile_images/1089326424954003456/8r7dtiHt_normal.jpg', default_profile=False, default_profile_image=False, following=False, follow_request_sent=None, notifications=None, withheld_in_countries=[]), geo=None, coordinates=None, place=None, contributors=None, retweeted_status=Status(_api=<tweepy.api.API object at 0x7f9ad9753f10>, _json={'created_at': 'Sun May 23 23:28:47 +0000 2021', 'id': 1396609082111504386, 'id_str': '1396609082111504386', 'text': 'In the chart you see at what price level each of the total 18.7M BTC was last moved.\\n\\nSo what happened in May? Weak… https://t.co/v7fDSAWxHM', 'display_text_range': [0, 140], 'source': '<a href=\"https://mobile.twitter.com\" rel=\"nofollow\">Twitter Web App</a>', 'truncated': True, 'in_reply_to_status_id': None, 'in_reply_to_status_id_str': None, 'in_reply_to_user_id': None, 'in_reply_to_user_id_str': None, 'in_reply_to_screen_name': None, 'user': {'id': 918804624303382528, 'id_str': '918804624303382528', 'name': 'PlanB', 'screen_name': '100trillionUSD', 'location': 'NOT FINANCIAL ADVICE', 'url': 'http://PlanBTC.com', 'description': '#bitcoin\\nhttp://PlanBTC.com\\nNOT FINANCIAL ADVICE\\n1PRoNLcWHzM8DuKpGE4YM9hb1PjSEnWRpn', 'translator_type': 'none', 'protected': False, 'verified': False, 'followers_count': 543886, 'friends_count': 190, 'listed_count': 6520, 'favourites_count': 23605, 'statuses_count': 7182, 'created_at': 'Fri Oct 13 11:44:27 +0000 2017', 'utc_offset': None, 'time_zone': None, 'geo_enabled': False, 'lang': None, 'contributors_enabled': False, 'is_translator': False, 'profile_background_color': 'F5F8FA', 'profile_background_image_url': '', 'profile_background_image_url_https': '', 'profile_background_tile': False, 'profile_link_color': '1DA1F2', 'profile_sidebar_border_color': 'C0DEED', 'profile_sidebar_fill_color': 'DDEEF6', 'profile_text_color': '333333', 'profile_use_background_image': True, 'profile_image_url': 'http://pbs.twimg.com/profile_images/1381894517708754948/EpK8VJPe_normal.jpg', 'profile_image_url_https': 'https://pbs.twimg.com/profile_images/1381894517708754948/EpK8VJPe_normal.jpg', 'profile_banner_url': 'https://pbs.twimg.com/profile_banners/918804624303382528/1601733353', 'default_profile': True, 'default_profile_image': False, 'following': None, 'follow_request_sent': None, 'notifications': None, 'withheld_in_countries': []}, 'geo': None, 'coordinates': None, 'place': None, 'contributors': None, 'is_quote_status': False, 'extended_tweet': {'full_text': 'In the chart you see at what price level each of the total 18.7M BTC was last moved.\\n\\nSo what happened in May? Weak hands sold ~1M BTC in May at $30k-35k .. which they bought in April at $55k-60k: a staggering ~$20B loss. The good news: these 1M #bitcoin are in strong hands now. https://t.co/bIXhil2LL7', 'display_text_range': [0, 279], 'entities': {'hashtags': [{'text': 'bitcoin', 'indices': [246, 254]}], 'urls': [], 'user_mentions': [], 'symbols': [], 'media': [{'id': 1396608675482062850, 'id_str': '1396608675482062850', 'indices': [280, 303], 'media_url': 'http://pbs.twimg.com/media/E2HAMNhWUAI3tvb.png', 'media_url_https': 'https://pbs.twimg.com/media/E2HAMNhWUAI3tvb.png', 'url': 'https://t.co/bIXhil2LL7', 'display_url': 'pic.twitter.com/bIXhil2LL7', 'expanded_url': 'https://twitter.com/100trillionUSD/status/1396609082111504386/photo/1', 'type': 'photo', 'sizes': {'medium': {'w': 1200, 'h': 678, 'resize': 'fit'}, 'large': {'w': 1668, 'h': 943, 'resize': 'fit'}, 'small': {'w': 680, 'h': 384, 'resize': 'fit'}, 'thumb': {'w': 150, 'h': 150, 'resize': 'crop'}}}]}, 'extended_entities': {'media': [{'id': 1396608675482062850, 'id_str': '1396608675482062850', 'indices': [280, 303], 'media_url': 'http://pbs.twimg.com/media/E2HAMNhWUAI3tvb.png', 'media_url_https': 'https://pbs.twimg.com/media/E2HAMNhWUAI3tvb.png', 'url': 'https://t.co/bIXhil2LL7', 'display_url': 'pic.twitter.com/bIXhil2LL7', 'expanded_url': 'https://twitter.com/100trillionUSD/status/1396609082111504386/photo/1', 'type': 'photo', 'sizes': {'medium': {'w': 1200, 'h': 678, 'resize': 'fit'}, 'large': {'w': 1668, 'h': 943, 'resize': 'fit'}, 'small': {'w': 680, 'h': 384, 'resize': 'fit'}, 'thumb': {'w': 150, 'h': 150, 'resize': 'crop'}}}]}}, 'quote_count': 171, 'reply_count': 313, 'retweet_count': 1675, 'favorite_count': 8371, 'entities': {'hashtags': [], 'urls': [{'url': 'https://t.co/v7fDSAWxHM', 'expanded_url': 'https://twitter.com/i/web/status/1396609082111504386', 'display_url': 'twitter.com/i/web/status/1…', 'indices': [117, 140]}], 'user_mentions': [], 'symbols': []}, 'favorited': False, 'retweeted': False, 'possibly_sensitive': False, 'filter_level': 'low', 'lang': 'en'}, created_at=datetime.datetime(2021, 5, 23, 23, 28, 47), id=1396609082111504386, id_str='1396609082111504386', text='In the chart you see at what price level each of the total 18.7M BTC was last moved.\\n\\nSo what happened in May? Weak… https://t.co/v7fDSAWxHM', display_text_range=[0, 140], source='Twitter Web App', source_url='https://mobile.twitter.com', truncated=True, in_reply_to_status_id=None, in_reply_to_status_id_str=None, in_reply_to_user_id=None, in_reply_to_user_id_str=None, in_reply_to_screen_name=None, author=User(_api=<tweepy.api.API object at 0x7f9ad9753f10>, _json={'id': 918804624303382528, 'id_str': '918804624303382528', 'name': 'PlanB', 'screen_name': '100trillionUSD', 'location': 'NOT FINANCIAL ADVICE', 'url': 'http://PlanBTC.com', 'description': '#bitcoin\\nhttp://PlanBTC.com\\nNOT FINANCIAL ADVICE\\n1PRoNLcWHzM8DuKpGE4YM9hb1PjSEnWRpn', 'translator_type': 'none', 'protected': False, 'verified': False, 'followers_count': 543886, 'friends_count': 190, 'listed_count': 6520, 'favourites_count': 23605, 'statuses_count': 7182, 'created_at': 'Fri Oct 13 11:44:27 +0000 2017', 'utc_offset': None, 'time_zone': None, 'geo_enabled': False, 'lang': None, 'contributors_enabled': False, 'is_translator': False, 'profile_background_color': 'F5F8FA', 'profile_background_image_url': '', 'profile_background_image_url_https': '', 'profile_background_tile': False, 'profile_link_color': '1DA1F2', 'profile_sidebar_border_color': 'C0DEED', 'profile_sidebar_fill_color': 'DDEEF6', 'profile_text_color': '333333', 'profile_use_background_image': True, 'profile_image_url': 'http://pbs.twimg.com/profile_images/1381894517708754948/EpK8VJPe_normal.jpg', 'profile_image_url_https': 'https://pbs.twimg.com/profile_images/1381894517708754948/EpK8VJPe_normal.jpg', 'profile_banner_url': 'https://pbs.twimg.com/profile_banners/918804624303382528/1601733353', 'default_profile': True, 'default_profile_image': False, 'following': None, 'follow_request_sent': None, 'notifications': None, 'withheld_in_countries': []}, id=918804624303382528, id_str='918804624303382528', name='PlanB', screen_name='100trillionUSD', location='NOT FINANCIAL ADVICE', url='http://PlanBTC.com', description='#bitcoin\\nhttp://PlanBTC.com\\nNOT FINANCIAL ADVICE\\n1PRoNLcWHzM8DuKpGE4YM9hb1PjSEnWRpn', translator_type='none', protected=False, verified=False, followers_count=543886, friends_count=190, listed_count=6520, favourites_count=23605, statuses_count=7182, created_at=datetime.datetime(2017, 10, 13, 11, 44, 27), utc_offset=None, time_zone=None, geo_enabled=False, lang=None, contributors_enabled=False, is_translator=False, profile_background_color='F5F8FA', profile_background_image_url='', profile_background_image_url_https='', profile_background_tile=False, profile_link_color='1DA1F2', profile_sidebar_border_color='C0DEED', profile_sidebar_fill_color='DDEEF6', profile_text_color='333333', profile_use_background_image=True, profile_image_url='http://pbs.twimg.com/profile_images/1381894517708754948/EpK8VJPe_normal.jpg', profile_image_url_https='https://pbs.twimg.com/profile_images/1381894517708754948/EpK8VJPe_normal.jpg', profile_banner_url='https://pbs.twimg.com/profile_banners/918804624303382528/1601733353', default_profile=True, default_profile_image=False, following=False, follow_request_sent=None, notifications=None, withheld_in_countries=[]), user=User(_api=<tweepy.api.API object at 0x7f9ad9753f10>, _json={'id': 918804624303382528, 'id_str': '918804624303382528', 'name': 'PlanB', 'screen_name': '100trillionUSD', 'location': 'NOT FINANCIAL ADVICE', 'url': 'http://PlanBTC.com', 'description': '#bitcoin\\nhttp://PlanBTC.com\\nNOT FINANCIAL ADVICE\\n1PRoNLcWHzM8DuKpGE4YM9hb1PjSEnWRpn', 'translator_type': 'none', 'protected': False, 'verified': False, 'followers_count': 543886, 'friends_count': 190, 'listed_count': 6520, 'favourites_count': 23605, 'statuses_count': 7182, 'created_at': 'Fri Oct 13 11:44:27 +0000 2017', 'utc_offset': None, 'time_zone': None, 'geo_enabled': False, 'lang': None, 'contributors_enabled': False, 'is_translator': False, 'profile_background_color': 'F5F8FA', 'profile_background_image_url': '', 'profile_background_image_url_https': '', 'profile_background_tile': False, 'profile_link_color': '1DA1F2', 'profile_sidebar_border_color': 'C0DEED', 'profile_sidebar_fill_color': 'DDEEF6', 'profile_text_color': '333333', 'profile_use_background_image': True, 'profile_image_url': 'http://pbs.twimg.com/profile_images/1381894517708754948/EpK8VJPe_normal.jpg', 'profile_image_url_https': 'https://pbs.twimg.com/profile_images/1381894517708754948/EpK8VJPe_normal.jpg', 'profile_banner_url': 'https://pbs.twimg.com/profile_banners/918804624303382528/1601733353', 'default_profile': True, 'default_profile_image': False, 'following': None, 'follow_request_sent': None, 'notifications': None, 'withheld_in_countries': []}, id=918804624303382528, id_str='918804624303382528', name='PlanB', screen_name='100trillionUSD', location='NOT FINANCIAL ADVICE', url='http://PlanBTC.com', description='#bitcoin\\nhttp://PlanBTC.com\\nNOT FINANCIAL ADVICE\\n1PRoNLcWHzM8DuKpGE4YM9hb1PjSEnWRpn', translator_type='none', protected=False, verified=False, followers_count=543886, friends_count=190, listed_count=6520, favourites_count=23605, statuses_count=7182, created_at=datetime.datetime(2017, 10, 13, 11, 44, 27), utc_offset=None, time_zone=None, geo_enabled=False, lang=None, contributors_enabled=False, is_translator=False, profile_background_color='F5F8FA', profile_background_image_url='', profile_background_image_url_https='', profile_background_tile=False, profile_link_color='1DA1F2', profile_sidebar_border_color='C0DEED', profile_sidebar_fill_color='DDEEF6', profile_text_color='333333', profile_use_background_image=True, profile_image_url='http://pbs.twimg.com/profile_images/1381894517708754948/EpK8VJPe_normal.jpg', profile_image_url_https='https://pbs.twimg.com/profile_images/1381894517708754948/EpK8VJPe_normal.jpg', profile_banner_url='https://pbs.twimg.com/profile_banners/918804624303382528/1601733353', default_profile=True, default_profile_image=False, following=False, follow_request_sent=None, notifications=None, withheld_in_countries=[]), geo=None, coordinates=None, place=None, contributors=None, is_quote_status=False, extended_tweet={'full_text': 'In the chart you see at what price level each of the total 18.7M BTC was last moved.\\n\\nSo what happened in May? Weak hands sold ~1M BTC in May at $30k-35k .. which they bought in April at $55k-60k: a staggering ~$20B loss. The good news: these 1M #bitcoin are in strong hands now. https://t.co/bIXhil2LL7', 'display_text_range': [0, 279], 'entities': {'hashtags': [{'text': 'bitcoin', 'indices': [246, 254]}], 'urls': [], 'user_mentions': [], 'symbols': [], 'media': [{'id': 1396608675482062850, 'id_str': '1396608675482062850', 'indices': [280, 303], 'media_url': 'http://pbs.twimg.com/media/E2HAMNhWUAI3tvb.png', 'media_url_https': 'https://pbs.twimg.com/media/E2HAMNhWUAI3tvb.png', 'url': 'https://t.co/bIXhil2LL7', 'display_url': 'pic.twitter.com/bIXhil2LL7', 'expanded_url': 'https://twitter.com/100trillionUSD/status/1396609082111504386/photo/1', 'type': 'photo', 'sizes': {'medium': {'w': 1200, 'h': 678, 'resize': 'fit'}, 'large': {'w': 1668, 'h': 943, 'resize': 'fit'}, 'small': {'w': 680, 'h': 384, 'resize': 'fit'}, 'thumb': {'w': 150, 'h': 150, 'resize': 'crop'}}}]}, 'extended_entities': {'media': [{'id': 1396608675482062850, 'id_str': '1396608675482062850', 'indices': [280, 303], 'media_url': 'http://pbs.twimg.com/media/E2HAMNhWUAI3tvb.png', 'media_url_https': 'https://pbs.twimg.com/media/E2HAMNhWUAI3tvb.png', 'url': 'https://t.co/bIXhil2LL7', 'display_url': 'pic.twitter.com/bIXhil2LL7', 'expanded_url': 'https://twitter.com/100trillionUSD/status/1396609082111504386/photo/1', 'type': 'photo', 'sizes': {'medium': {'w': 1200, 'h': 678, 'resize': 'fit'}, 'large': {'w': 1668, 'h': 943, 'resize': 'fit'}, 'small': {'w': 680, 'h': 384, 'resize': 'fit'}, 'thumb': {'w': 150, 'h': 150, 'resize': 'crop'}}}]}}, quote_count=171, reply_count=313, retweet_count=1675, favorite_count=8371, entities={'hashtags': [], 'urls': [{'url': 'https://t.co/v7fDSAWxHM', 'expanded_url': 'https://twitter.com/i/web/status/1396609082111504386', 'display_url': 'twitter.com/i/web/status/1…', 'indices': [117, 140]}], 'user_mentions': [], 'symbols': []}, favorited=False, retweeted=False, possibly_sensitive=False, filter_level='low', lang='en'), is_quote_status=False, quote_count=0, reply_count=0, retweet_count=0, favorite_count=0, entities={'hashtags': [], 'urls': [], 'user_mentions': [{'screen_name': '100trillionUSD', 'name': 'PlanB', 'id': 918804624303382528, 'id_str': '918804624303382528', 'indices': [3, 18]}], 'symbols': []}, favorited=False, retweeted=False, filter_level='low', lang='en', matching_rules=[{'tag': None}]),\n",
              " Status(_api=<tweepy.api.API object at 0x7f9ad9753f10>, _json={'created_at': 'Sun May 23 23:59:58 +0000 2021', 'id': 1396616930467930118, 'id_str': '1396616930467930118', 'text': 'RT @TheStalwart: Also this time around, Bitcion peaked *the* day of the $COIN IPO. Whereas in 2017, Bitcoin peaked within a day of the CME…', 'source': '<a href=\"http://twitter.com/download/android\" rel=\"nofollow\">Twitter for Android</a>', 'truncated': False, 'in_reply_to_status_id': None, 'in_reply_to_status_id_str': None, 'in_reply_to_user_id': None, 'in_reply_to_user_id_str': None, 'in_reply_to_screen_name': None, 'user': {'id': 1078471347288883200, 'id_str': '1078471347288883200', 'name': 'Totally Quiet Podcast (TQP)', 'screen_name': 'tslaqpodcast', 'location': 'Twitter, Podbean, & Patreon', 'url': 'http://tslaqpodcast.podbean.com', 'description': 'Aspiring Technical Analysis Non-Guru\\nSome Tweets for Future Reference\\nLong/Short Retail Baggie\\nShort Side Inspired by $TSLAQ\\nPreviously-Musked\\n\\nhttps://t.co/GyreIUE67a', 'translator_type': 'none', 'protected': False, 'verified': False, 'followers_count': 4082, 'friends_count': 2133, 'listed_count': 75, 'favourites_count': 60675, 'statuses_count': 38747, 'created_at': 'Fri Dec 28 02:03:01 +0000 2018', 'utc_offset': None, 'time_zone': None, 'geo_enabled': True, 'lang': None, 'contributors_enabled': False, 'is_translator': False, 'profile_background_color': 'F5F8FA', 'profile_background_image_url': '', 'profile_background_image_url_https': '', 'profile_background_tile': False, 'profile_link_color': '1DA1F2', 'profile_sidebar_border_color': 'C0DEED', 'profile_sidebar_fill_color': 'DDEEF6', 'profile_text_color': '333333', 'profile_use_background_image': True, 'profile_image_url': 'http://pbs.twimg.com/profile_images/1111236247593340929/q0VrSS7m_normal.jpg', 'profile_image_url_https': 'https://pbs.twimg.com/profile_images/1111236247593340929/q0VrSS7m_normal.jpg', 'profile_banner_url': 'https://pbs.twimg.com/profile_banners/1078471347288883200/1573656402', 'default_profile': True, 'default_profile_image': False, 'following': None, 'follow_request_sent': None, 'notifications': None, 'withheld_in_countries': []}, 'geo': None, 'coordinates': None, 'place': None, 'contributors': None, 'retweeted_status': {'created_at': 'Sun May 23 23:43:44 +0000 2021', 'id': 1396612843387170817, 'id_str': '1396612843387170817', 'text': 'Also this time around, Bitcion peaked *the* day of the $COIN IPO. Whereas in 2017, Bitcoin peaked within a day of t… https://t.co/RoFZ9kEXbx', 'source': '<a href=\"https://about.twitter.com/products/tweetdeck\" rel=\"nofollow\">TweetDeck</a>', 'truncated': True, 'in_reply_to_status_id': 1396612620946395136, 'in_reply_to_status_id_str': '1396612620946395136', 'in_reply_to_user_id': 14096763, 'in_reply_to_user_id_str': '14096763', 'in_reply_to_screen_name': 'TheStalwart', 'user': {'id': 14096763, 'id_str': '14096763', 'name': 'Joe Weisenthal', 'screen_name': 'TheStalwart', 'location': 'New York City', 'url': 'https://www.bloomberg.com/OddLots', 'description': \"Co-host of the Odd Lots podcast and 'What'd You Miss?' on Bloomberg TV. Fan of the Bakersfield Sound. I don't troll.\", 'translator_type': 'none', 'protected': False, 'verified': False, 'followers_count': 275597, 'friends_count': 5951, 'listed_count': 7778, 'favourites_count': 203885, 'statuses_count': 374579, 'created_at': 'Fri Mar 07 19:37:09 +0000 2008', 'utc_offset': None, 'time_zone': None, 'geo_enabled': False, 'lang': None, 'contributors_enabled': False, 'is_translator': False, 'profile_background_color': 'C0DEED', 'profile_background_image_url': 'http://abs.twimg.com/images/themes/theme1/bg.png', 'profile_background_image_url_https': 'https://abs.twimg.com/images/themes/theme1/bg.png', 'profile_background_tile': False, 'profile_link_color': '1DA1F2', 'profile_sidebar_border_color': 'C0DEED', 'profile_sidebar_fill_color': 'DDEEF6', 'profile_text_color': '333333', 'profile_use_background_image': True, 'profile_image_url': 'http://pbs.twimg.com/profile_images/1280173105919545344/9zykNiN8_normal.jpg', 'profile_image_url_https': 'https://pbs.twimg.com/profile_images/1280173105919545344/9zykNiN8_normal.jpg', 'profile_banner_url': 'https://pbs.twimg.com/profile_banners/14096763/1495849810', 'default_profile': True, 'default_profile_image': False, 'following': None, 'follow_request_sent': None, 'notifications': None, 'withheld_in_countries': []}, 'geo': None, 'coordinates': None, 'place': None, 'contributors': None, 'is_quote_status': False, 'extended_tweet': {'full_text': 'Also this time around, Bitcion peaked *the* day of the $COIN IPO. Whereas in 2017, Bitcoin peaked within a day of the CME futures launch. Really remarkable similarities https://t.co/jLPtwQMtZe', 'display_text_range': [0, 192], 'entities': {'hashtags': [], 'urls': [{'url': 'https://t.co/jLPtwQMtZe', 'expanded_url': 'https://www.bloomberg.com/news/articles/2021-05-23/two-ways-this-crypto-crash-looks-just-like-the-last-peak?srnd=premium&sref=vuYGislZ', 'display_url': 'bloomberg.com/news/articles/…', 'indices': [169, 192]}], 'user_mentions': [], 'symbols': [{'text': 'COIN', 'indices': [55, 60]}]}}, 'quote_count': 1, 'reply_count': 12, 'retweet_count': 12, 'favorite_count': 120, 'entities': {'hashtags': [], 'urls': [{'url': 'https://t.co/RoFZ9kEXbx', 'expanded_url': 'https://twitter.com/i/web/status/1396612843387170817', 'display_url': 'twitter.com/i/web/status/1…', 'indices': [117, 140]}], 'user_mentions': [], 'symbols': [{'text': 'COIN', 'indices': [55, 60]}]}, 'favorited': False, 'retweeted': False, 'possibly_sensitive': False, 'filter_level': 'low', 'lang': 'en'}, 'is_quote_status': False, 'quote_count': 0, 'reply_count': 0, 'retweet_count': 0, 'favorite_count': 0, 'entities': {'hashtags': [], 'urls': [], 'user_mentions': [{'screen_name': 'TheStalwart', 'name': 'Joe Weisenthal', 'id': 14096763, 'id_str': '14096763', 'indices': [3, 15]}], 'symbols': [{'text': 'COIN', 'indices': [72, 77]}]}, 'favorited': False, 'retweeted': False, 'filter_level': 'low', 'lang': 'en', 'matching_rules': [{'tag': None}]}, created_at=datetime.datetime(2021, 5, 23, 23, 59, 58), id=1396616930467930118, id_str='1396616930467930118', text='RT @TheStalwart: Also this time around, Bitcion peaked *the* day of the $COIN IPO. Whereas in 2017, Bitcoin peaked within a day of the CME…', source='Twitter for Android', source_url='http://twitter.com/download/android', truncated=False, in_reply_to_status_id=None, in_reply_to_status_id_str=None, in_reply_to_user_id=None, in_reply_to_user_id_str=None, in_reply_to_screen_name=None, author=User(_api=<tweepy.api.API object at 0x7f9ad9753f10>, _json={'id': 1078471347288883200, 'id_str': '1078471347288883200', 'name': 'Totally Quiet Podcast (TQP)', 'screen_name': 'tslaqpodcast', 'location': 'Twitter, Podbean, & Patreon', 'url': 'http://tslaqpodcast.podbean.com', 'description': 'Aspiring Technical Analysis Non-Guru\\nSome Tweets for Future Reference\\nLong/Short Retail Baggie\\nShort Side Inspired by $TSLAQ\\nPreviously-Musked\\n\\nhttps://t.co/GyreIUE67a', 'translator_type': 'none', 'protected': False, 'verified': False, 'followers_count': 4082, 'friends_count': 2133, 'listed_count': 75, 'favourites_count': 60675, 'statuses_count': 38747, 'created_at': 'Fri Dec 28 02:03:01 +0000 2018', 'utc_offset': None, 'time_zone': None, 'geo_enabled': True, 'lang': None, 'contributors_enabled': False, 'is_translator': False, 'profile_background_color': 'F5F8FA', 'profile_background_image_url': '', 'profile_background_image_url_https': '', 'profile_background_tile': False, 'profile_link_color': '1DA1F2', 'profile_sidebar_border_color': 'C0DEED', 'profile_sidebar_fill_color': 'DDEEF6', 'profile_text_color': '333333', 'profile_use_background_image': True, 'profile_image_url': 'http://pbs.twimg.com/profile_images/1111236247593340929/q0VrSS7m_normal.jpg', 'profile_image_url_https': 'https://pbs.twimg.com/profile_images/1111236247593340929/q0VrSS7m_normal.jpg', 'profile_banner_url': 'https://pbs.twimg.com/profile_banners/1078471347288883200/1573656402', 'default_profile': True, 'default_profile_image': False, 'following': None, 'follow_request_sent': None, 'notifications': None, 'withheld_in_countries': []}, id=1078471347288883200, id_str='1078471347288883200', name='Totally Quiet Podcast (TQP)', screen_name='tslaqpodcast', location='Twitter, Podbean, & Patreon', url='http://tslaqpodcast.podbean.com', description='Aspiring Technical Analysis Non-Guru\\nSome Tweets for Future Reference\\nLong/Short Retail Baggie\\nShort Side Inspired by $TSLAQ\\nPreviously-Musked\\n\\nhttps://t.co/GyreIUE67a', translator_type='none', protected=False, verified=False, followers_count=4082, friends_count=2133, listed_count=75, favourites_count=60675, statuses_count=38747, created_at=datetime.datetime(2018, 12, 28, 2, 3, 1), utc_offset=None, time_zone=None, geo_enabled=True, lang=None, contributors_enabled=False, is_translator=False, profile_background_color='F5F8FA', profile_background_image_url='', profile_background_image_url_https='', profile_background_tile=False, profile_link_color='1DA1F2', profile_sidebar_border_color='C0DEED', profile_sidebar_fill_color='DDEEF6', profile_text_color='333333', profile_use_background_image=True, profile_image_url='http://pbs.twimg.com/profile_images/1111236247593340929/q0VrSS7m_normal.jpg', profile_image_url_https='https://pbs.twimg.com/profile_images/1111236247593340929/q0VrSS7m_normal.jpg', profile_banner_url='https://pbs.twimg.com/profile_banners/1078471347288883200/1573656402', default_profile=True, default_profile_image=False, following=False, follow_request_sent=None, notifications=None, withheld_in_countries=[]), user=User(_api=<tweepy.api.API object at 0x7f9ad9753f10>, _json={'id': 1078471347288883200, 'id_str': '1078471347288883200', 'name': 'Totally Quiet Podcast (TQP)', 'screen_name': 'tslaqpodcast', 'location': 'Twitter, Podbean, & Patreon', 'url': 'http://tslaqpodcast.podbean.com', 'description': 'Aspiring Technical Analysis Non-Guru\\nSome Tweets for Future Reference\\nLong/Short Retail Baggie\\nShort Side Inspired by $TSLAQ\\nPreviously-Musked\\n\\nhttps://t.co/GyreIUE67a', 'translator_type': 'none', 'protected': False, 'verified': False, 'followers_count': 4082, 'friends_count': 2133, 'listed_count': 75, 'favourites_count': 60675, 'statuses_count': 38747, 'created_at': 'Fri Dec 28 02:03:01 +0000 2018', 'utc_offset': None, 'time_zone': None, 'geo_enabled': True, 'lang': None, 'contributors_enabled': False, 'is_translator': False, 'profile_background_color': 'F5F8FA', 'profile_background_image_url': '', 'profile_background_image_url_https': '', 'profile_background_tile': False, 'profile_link_color': '1DA1F2', 'profile_sidebar_border_color': 'C0DEED', 'profile_sidebar_fill_color': 'DDEEF6', 'profile_text_color': '333333', 'profile_use_background_image': True, 'profile_image_url': 'http://pbs.twimg.com/profile_images/1111236247593340929/q0VrSS7m_normal.jpg', 'profile_image_url_https': 'https://pbs.twimg.com/profile_images/1111236247593340929/q0VrSS7m_normal.jpg', 'profile_banner_url': 'https://pbs.twimg.com/profile_banners/1078471347288883200/1573656402', 'default_profile': True, 'default_profile_image': False, 'following': None, 'follow_request_sent': None, 'notifications': None, 'withheld_in_countries': []}, id=1078471347288883200, id_str='1078471347288883200', name='Totally Quiet Podcast (TQP)', screen_name='tslaqpodcast', location='Twitter, Podbean, & Patreon', url='http://tslaqpodcast.podbean.com', description='Aspiring Technical Analysis Non-Guru\\nSome Tweets for Future Reference\\nLong/Short Retail Baggie\\nShort Side Inspired by $TSLAQ\\nPreviously-Musked\\n\\nhttps://t.co/GyreIUE67a', translator_type='none', protected=False, verified=False, followers_count=4082, friends_count=2133, listed_count=75, favourites_count=60675, statuses_count=38747, created_at=datetime.datetime(2018, 12, 28, 2, 3, 1), utc_offset=None, time_zone=None, geo_enabled=True, lang=None, contributors_enabled=False, is_translator=False, profile_background_color='F5F8FA', profile_background_image_url='', profile_background_image_url_https='', profile_background_tile=False, profile_link_color='1DA1F2', profile_sidebar_border_color='C0DEED', profile_sidebar_fill_color='DDEEF6', profile_text_color='333333', profile_use_background_image=True, profile_image_url='http://pbs.twimg.com/profile_images/1111236247593340929/q0VrSS7m_normal.jpg', profile_image_url_https='https://pbs.twimg.com/profile_images/1111236247593340929/q0VrSS7m_normal.jpg', profile_banner_url='https://pbs.twimg.com/profile_banners/1078471347288883200/1573656402', default_profile=True, default_profile_image=False, following=False, follow_request_sent=None, notifications=None, withheld_in_countries=[]), geo=None, coordinates=None, place=None, contributors=None, retweeted_status=Status(_api=<tweepy.api.API object at 0x7f9ad9753f10>, _json={'created_at': 'Sun May 23 23:43:44 +0000 2021', 'id': 1396612843387170817, 'id_str': '1396612843387170817', 'text': 'Also this time around, Bitcion peaked *the* day of the $COIN IPO. Whereas in 2017, Bitcoin peaked within a day of t… https://t.co/RoFZ9kEXbx', 'source': '<a href=\"https://about.twitter.com/products/tweetdeck\" rel=\"nofollow\">TweetDeck</a>', 'truncated': True, 'in_reply_to_status_id': 1396612620946395136, 'in_reply_to_status_id_str': '1396612620946395136', 'in_reply_to_user_id': 14096763, 'in_reply_to_user_id_str': '14096763', 'in_reply_to_screen_name': 'TheStalwart', 'user': {'id': 14096763, 'id_str': '14096763', 'name': 'Joe Weisenthal', 'screen_name': 'TheStalwart', 'location': 'New York City', 'url': 'https://www.bloomberg.com/OddLots', 'description': \"Co-host of the Odd Lots podcast and 'What'd You Miss?' on Bloomberg TV. Fan of the Bakersfield Sound. I don't troll.\", 'translator_type': 'none', 'protected': False, 'verified': False, 'followers_count': 275597, 'friends_count': 5951, 'listed_count': 7778, 'favourites_count': 203885, 'statuses_count': 374579, 'created_at': 'Fri Mar 07 19:37:09 +0000 2008', 'utc_offset': None, 'time_zone': None, 'geo_enabled': False, 'lang': None, 'contributors_enabled': False, 'is_translator': False, 'profile_background_color': 'C0DEED', 'profile_background_image_url': 'http://abs.twimg.com/images/themes/theme1/bg.png', 'profile_background_image_url_https': 'https://abs.twimg.com/images/themes/theme1/bg.png', 'profile_background_tile': False, 'profile_link_color': '1DA1F2', 'profile_sidebar_border_color': 'C0DEED', 'profile_sidebar_fill_color': 'DDEEF6', 'profile_text_color': '333333', 'profile_use_background_image': True, 'profile_image_url': 'http://pbs.twimg.com/profile_images/1280173105919545344/9zykNiN8_normal.jpg', 'profile_image_url_https': 'https://pbs.twimg.com/profile_images/1280173105919545344/9zykNiN8_normal.jpg', 'profile_banner_url': 'https://pbs.twimg.com/profile_banners/14096763/1495849810', 'default_profile': True, 'default_profile_image': False, 'following': None, 'follow_request_sent': None, 'notifications': None, 'withheld_in_countries': []}, 'geo': None, 'coordinates': None, 'place': None, 'contributors': None, 'is_quote_status': False, 'extended_tweet': {'full_text': 'Also this time around, Bitcion peaked *the* day of the $COIN IPO. Whereas in 2017, Bitcoin peaked within a day of the CME futures launch. Really remarkable similarities https://t.co/jLPtwQMtZe', 'display_text_range': [0, 192], 'entities': {'hashtags': [], 'urls': [{'url': 'https://t.co/jLPtwQMtZe', 'expanded_url': 'https://www.bloomberg.com/news/articles/2021-05-23/two-ways-this-crypto-crash-looks-just-like-the-last-peak?srnd=premium&sref=vuYGislZ', 'display_url': 'bloomberg.com/news/articles/…', 'indices': [169, 192]}], 'user_mentions': [], 'symbols': [{'text': 'COIN', 'indices': [55, 60]}]}}, 'quote_count': 1, 'reply_count': 12, 'retweet_count': 12, 'favorite_count': 120, 'entities': {'hashtags': [], 'urls': [{'url': 'https://t.co/RoFZ9kEXbx', 'expanded_url': 'https://twitter.com/i/web/status/1396612843387170817', 'display_url': 'twitter.com/i/web/status/1…', 'indices': [117, 140]}], 'user_mentions': [], 'symbols': [{'text': 'COIN', 'indices': [55, 60]}]}, 'favorited': False, 'retweeted': False, 'possibly_sensitive': False, 'filter_level': 'low', 'lang': 'en'}, created_at=datetime.datetime(2021, 5, 23, 23, 43, 44), id=1396612843387170817, id_str='1396612843387170817', text='Also this time around, Bitcion peaked *the* day of the $COIN IPO. Whereas in 2017, Bitcoin peaked within a day of t… https://t.co/RoFZ9kEXbx', source='TweetDeck', source_url='https://about.twitter.com/products/tweetdeck', truncated=True, in_reply_to_status_id=1396612620946395136, in_reply_to_status_id_str='1396612620946395136', in_reply_to_user_id=14096763, in_reply_to_user_id_str='14096763', in_reply_to_screen_name='TheStalwart', author=User(_api=<tweepy.api.API object at 0x7f9ad9753f10>, _json={'id': 14096763, 'id_str': '14096763', 'name': 'Joe Weisenthal', 'screen_name': 'TheStalwart', 'location': 'New York City', 'url': 'https://www.bloomberg.com/OddLots', 'description': \"Co-host of the Odd Lots podcast and 'What'd You Miss?' on Bloomberg TV. Fan of the Bakersfield Sound. I don't troll.\", 'translator_type': 'none', 'protected': False, 'verified': False, 'followers_count': 275597, 'friends_count': 5951, 'listed_count': 7778, 'favourites_count': 203885, 'statuses_count': 374579, 'created_at': 'Fri Mar 07 19:37:09 +0000 2008', 'utc_offset': None, 'time_zone': None, 'geo_enabled': False, 'lang': None, 'contributors_enabled': False, 'is_translator': False, 'profile_background_color': 'C0DEED', 'profile_background_image_url': 'http://abs.twimg.com/images/themes/theme1/bg.png', 'profile_background_image_url_https': 'https://abs.twimg.com/images/themes/theme1/bg.png', 'profile_background_tile': False, 'profile_link_color': '1DA1F2', 'profile_sidebar_border_color': 'C0DEED', 'profile_sidebar_fill_color': 'DDEEF6', 'profile_text_color': '333333', 'profile_use_background_image': True, 'profile_image_url': 'http://pbs.twimg.com/profile_images/1280173105919545344/9zykNiN8_normal.jpg', 'profile_image_url_https': 'https://pbs.twimg.com/profile_images/1280173105919545344/9zykNiN8_normal.jpg', 'profile_banner_url': 'https://pbs.twimg.com/profile_banners/14096763/1495849810', 'default_profile': True, 'default_profile_image': False, 'following': None, 'follow_request_sent': None, 'notifications': None, 'withheld_in_countries': []}, id=14096763, id_str='14096763', name='Joe Weisenthal', screen_name='TheStalwart', location='New York City', url='https://www.bloomberg.com/OddLots', description=\"Co-host of the Odd Lots podcast and 'What'd You Miss?' on Bloomberg TV. Fan of the Bakersfield Sound. I don't troll.\", translator_type='none', protected=False, verified=False, followers_count=275597, friends_count=5951, listed_count=7778, favourites_count=203885, statuses_count=374579, created_at=datetime.datetime(2008, 3, 7, 19, 37, 9), utc_offset=None, time_zone=None, geo_enabled=False, lang=None, contributors_enabled=False, is_translator=False, profile_background_color='C0DEED', profile_background_image_url='http://abs.twimg.com/images/themes/theme1/bg.png', profile_background_image_url_https='https://abs.twimg.com/images/themes/theme1/bg.png', profile_background_tile=False, profile_link_color='1DA1F2', profile_sidebar_border_color='C0DEED', profile_sidebar_fill_color='DDEEF6', profile_text_color='333333', profile_use_background_image=True, profile_image_url='http://pbs.twimg.com/profile_images/1280173105919545344/9zykNiN8_normal.jpg', profile_image_url_https='https://pbs.twimg.com/profile_images/1280173105919545344/9zykNiN8_normal.jpg', profile_banner_url='https://pbs.twimg.com/profile_banners/14096763/1495849810', default_profile=True, default_profile_image=False, following=False, follow_request_sent=None, notifications=None, withheld_in_countries=[]), user=User(_api=<tweepy.api.API object at 0x7f9ad9753f10>, _json={'id': 14096763, 'id_str': '14096763', 'name': 'Joe Weisenthal', 'screen_name': 'TheStalwart', 'location': 'New York City', 'url': 'https://www.bloomberg.com/OddLots', 'description': \"Co-host of the Odd Lots podcast and 'What'd You Miss?' on Bloomberg TV. Fan of the Bakersfield Sound. I don't troll.\", 'translator_type': 'none', 'protected': False, 'verified': False, 'followers_count': 275597, 'friends_count': 5951, 'listed_count': 7778, 'favourites_count': 203885, 'statuses_count': 374579, 'created_at': 'Fri Mar 07 19:37:09 +0000 2008', 'utc_offset': None, 'time_zone': None, 'geo_enabled': False, 'lang': None, 'contributors_enabled': False, 'is_translator': False, 'profile_background_color': 'C0DEED', 'profile_background_image_url': 'http://abs.twimg.com/images/themes/theme1/bg.png', 'profile_background_image_url_https': 'https://abs.twimg.com/images/themes/theme1/bg.png', 'profile_background_tile': False, 'profile_link_color': '1DA1F2', 'profile_sidebar_border_color': 'C0DEED', 'profile_sidebar_fill_color': 'DDEEF6', 'profile_text_color': '333333', 'profile_use_background_image': True, 'profile_image_url': 'http://pbs.twimg.com/profile_images/1280173105919545344/9zykNiN8_normal.jpg', 'profile_image_url_https': 'https://pbs.twimg.com/profile_images/1280173105919545344/9zykNiN8_normal.jpg', 'profile_banner_url': 'https://pbs.twimg.com/profile_banners/14096763/1495849810', 'default_profile': True, 'default_profile_image': False, 'following': None, 'follow_request_sent': None, 'notifications': None, 'withheld_in_countries': []}, id=14096763, id_str='14096763', name='Joe Weisenthal', screen_name='TheStalwart', location='New York City', url='https://www.bloomberg.com/OddLots', description=\"Co-host of the Odd Lots podcast and 'What'd You Miss?' on Bloomberg TV. Fan of the Bakersfield Sound. I don't troll.\", translator_type='none', protected=False, verified=False, followers_count=275597, friends_count=5951, listed_count=7778, favourites_count=203885, statuses_count=374579, created_at=datetime.datetime(2008, 3, 7, 19, 37, 9), utc_offset=None, time_zone=None, geo_enabled=False, lang=None, contributors_enabled=False, is_translator=False, profile_background_color='C0DEED', profile_background_image_url='http://abs.twimg.com/images/themes/theme1/bg.png', profile_background_image_url_https='https://abs.twimg.com/images/themes/theme1/bg.png', profile_background_tile=False, profile_link_color='1DA1F2', profile_sidebar_border_color='C0DEED', profile_sidebar_fill_color='DDEEF6', profile_text_color='333333', profile_use_background_image=True, profile_image_url='http://pbs.twimg.com/profile_images/1280173105919545344/9zykNiN8_normal.jpg', profile_image_url_https='https://pbs.twimg.com/profile_images/1280173105919545344/9zykNiN8_normal.jpg', profile_banner_url='https://pbs.twimg.com/profile_banners/14096763/1495849810', default_profile=True, default_profile_image=False, following=False, follow_request_sent=None, notifications=None, withheld_in_countries=[]), geo=None, coordinates=None, place=None, contributors=None, is_quote_status=False, extended_tweet={'full_text': 'Also this time around, Bitcion peaked *the* day of the $COIN IPO. Whereas in 2017, Bitcoin peaked within a day of the CME futures launch. Really remarkable similarities https://t.co/jLPtwQMtZe', 'display_text_range': [0, 192], 'entities': {'hashtags': [], 'urls': [{'url': 'https://t.co/jLPtwQMtZe', 'expanded_url': 'https://www.bloomberg.com/news/articles/2021-05-23/two-ways-this-crypto-crash-looks-just-like-the-last-peak?srnd=premium&sref=vuYGislZ', 'display_url': 'bloomberg.com/news/articles/…', 'indices': [169, 192]}], 'user_mentions': [], 'symbols': [{'text': 'COIN', 'indices': [55, 60]}]}}, quote_count=1, reply_count=12, retweet_count=12, favorite_count=120, entities={'hashtags': [], 'urls': [{'url': 'https://t.co/RoFZ9kEXbx', 'expanded_url': 'https://twitter.com/i/web/status/1396612843387170817', 'display_url': 'twitter.com/i/web/status/1…', 'indices': [117, 140]}], 'user_mentions': [], 'symbols': [{'text': 'COIN', 'indices': [55, 60]}]}, favorited=False, retweeted=False, possibly_sensitive=False, filter_level='low', lang='en'), is_quote_status=False, quote_count=0, reply_count=0, retweet_count=0, favorite_count=0, entities={'hashtags': [], 'urls': [], 'user_mentions': [{'screen_name': 'TheStalwart', 'name': 'Joe Weisenthal', 'id': 14096763, 'id_str': '14096763', 'indices': [3, 15]}], 'symbols': [{'text': 'COIN', 'indices': [72, 77]}]}, favorited=False, retweeted=False, filter_level='low', lang='en', matching_rules=[{'tag': None}])]"
            ]
          },
          "execution_count": 7,
          "metadata": {
            "tags": []
          },
          "output_type": "execute_result"
        }
      ],
      "source": [
        "# Print 5 firts results\n",
        "tweets[0:5]"
      ]
    },
    {
      "cell_type": "markdown",
      "metadata": {
        "id": "hc71HKeIntQ0"
      },
      "source": [
        "## 1.5 Passing the Tweepy object to a DataFrame"
      ]
    },
    {
      "cell_type": "code",
      "execution_count": null,
      "metadata": {
        "colab": {
          "base_uri": "https://localhost:8080/",
          "height": 336
        },
        "id": "wN46Sc7gUQz3",
        "outputId": "0c0ce1b5-b121-4162-827c-ebce25fe33a6"
      },
      "outputs": [
        {
          "data": {
            "text/html": [
              "<div>\n",
              "<style scoped>\n",
              "    .dataframe tbody tr th:only-of-type {\n",
              "        vertical-align: middle;\n",
              "    }\n",
              "\n",
              "    .dataframe tbody tr th {\n",
              "        vertical-align: top;\n",
              "    }\n",
              "\n",
              "    .dataframe thead th {\n",
              "        text-align: right;\n",
              "    }\n",
              "</style>\n",
              "<table border=\"1\" class=\"dataframe\">\n",
              "  <thead>\n",
              "    <tr style=\"text-align: right;\">\n",
              "      <th></th>\n",
              "      <th>created_at</th>\n",
              "      <th>id</th>\n",
              "      <th>id_str</th>\n",
              "      <th>text</th>\n",
              "      <th>source</th>\n",
              "      <th>truncated</th>\n",
              "      <th>in_reply_to_status_id</th>\n",
              "      <th>in_reply_to_status_id_str</th>\n",
              "      <th>in_reply_to_user_id</th>\n",
              "      <th>in_reply_to_user_id_str</th>\n",
              "      <th>in_reply_to_screen_name</th>\n",
              "      <th>geo</th>\n",
              "      <th>coordinates</th>\n",
              "      <th>place</th>\n",
              "      <th>contributors</th>\n",
              "      <th>is_quote_status</th>\n",
              "      <th>quote_count</th>\n",
              "      <th>reply_count</th>\n",
              "      <th>retweet_count</th>\n",
              "      <th>favorite_count</th>\n",
              "      <th>favorited</th>\n",
              "      <th>retweeted</th>\n",
              "      <th>possibly_sensitive</th>\n",
              "      <th>filter_level</th>\n",
              "      <th>lang</th>\n",
              "      <th>matching_rules</th>\n",
              "      <th>user.id</th>\n",
              "      <th>user.id_str</th>\n",
              "      <th>user.name</th>\n",
              "      <th>user.screen_name</th>\n",
              "      <th>user.location</th>\n",
              "      <th>user.url</th>\n",
              "      <th>user.description</th>\n",
              "      <th>user.translator_type</th>\n",
              "      <th>user.protected</th>\n",
              "      <th>user.verified</th>\n",
              "      <th>user.followers_count</th>\n",
              "      <th>user.friends_count</th>\n",
              "      <th>user.listed_count</th>\n",
              "      <th>user.favourites_count</th>\n",
              "      <th>...</th>\n",
              "      <th>retweeted_status.coordinates</th>\n",
              "      <th>retweeted_status.place</th>\n",
              "      <th>retweeted_status.contributors</th>\n",
              "      <th>retweeted_status.is_quote_status</th>\n",
              "      <th>retweeted_status.extended_tweet.full_text</th>\n",
              "      <th>retweeted_status.extended_tweet.display_text_range</th>\n",
              "      <th>retweeted_status.extended_tweet.entities.hashtags</th>\n",
              "      <th>retweeted_status.extended_tweet.entities.urls</th>\n",
              "      <th>retweeted_status.extended_tweet.entities.user_mentions</th>\n",
              "      <th>retweeted_status.extended_tweet.entities.symbols</th>\n",
              "      <th>retweeted_status.extended_tweet.entities.media</th>\n",
              "      <th>retweeted_status.extended_tweet.extended_entities.media</th>\n",
              "      <th>retweeted_status.quote_count</th>\n",
              "      <th>retweeted_status.reply_count</th>\n",
              "      <th>retweeted_status.retweet_count</th>\n",
              "      <th>retweeted_status.favorite_count</th>\n",
              "      <th>retweeted_status.entities.hashtags</th>\n",
              "      <th>retweeted_status.entities.urls</th>\n",
              "      <th>retweeted_status.entities.user_mentions</th>\n",
              "      <th>retweeted_status.entities.symbols</th>\n",
              "      <th>retweeted_status.favorited</th>\n",
              "      <th>retweeted_status.retweeted</th>\n",
              "      <th>retweeted_status.possibly_sensitive</th>\n",
              "      <th>retweeted_status.filter_level</th>\n",
              "      <th>retweeted_status.lang</th>\n",
              "      <th>entities.hashtags</th>\n",
              "      <th>entities.urls</th>\n",
              "      <th>entities.user_mentions</th>\n",
              "      <th>entities.symbols</th>\n",
              "      <th>retweeted_status.entities.media</th>\n",
              "      <th>retweeted_status.extended_entities.media</th>\n",
              "      <th>display_text_range</th>\n",
              "      <th>entities.media</th>\n",
              "      <th>extended_entities.media</th>\n",
              "      <th>extended_tweet.full_text</th>\n",
              "      <th>extended_tweet.display_text_range</th>\n",
              "      <th>extended_tweet.entities.hashtags</th>\n",
              "      <th>extended_tweet.entities.urls</th>\n",
              "      <th>extended_tweet.entities.user_mentions</th>\n",
              "      <th>extended_tweet.entities.symbols</th>\n",
              "    </tr>\n",
              "  </thead>\n",
              "  <tbody>\n",
              "    <tr>\n",
              "      <th>0</th>\n",
              "      <td>Sun May 23 23:59:59 +0000 2021</td>\n",
              "      <td>1396616935630991361</td>\n",
              "      <td>1396616935630991361</td>\n",
              "      <td>RT @flurbnb: $120 to one person in 24 hours\\n\\...</td>\n",
              "      <td>&lt;a href=\"https://mobile.twitter.com\" rel=\"nofo...</td>\n",
              "      <td>False</td>\n",
              "      <td>NaN</td>\n",
              "      <td>None</td>\n",
              "      <td>NaN</td>\n",
              "      <td>None</td>\n",
              "      <td>None</td>\n",
              "      <td>None</td>\n",
              "      <td>None</td>\n",
              "      <td>None</td>\n",
              "      <td>None</td>\n",
              "      <td>False</td>\n",
              "      <td>0</td>\n",
              "      <td>0</td>\n",
              "      <td>0</td>\n",
              "      <td>0</td>\n",
              "      <td>False</td>\n",
              "      <td>False</td>\n",
              "      <td>False</td>\n",
              "      <td>low</td>\n",
              "      <td>en</td>\n",
              "      <td>[{'tag': None}]</td>\n",
              "      <td>1395646069971640324</td>\n",
              "      <td>1395646069971640324</td>\n",
              "      <td>✨ 6️⃣5️⃣🎹</td>\n",
              "      <td>pamxlaaaa_</td>\n",
              "      <td>can't access @pamxlaaa_</td>\n",
              "      <td>http://paypal.me/pamxlaaa</td>\n",
              "      <td>#LegitCutieBabeGem #ILYAngeLQueeN 6️⃣5️⃣🎹 ✨ li...</td>\n",
              "      <td>none</td>\n",
              "      <td>False</td>\n",
              "      <td>False</td>\n",
              "      <td>182</td>\n",
              "      <td>1324</td>\n",
              "      <td>0</td>\n",
              "      <td>2675</td>\n",
              "      <td>...</td>\n",
              "      <td>NaN</td>\n",
              "      <td>NaN</td>\n",
              "      <td>NaN</td>\n",
              "      <td>False</td>\n",
              "      <td>$120 to one person in 24 hours\\n\\nRetweet &amp;amp...</td>\n",
              "      <td>[0, 275]</td>\n",
              "      <td>[{'text': 'cryptocurrency', 'indices': [168, 1...</td>\n",
              "      <td>[{'url': 'https://t.co/xkXkTKZVgT', 'expanded_...</td>\n",
              "      <td>[]</td>\n",
              "      <td>[]</td>\n",
              "      <td>[{'id': 1396169137005547522, 'id_str': '139616...</td>\n",
              "      <td>[{'id': 1396169137005547522, 'id_str': '139616...</td>\n",
              "      <td>4.0</td>\n",
              "      <td>1488.0</td>\n",
              "      <td>1373.0</td>\n",
              "      <td>716.0</td>\n",
              "      <td>[]</td>\n",
              "      <td>[{'url': 'https://t.co/xkXkTKZVgT', 'expanded_...</td>\n",
              "      <td>[]</td>\n",
              "      <td>[]</td>\n",
              "      <td>False</td>\n",
              "      <td>False</td>\n",
              "      <td>False</td>\n",
              "      <td>low</td>\n",
              "      <td>en</td>\n",
              "      <td>[]</td>\n",
              "      <td>[{'url': 'https://t.co/xkXkTKZVgT', 'expanded_...</td>\n",
              "      <td>[{'screen_name': 'flurbnb', 'name': 'Flur 🤫 | ...</td>\n",
              "      <td>[]</td>\n",
              "      <td>NaN</td>\n",
              "      <td>NaN</td>\n",
              "      <td>NaN</td>\n",
              "      <td>NaN</td>\n",
              "      <td>NaN</td>\n",
              "      <td>NaN</td>\n",
              "      <td>NaN</td>\n",
              "      <td>NaN</td>\n",
              "      <td>NaN</td>\n",
              "      <td>NaN</td>\n",
              "      <td>NaN</td>\n",
              "    </tr>\n",
              "    <tr>\n",
              "      <th>1</th>\n",
              "      <td>Sun May 23 23:59:59 +0000 2021</td>\n",
              "      <td>1396616934834200577</td>\n",
              "      <td>1396616934834200577</td>\n",
              "      <td>RT @BTC_Archive: #Bitcoin chart - 4 hour\\nMACD...</td>\n",
              "      <td>&lt;a href=\"https://mobile.twitter.com\" rel=\"nofo...</td>\n",
              "      <td>False</td>\n",
              "      <td>NaN</td>\n",
              "      <td>None</td>\n",
              "      <td>NaN</td>\n",
              "      <td>None</td>\n",
              "      <td>None</td>\n",
              "      <td>None</td>\n",
              "      <td>None</td>\n",
              "      <td>None</td>\n",
              "      <td>None</td>\n",
              "      <td>False</td>\n",
              "      <td>0</td>\n",
              "      <td>0</td>\n",
              "      <td>0</td>\n",
              "      <td>0</td>\n",
              "      <td>False</td>\n",
              "      <td>False</td>\n",
              "      <td>NaN</td>\n",
              "      <td>low</td>\n",
              "      <td>en</td>\n",
              "      <td>[{'tag': None}]</td>\n",
              "      <td>483064211</td>\n",
              "      <td>483064211</td>\n",
              "      <td>Alex Morgan</td>\n",
              "      <td>AlexMorgan1984</td>\n",
              "      <td>None</td>\n",
              "      <td>None</td>\n",
              "      <td>Find your own wise quotes.\\n\\n#Bitcoin #Ethere...</td>\n",
              "      <td>none</td>\n",
              "      <td>False</td>\n",
              "      <td>False</td>\n",
              "      <td>405</td>\n",
              "      <td>729</td>\n",
              "      <td>9</td>\n",
              "      <td>38649</td>\n",
              "      <td>...</td>\n",
              "      <td>NaN</td>\n",
              "      <td>NaN</td>\n",
              "      <td>NaN</td>\n",
              "      <td>False</td>\n",
              "      <td>NaN</td>\n",
              "      <td>NaN</td>\n",
              "      <td>NaN</td>\n",
              "      <td>NaN</td>\n",
              "      <td>NaN</td>\n",
              "      <td>NaN</td>\n",
              "      <td>NaN</td>\n",
              "      <td>NaN</td>\n",
              "      <td>20.0</td>\n",
              "      <td>268.0</td>\n",
              "      <td>359.0</td>\n",
              "      <td>2634.0</td>\n",
              "      <td>[{'text': 'Bitcoin', 'indices': [0, 8]}]</td>\n",
              "      <td>[]</td>\n",
              "      <td>[]</td>\n",
              "      <td>[]</td>\n",
              "      <td>False</td>\n",
              "      <td>False</td>\n",
              "      <td>False</td>\n",
              "      <td>low</td>\n",
              "      <td>en</td>\n",
              "      <td>[{'text': 'Bitcoin', 'indices': [17, 25]}]</td>\n",
              "      <td>[]</td>\n",
              "      <td>[{'screen_name': 'BTC_Archive', 'name': 'Bitco...</td>\n",
              "      <td>[]</td>\n",
              "      <td>[{'id': 1396458143878680577, 'id_str': '139645...</td>\n",
              "      <td>[{'id': 1396458143878680577, 'id_str': '139645...</td>\n",
              "      <td>NaN</td>\n",
              "      <td>NaN</td>\n",
              "      <td>NaN</td>\n",
              "      <td>NaN</td>\n",
              "      <td>NaN</td>\n",
              "      <td>NaN</td>\n",
              "      <td>NaN</td>\n",
              "      <td>NaN</td>\n",
              "      <td>NaN</td>\n",
              "    </tr>\n",
              "    <tr>\n",
              "      <th>2</th>\n",
              "      <td>Sun May 23 23:59:59 +0000 2021</td>\n",
              "      <td>1396616931709313025</td>\n",
              "      <td>1396616931709313025</td>\n",
              "      <td>RT @airdropinspect: New airdrop: Bullcrypto (C...</td>\n",
              "      <td>&lt;a href=\"http://twitter.com/download/android\" ...</td>\n",
              "      <td>False</td>\n",
              "      <td>NaN</td>\n",
              "      <td>None</td>\n",
              "      <td>NaN</td>\n",
              "      <td>None</td>\n",
              "      <td>None</td>\n",
              "      <td>None</td>\n",
              "      <td>None</td>\n",
              "      <td>None</td>\n",
              "      <td>None</td>\n",
              "      <td>False</td>\n",
              "      <td>0</td>\n",
              "      <td>0</td>\n",
              "      <td>0</td>\n",
              "      <td>0</td>\n",
              "      <td>False</td>\n",
              "      <td>False</td>\n",
              "      <td>NaN</td>\n",
              "      <td>low</td>\n",
              "      <td>en</td>\n",
              "      <td>[{'tag': None}]</td>\n",
              "      <td>1393921526777274368</td>\n",
              "      <td>1393921526777274368</td>\n",
              "      <td>ball</td>\n",
              "      <td>ball50868202</td>\n",
              "      <td>None</td>\n",
              "      <td>None</td>\n",
              "      <td>None</td>\n",
              "      <td>none</td>\n",
              "      <td>False</td>\n",
              "      <td>False</td>\n",
              "      <td>0</td>\n",
              "      <td>72</td>\n",
              "      <td>0</td>\n",
              "      <td>56</td>\n",
              "      <td>...</td>\n",
              "      <td>NaN</td>\n",
              "      <td>NaN</td>\n",
              "      <td>NaN</td>\n",
              "      <td>False</td>\n",
              "      <td>New airdrop: Bullcrypto (CZB)\\nReward: 160,000...</td>\n",
              "      <td>[0, 275]</td>\n",
              "      <td>[{'text': 'Airdrop', 'indices': [212, 220]}, {...</td>\n",
              "      <td>[{'url': 'https://t.co/f7HxC9oRUJ', 'expanded_...</td>\n",
              "      <td>[]</td>\n",
              "      <td>[]</td>\n",
              "      <td>NaN</td>\n",
              "      <td>NaN</td>\n",
              "      <td>816.0</td>\n",
              "      <td>631.0</td>\n",
              "      <td>6161.0</td>\n",
              "      <td>5502.0</td>\n",
              "      <td>[]</td>\n",
              "      <td>[{'url': 'https://t.co/HLfsfAESHX', 'expanded_...</td>\n",
              "      <td>[]</td>\n",
              "      <td>[]</td>\n",
              "      <td>False</td>\n",
              "      <td>False</td>\n",
              "      <td>False</td>\n",
              "      <td>low</td>\n",
              "      <td>en</td>\n",
              "      <td>[]</td>\n",
              "      <td>[]</td>\n",
              "      <td>[{'screen_name': 'airdropinspect', 'name': 'Ai...</td>\n",
              "      <td>[]</td>\n",
              "      <td>NaN</td>\n",
              "      <td>NaN</td>\n",
              "      <td>NaN</td>\n",
              "      <td>NaN</td>\n",
              "      <td>NaN</td>\n",
              "      <td>NaN</td>\n",
              "      <td>NaN</td>\n",
              "      <td>NaN</td>\n",
              "      <td>NaN</td>\n",
              "      <td>NaN</td>\n",
              "      <td>NaN</td>\n",
              "    </tr>\n",
              "  </tbody>\n",
              "</table>\n",
              "<p>3 rows × 159 columns</p>\n",
              "</div>"
            ],
            "text/plain": [
              "                       created_at  ...  extended_tweet.entities.symbols\n",
              "0  Sun May 23 23:59:59 +0000 2021  ...                              NaN\n",
              "1  Sun May 23 23:59:59 +0000 2021  ...                              NaN\n",
              "2  Sun May 23 23:59:59 +0000 2021  ...                              NaN\n",
              "\n",
              "[3 rows x 159 columns]"
            ]
          },
          "execution_count": 8,
          "metadata": {
            "tags": []
          },
          "output_type": "execute_result"
        }
      ],
      "source": [
        "# Converting the tweepy object into a dataframe\n",
        "json_data = [tweet._json for tweet in tweets]\n",
        "\n",
        "df = pd.json_normalize(json_data)\n",
        "df.head(3)"
      ]
    },
    {
      "cell_type": "code",
      "execution_count": null,
      "metadata": {
        "colab": {
          "base_uri": "https://localhost:8080/",
          "height": 195
        },
        "id": "EbQ1rBOOXwH5",
        "outputId": "c8f1a228-7859-4f9d-e6d6-8fbad8564341"
      },
      "outputs": [
        {
          "data": {
            "text/html": [
              "<div>\n",
              "<style scoped>\n",
              "    .dataframe tbody tr th:only-of-type {\n",
              "        vertical-align: middle;\n",
              "    }\n",
              "\n",
              "    .dataframe tbody tr th {\n",
              "        vertical-align: top;\n",
              "    }\n",
              "\n",
              "    .dataframe thead th {\n",
              "        text-align: right;\n",
              "    }\n",
              "</style>\n",
              "<table border=\"1\" class=\"dataframe\">\n",
              "  <thead>\n",
              "    <tr style=\"text-align: right;\">\n",
              "      <th></th>\n",
              "      <th>created_at</th>\n",
              "      <th>text</th>\n",
              "      <th>retweet_count</th>\n",
              "      <th>favorite_count</th>\n",
              "      <th>user.screen_name</th>\n",
              "      <th>user.followers_count</th>\n",
              "    </tr>\n",
              "  </thead>\n",
              "  <tbody>\n",
              "    <tr>\n",
              "      <th>0</th>\n",
              "      <td>Sun May 23 23:59:59 +0000 2021</td>\n",
              "      <td>RT @flurbnb: $120 to one person in 24 hours\\n\\...</td>\n",
              "      <td>0</td>\n",
              "      <td>0</td>\n",
              "      <td>pamxlaaaa_</td>\n",
              "      <td>182</td>\n",
              "    </tr>\n",
              "    <tr>\n",
              "      <th>1</th>\n",
              "      <td>Sun May 23 23:59:59 +0000 2021</td>\n",
              "      <td>RT @BTC_Archive: #Bitcoin chart - 4 hour\\nMACD...</td>\n",
              "      <td>0</td>\n",
              "      <td>0</td>\n",
              "      <td>AlexMorgan1984</td>\n",
              "      <td>405</td>\n",
              "    </tr>\n",
              "    <tr>\n",
              "      <th>2</th>\n",
              "      <td>Sun May 23 23:59:59 +0000 2021</td>\n",
              "      <td>RT @airdropinspect: New airdrop: Bullcrypto (C...</td>\n",
              "      <td>0</td>\n",
              "      <td>0</td>\n",
              "      <td>ball50868202</td>\n",
              "      <td>0</td>\n",
              "    </tr>\n",
              "    <tr>\n",
              "      <th>3</th>\n",
              "      <td>Sun May 23 23:59:58 +0000 2021</td>\n",
              "      <td>RT @100trillionUSD: In the chart you see at wh...</td>\n",
              "      <td>0</td>\n",
              "      <td>0</td>\n",
              "      <td>CryptoEscapades</td>\n",
              "      <td>206</td>\n",
              "    </tr>\n",
              "    <tr>\n",
              "      <th>4</th>\n",
              "      <td>Sun May 23 23:59:58 +0000 2021</td>\n",
              "      <td>RT @TheStalwart: Also this time around, Bitcio...</td>\n",
              "      <td>0</td>\n",
              "      <td>0</td>\n",
              "      <td>tslaqpodcast</td>\n",
              "      <td>4082</td>\n",
              "    </tr>\n",
              "  </tbody>\n",
              "</table>\n",
              "</div>"
            ],
            "text/plain": [
              "                       created_at  ... user.followers_count\n",
              "0  Sun May 23 23:59:59 +0000 2021  ...                  182\n",
              "1  Sun May 23 23:59:59 +0000 2021  ...                  405\n",
              "2  Sun May 23 23:59:59 +0000 2021  ...                    0\n",
              "3  Sun May 23 23:59:58 +0000 2021  ...                  206\n",
              "4  Sun May 23 23:59:58 +0000 2021  ...                 4082\n",
              "\n",
              "[5 rows x 6 columns]"
            ]
          },
          "execution_count": 9,
          "metadata": {
            "tags": []
          },
          "output_type": "execute_result"
        }
      ],
      "source": [
        "# Columns of interest\n",
        "columns = (\"\"\"created_at text retweet_count favorite_count \n",
        "    user.screen_name user.followers_count\"\"\").split()\n",
        "\n",
        "# Reduced dataframe with the columns of interest\n",
        "df = df[columns]\n",
        "\n",
        "df.head()"
      ]
    },
    {
      "cell_type": "code",
      "execution_count": null,
      "metadata": {
        "colab": {
          "base_uri": "https://localhost:8080/"
        },
        "id": "HGmGLh_CwE3-",
        "outputId": "67f40585-24bc-41b3-e57f-5056451e51f3"
      },
      "outputs": [
        {
          "name": "stdout",
          "output_type": "stream",
          "text": [
            "<class 'pandas.core.frame.DataFrame'>\n",
            "RangeIndex: 20 entries, 0 to 19\n",
            "Data columns (total 6 columns):\n",
            " #   Column                Non-Null Count  Dtype \n",
            "---  ------                --------------  ----- \n",
            " 0   created_at            20 non-null     object\n",
            " 1   text                  20 non-null     object\n",
            " 2   retweet_count         20 non-null     int64 \n",
            " 3   favorite_count        20 non-null     int64 \n",
            " 4   user.screen_name      20 non-null     object\n",
            " 5   user.followers_count  20 non-null     int64 \n",
            "dtypes: int64(3), object(3)\n",
            "memory usage: 1.1+ KB\n"
          ]
        }
      ],
      "source": [
        "# General info\n",
        "df.info()"
      ]
    },
    {
      "cell_type": "code",
      "execution_count": null,
      "metadata": {
        "colab": {
          "base_uri": "https://localhost:8080/"
        },
        "id": "bwXruw9VGbkL",
        "outputId": "5eb30982-cae0-4b3e-cf3d-9ac9f631c60a"
      },
      "outputs": [
        {
          "data": {
            "text/plain": [
              "created_at              0\n",
              "text                    0\n",
              "retweet_count           0\n",
              "favorite_count          0\n",
              "user.screen_name        0\n",
              "user.followers_count    0\n",
              "dtype: int64"
            ]
          },
          "execution_count": 11,
          "metadata": {
            "tags": []
          },
          "output_type": "execute_result"
        }
      ],
      "source": [
        "# Check missing values\n",
        "df.isnull().sum()"
      ]
    },
    {
      "cell_type": "markdown",
      "metadata": {
        "id": "smugHEwmQ5mN"
      },
      "source": [
        "# 2. Pre-processing"
      ]
    },
    {
      "cell_type": "markdown",
      "metadata": {
        "id": "cdpWnoU-0qUt"
      },
      "source": [
        "## 2.1 Adjust the dataframe content"
      ]
    },
    {
      "cell_type": "markdown",
      "metadata": {
        "id": "zQkVsYP5KLoB"
      },
      "source": [
        "### 2.1.1 Parse 'create_at'"
      ]
    },
    {
      "cell_type": "code",
      "execution_count": null,
      "metadata": {
        "colab": {
          "base_uri": "https://localhost:8080/"
        },
        "id": "Kk2e4OhTwVxr",
        "outputId": "25eacb34-c6ba-4f67-8d90-712febff9c80"
      },
      "outputs": [
        {
          "data": {
            "text/plain": [
              "0   2021-05-23\n",
              "1   2021-05-23\n",
              "2   2021-05-23\n",
              "3   2021-05-23\n",
              "4   2021-05-23\n",
              "Name: created_at, dtype: datetime64[ns]"
            ]
          },
          "execution_count": 12,
          "metadata": {
            "tags": []
          },
          "output_type": "execute_result"
        }
      ],
      "source": [
        "# Remove the '+0000' and the week-day from 'create_at'\n",
        "# df['created_at'] = df['created_at'].apply(\n",
        "    # lambda date: re.sub('\\+[0-9]{4}', '', date)[4:])\n",
        "\n",
        "# Convert to datetime\n",
        "# https://www.programiz.com/python-programming/datetime/strftime\n",
        "df['created_at'] = pd.to_datetime(df['created_at'], \n",
        "                                  format='%a %b %d %H:%M:%S +%f %Y')\n",
        "\n",
        "# Adjust the format - Remove hour information\n",
        "df[\"created_at\"] = pd.to_datetime(df['created_at'].dt.strftime(\"%m/%d/%y\"))\n",
        "\n",
        "df['created_at'].head()"
      ]
    },
    {
      "cell_type": "code",
      "execution_count": null,
      "metadata": {
        "colab": {
          "base_uri": "https://localhost:8080/",
          "height": 195
        },
        "id": "x8DmxLOKDTSj",
        "outputId": "b9fbd623-d47b-4f8c-f2b9-359ee04c4bb1"
      },
      "outputs": [
        {
          "data": {
            "text/html": [
              "<div>\n",
              "<style scoped>\n",
              "    .dataframe tbody tr th:only-of-type {\n",
              "        vertical-align: middle;\n",
              "    }\n",
              "\n",
              "    .dataframe tbody tr th {\n",
              "        vertical-align: top;\n",
              "    }\n",
              "\n",
              "    .dataframe thead th {\n",
              "        text-align: right;\n",
              "    }\n",
              "</style>\n",
              "<table border=\"1\" class=\"dataframe\">\n",
              "  <thead>\n",
              "    <tr style=\"text-align: right;\">\n",
              "      <th></th>\n",
              "      <th>created_at</th>\n",
              "      <th>text</th>\n",
              "      <th>retweet_count</th>\n",
              "      <th>favorite_count</th>\n",
              "      <th>user.screen_name</th>\n",
              "      <th>user.followers_count</th>\n",
              "    </tr>\n",
              "  </thead>\n",
              "  <tbody>\n",
              "    <tr>\n",
              "      <th>0</th>\n",
              "      <td>2021-05-23</td>\n",
              "      <td>RT @flurbnb: $120 to one person in 24 hours\\n\\...</td>\n",
              "      <td>0</td>\n",
              "      <td>0</td>\n",
              "      <td>pamxlaaaa_</td>\n",
              "      <td>182</td>\n",
              "    </tr>\n",
              "    <tr>\n",
              "      <th>1</th>\n",
              "      <td>2021-05-23</td>\n",
              "      <td>RT @BTC_Archive: #Bitcoin chart - 4 hour\\nMACD...</td>\n",
              "      <td>0</td>\n",
              "      <td>0</td>\n",
              "      <td>AlexMorgan1984</td>\n",
              "      <td>405</td>\n",
              "    </tr>\n",
              "    <tr>\n",
              "      <th>2</th>\n",
              "      <td>2021-05-23</td>\n",
              "      <td>RT @airdropinspect: New airdrop: Bullcrypto (C...</td>\n",
              "      <td>0</td>\n",
              "      <td>0</td>\n",
              "      <td>ball50868202</td>\n",
              "      <td>0</td>\n",
              "    </tr>\n",
              "    <tr>\n",
              "      <th>3</th>\n",
              "      <td>2021-05-23</td>\n",
              "      <td>RT @100trillionUSD: In the chart you see at wh...</td>\n",
              "      <td>0</td>\n",
              "      <td>0</td>\n",
              "      <td>CryptoEscapades</td>\n",
              "      <td>206</td>\n",
              "    </tr>\n",
              "    <tr>\n",
              "      <th>4</th>\n",
              "      <td>2021-05-23</td>\n",
              "      <td>RT @TheStalwart: Also this time around, Bitcio...</td>\n",
              "      <td>0</td>\n",
              "      <td>0</td>\n",
              "      <td>tslaqpodcast</td>\n",
              "      <td>4082</td>\n",
              "    </tr>\n",
              "  </tbody>\n",
              "</table>\n",
              "</div>"
            ],
            "text/plain": [
              "  created_at  ... user.followers_count\n",
              "0 2021-05-23  ...                  182\n",
              "1 2021-05-23  ...                  405\n",
              "2 2021-05-23  ...                    0\n",
              "3 2021-05-23  ...                  206\n",
              "4 2021-05-23  ...                 4082\n",
              "\n",
              "[5 rows x 6 columns]"
            ]
          },
          "execution_count": 13,
          "metadata": {
            "tags": []
          },
          "output_type": "execute_result"
        }
      ],
      "source": [
        "# Remove the hour info\n",
        "df.head()"
      ]
    },
    {
      "cell_type": "markdown",
      "metadata": {
        "id": "_N1HNsCJiikS"
      },
      "source": [
        "### 2.1.2 Create shifted dates columns\n",
        "Creation of three extra columns representing the 1, 3, and 5 days in the future. <br>\n",
        "This can be used to better evaluate the impact of the tweets in the bitcoin price."
      ]
    },
    {
      "cell_type": "code",
      "execution_count": null,
      "metadata": {
        "colab": {
          "base_uri": "https://localhost:8080/",
          "height": 136
        },
        "id": "C32ECYO3frmt",
        "outputId": "e8910660-99d3-414d-beb8-922ba1ffd794"
      },
      "outputs": [
        {
          "data": {
            "text/html": [
              "<div>\n",
              "<style scoped>\n",
              "    .dataframe tbody tr th:only-of-type {\n",
              "        vertical-align: middle;\n",
              "    }\n",
              "\n",
              "    .dataframe tbody tr th {\n",
              "        vertical-align: top;\n",
              "    }\n",
              "\n",
              "    .dataframe thead th {\n",
              "        text-align: right;\n",
              "    }\n",
              "</style>\n",
              "<table border=\"1\" class=\"dataframe\">\n",
              "  <thead>\n",
              "    <tr style=\"text-align: right;\">\n",
              "      <th></th>\n",
              "      <th>created_at</th>\n",
              "      <th>created_at+1d</th>\n",
              "      <th>created_at+3d</th>\n",
              "      <th>created_at+5d</th>\n",
              "      <th>text</th>\n",
              "      <th>retweet_count</th>\n",
              "      <th>favorite_count</th>\n",
              "      <th>user.screen_name</th>\n",
              "      <th>user.followers_count</th>\n",
              "    </tr>\n",
              "  </thead>\n",
              "  <tbody>\n",
              "    <tr>\n",
              "      <th>0</th>\n",
              "      <td>2021-05-23</td>\n",
              "      <td>2021-05-24</td>\n",
              "      <td>2021-05-26</td>\n",
              "      <td>2021-05-28</td>\n",
              "      <td>RT @flurbnb: $120 to one person in 24 hours\\n\\...</td>\n",
              "      <td>0</td>\n",
              "      <td>0</td>\n",
              "      <td>pamxlaaaa_</td>\n",
              "      <td>182</td>\n",
              "    </tr>\n",
              "    <tr>\n",
              "      <th>1</th>\n",
              "      <td>2021-05-23</td>\n",
              "      <td>2021-05-24</td>\n",
              "      <td>2021-05-26</td>\n",
              "      <td>2021-05-28</td>\n",
              "      <td>RT @BTC_Archive: #Bitcoin chart - 4 hour\\nMACD...</td>\n",
              "      <td>0</td>\n",
              "      <td>0</td>\n",
              "      <td>AlexMorgan1984</td>\n",
              "      <td>405</td>\n",
              "    </tr>\n",
              "    <tr>\n",
              "      <th>2</th>\n",
              "      <td>2021-05-23</td>\n",
              "      <td>2021-05-24</td>\n",
              "      <td>2021-05-26</td>\n",
              "      <td>2021-05-28</td>\n",
              "      <td>RT @airdropinspect: New airdrop: Bullcrypto (C...</td>\n",
              "      <td>0</td>\n",
              "      <td>0</td>\n",
              "      <td>ball50868202</td>\n",
              "      <td>0</td>\n",
              "    </tr>\n",
              "  </tbody>\n",
              "</table>\n",
              "</div>"
            ],
            "text/plain": [
              "  created_at created_at+1d  ... user.screen_name user.followers_count\n",
              "0 2021-05-23    2021-05-24  ...       pamxlaaaa_                  182\n",
              "1 2021-05-23    2021-05-24  ...   AlexMorgan1984                  405\n",
              "2 2021-05-23    2021-05-24  ...     ball50868202                    0\n",
              "\n",
              "[3 rows x 9 columns]"
            ]
          },
          "execution_count": 14,
          "metadata": {
            "tags": []
          },
          "output_type": "execute_result"
        }
      ],
      "source": [
        "# Create the columns of shifted date\n",
        "shifted_dates = df['created_at'].apply(lambda x: x + timedelta(days=1))\n",
        "df.insert(loc=1, column='created_at+1d', value=shifted_dates)\n",
        "\n",
        "shifted_dates = df['created_at'].apply(lambda x: x + timedelta(days=3))\n",
        "df.insert(loc=2, column='created_at+3d', value=shifted_dates)\n",
        "\n",
        "shifted_dates = df['created_at'].apply(lambda x: x + timedelta(days=5))\n",
        "df.insert(loc=3, column='created_at+5d', value=shifted_dates)\n",
        "\n",
        "df.head(3)"
      ]
    },
    {
      "cell_type": "markdown",
      "metadata": {
        "id": "HtWM5WsxACFD"
      },
      "source": [
        "### 2.1.3 Create the 'super_user' feature"
      ]
    },
    {
      "cell_type": "code",
      "execution_count": null,
      "metadata": {
        "id": "Oxk-Im9BBBOy"
      },
      "outputs": [],
      "source": [
        "# List of 'super users' -> People who its tweets may have more influence\n",
        "super_users_set = {'pamxlaaaa_', # Test\n",
        "                   'AlexMorgan1984', # Test\n",
        "                   'elonmusk'}"
      ]
    },
    {
      "cell_type": "code",
      "execution_count": null,
      "metadata": {
        "colab": {
          "base_uri": "https://localhost:8080/",
          "height": 186
        },
        "id": "IzEwQS2mABkL",
        "outputId": "bab0abd4-4aef-4baf-b557-7e4e3a725112"
      },
      "outputs": [
        {
          "data": {
            "text/html": [
              "<div>\n",
              "<style scoped>\n",
              "    .dataframe tbody tr th:only-of-type {\n",
              "        vertical-align: middle;\n",
              "    }\n",
              "\n",
              "    .dataframe tbody tr th {\n",
              "        vertical-align: top;\n",
              "    }\n",
              "\n",
              "    .dataframe thead th {\n",
              "        text-align: right;\n",
              "    }\n",
              "</style>\n",
              "<table border=\"1\" class=\"dataframe\">\n",
              "  <thead>\n",
              "    <tr style=\"text-align: right;\">\n",
              "      <th></th>\n",
              "      <th>created_at</th>\n",
              "      <th>created_at+1d</th>\n",
              "      <th>created_at+3d</th>\n",
              "      <th>created_at+5d</th>\n",
              "      <th>text</th>\n",
              "      <th>retweet_count</th>\n",
              "      <th>favorite_count</th>\n",
              "      <th>user.screen_name</th>\n",
              "      <th>user.followers_count</th>\n",
              "      <th>super_user</th>\n",
              "    </tr>\n",
              "  </thead>\n",
              "  <tbody>\n",
              "    <tr>\n",
              "      <th>0</th>\n",
              "      <td>2021-05-23</td>\n",
              "      <td>2021-05-24</td>\n",
              "      <td>2021-05-26</td>\n",
              "      <td>2021-05-28</td>\n",
              "      <td>RT @flurbnb: $120 to one person in 24 hours\\n\\...</td>\n",
              "      <td>0</td>\n",
              "      <td>0</td>\n",
              "      <td>pamxlaaaa_</td>\n",
              "      <td>182</td>\n",
              "      <td>1</td>\n",
              "    </tr>\n",
              "    <tr>\n",
              "      <th>1</th>\n",
              "      <td>2021-05-23</td>\n",
              "      <td>2021-05-24</td>\n",
              "      <td>2021-05-26</td>\n",
              "      <td>2021-05-28</td>\n",
              "      <td>RT @BTC_Archive: #Bitcoin chart - 4 hour\\nMACD...</td>\n",
              "      <td>0</td>\n",
              "      <td>0</td>\n",
              "      <td>AlexMorgan1984</td>\n",
              "      <td>405</td>\n",
              "      <td>1</td>\n",
              "    </tr>\n",
              "    <tr>\n",
              "      <th>2</th>\n",
              "      <td>2021-05-23</td>\n",
              "      <td>2021-05-24</td>\n",
              "      <td>2021-05-26</td>\n",
              "      <td>2021-05-28</td>\n",
              "      <td>RT @airdropinspect: New airdrop: Bullcrypto (C...</td>\n",
              "      <td>0</td>\n",
              "      <td>0</td>\n",
              "      <td>ball50868202</td>\n",
              "      <td>0</td>\n",
              "      <td>0</td>\n",
              "    </tr>\n",
              "  </tbody>\n",
              "</table>\n",
              "</div>"
            ],
            "text/plain": [
              "  created_at created_at+1d  ... user.followers_count super_user\n",
              "0 2021-05-23    2021-05-24  ...                  182          1\n",
              "1 2021-05-23    2021-05-24  ...                  405          1\n",
              "2 2021-05-23    2021-05-24  ...                    0          0\n",
              "\n",
              "[3 rows x 10 columns]"
            ]
          },
          "execution_count": 16,
          "metadata": {
            "tags": []
          },
          "output_type": "execute_result"
        }
      ],
      "source": [
        "# Create the feature\n",
        "super_user = df['user.screen_name'].apply(\n",
        "    lambda user: 1 if user in super_users_set else 0)\n",
        "df['super_user'] = super_user\n",
        "df.head(3)"
      ]
    },
    {
      "cell_type": "markdown",
      "metadata": {
        "id": "cLCYcyfHKanV"
      },
      "source": [
        "### 2.1.4 Clear the text\n",
        "\n"
      ]
    },
    {
      "cell_type": "code",
      "execution_count": null,
      "metadata": {
        "colab": {
          "base_uri": "https://localhost:8080/"
        },
        "id": "kI1JZqx3kHSl",
        "outputId": "e1f2c8fb-8614-47b8-fe7d-b04c7afc0c7f"
      },
      "outputs": [
        {
          "data": {
            "text/plain": [
              "0     RT @flurbnb: $120 to one person in 24 hours\\n\\...\n",
              "1     RT @BTC_Archive: #Bitcoin chart - 4 hour\\nMACD...\n",
              "2     RT @airdropinspect: New airdrop: Bullcrypto (C...\n",
              "3     RT @100trillionUSD: In the chart you see at wh...\n",
              "4     RT @TheStalwart: Also this time around, Bitcio...\n",
              "5     RT @PolaroidPunks_: Check out when Josh the De...\n",
              "6     RT @La__Cuen: Want to read about how people us...\n",
              "7     So this just happened:\\n@TheBitcoinConf  #Bitc...\n",
              "8     RT @rektcapital: Just because everybody else i...\n",
              "9     RT @LEXUS444444: #bitcoin #StellarLumens #XLM ...\n",
              "10              @leppert Bitcoin is a religion, so yeah\n",
              "11    @PeterSchiff You watching bitcoin on the 1 min...\n",
              "12    RT @flurbnb: $1000 to one person in 7 days\\n\\n...\n",
              "13    RT @glassnodealerts: 📉 #Bitcoin $BTC Number of...\n",
              "14    #Bitcoin: BTCUSD ( $BTCUSD) DOWN 6.9696%! Last...\n",
              "Name: text, dtype: object"
            ]
          },
          "execution_count": 17,
          "metadata": {
            "tags": []
          },
          "output_type": "execute_result"
        }
      ],
      "source": [
        "df['text'][:15]"
      ]
    },
    {
      "cell_type": "code",
      "execution_count": null,
      "metadata": {
        "colab": {
          "base_uri": "https://localhost:8080/",
          "height": 35
        },
        "id": "ur0a5OcySlht",
        "outputId": "3c579b90-4748-4100-9f91-78d71ddec140"
      },
      "outputs": [
        {
          "data": {
            "application/vnd.google.colaboratory.intrinsic+json": {
              "type": "string"
            },
            "text/plain": [
              "'RT @glassnodealerts: 📉 #Bitcoin $BTC Number of UTXOs in Profit (7d MA) just reached a 7-month low of 108,074,244.250\\n\\nView metric:\\nhttps://…'"
            ]
          },
          "execution_count": 18,
          "metadata": {
            "tags": []
          },
          "output_type": "execute_result"
        }
      ],
      "source": [
        "# Sample of text containing emojis\n",
        "df['text'][13]"
      ]
    },
    {
      "cell_type": "code",
      "execution_count": null,
      "metadata": {
        "id": "J3sCtYu7cqT8"
      },
      "outputs": [],
      "source": [
        "# List of stopwords\n",
        "stop_words = stopwords.words('english')\n",
        "\n",
        "def clear_text(text: str):\n",
        "    # Remove emojis\n",
        "    text = text.encode('ascii', errors='ignore').decode('ascii')\n",
        "\n",
        "    # Remove the 'RT's\n",
        "    text = re.sub('RT\\s', '', text)\n",
        "\n",
        "    # Remove the links\n",
        "    text = re.sub('http\\S*|www\\S*', '', text)\n",
        "\n",
        "    # Remove the breakline signal\n",
        "    text = re.sub('\\\\n', '', text)\n",
        "\n",
        "    # Remove usernames \n",
        "    text = re.sub('\\@\\S*', '', text)\n",
        "\n",
        "    # Remove hashtags\n",
        "    text = re.sub('#\\S*', '', text)\n",
        "\n",
        "    # Remove numbers\n",
        "    text = re.sub('[0-9]+', '', text)\n",
        "\n",
        "    # Remove punctuation and extra blank spaces \n",
        "    text = re.sub('\\W+', ' ', text)\n",
        "    \n",
        "    # Remove stop words and words with 2 or fewer letters\n",
        "    text = [word for word in text.split() if \n",
        "            (len(word) > 3) and (word not in stop_words)]\n",
        "\n",
        "    text = ' '.join(text).lower()\n",
        "\n",
        "    return text\n",
        "\n",
        "# REF:\n",
        "# https://jakevdp.github.io/WhirlwindTourOfPython/14-strings-and-regular-expressions.html"
      ]
    },
    {
      "cell_type": "code",
      "execution_count": null,
      "metadata": {
        "id": "hbe9v3cU6f6b"
      },
      "outputs": [],
      "source": [
        "df['text'] = df['text'].apply(clear_text)"
      ]
    },
    {
      "cell_type": "code",
      "execution_count": null,
      "metadata": {
        "colab": {
          "base_uri": "https://localhost:8080/"
        },
        "id": "2wZZ1UFpc4-v",
        "outputId": "772da667-04ce-407d-f772-b751625267cf"
      },
      "outputs": [
        {
          "name": "stdout",
          "output_type": "stream",
          "text": [
            "person hoursretweet search chad chad star\n",
            "chart hourmacd looks forming bottom strong rebound cards\n",
            "airdrop bullcrypto reward rate news bondlyfinance thundercoredistribution\n",
            "chart price level total last moved happened weak\n",
            "also time around bitcion peaked coin whereas bitcoin peaked within\n",
            "check josh fuzzy interviewed impromptu live streaming\n",
            "want read people iran venezuela japan these books sale\n",
            "happened\n",
            "just everybody else fearful mean bered colour chartand price\n",
            "manifests harder than stellar lumens will literally worth share\n",
            "bitcoin religion yeah\n",
            "watching bitcoin chart dont\n",
            "person daysretweet follow\n",
            "number utxos profit reached month view metric\n",
            "btcusd btcusd down last\n"
          ]
        }
      ],
      "source": [
        "# Sample of the text after the cleaning\n",
        "for i in range(15):\n",
        "    print(df['text'][i])"
      ]
    },
    {
      "cell_type": "code",
      "execution_count": null,
      "metadata": {
        "colab": {
          "base_uri": "https://localhost:8080/",
          "height": 35
        },
        "id": "rpXezswZJCzP",
        "outputId": "2d6482ae-e5d4-4e7a-cb1d-7ab3d04176b7"
      },
      "outputs": [
        {
          "data": {
            "application/vnd.google.colaboratory.intrinsic+json": {
              "type": "string"
            },
            "text/plain": [
              "'number utxos profit reached month view metric'"
            ]
          },
          "execution_count": 22,
          "metadata": {
            "tags": []
          },
          "output_type": "execute_result"
        }
      ],
      "source": [
        "# Sample of text containing emojis\n",
        "df['text'][13]"
      ]
    },
    {
      "cell_type": "markdown",
      "metadata": {
        "id": "F5dzIp59Q-v8"
      },
      "source": [
        "# 3. Sentiment Analysis"
      ]
    },
    {
      "cell_type": "markdown",
      "metadata": {
        "id": "lgFW9tsbIzL3"
      },
      "source": [
        "## 3.1 - Sentiment Analysis with TextBlob\n",
        "\n"
      ]
    },
    {
      "cell_type": "code",
      "execution_count": null,
      "metadata": {
        "id": "Q2q6afKNSQIE"
      },
      "outputs": [],
      "source": [
        "# Sentiment Analysis using TextBlob\n",
        "df['sentiment textblob'] = df['text'].apply(TextBlob)\n",
        "df['sentiment textblob'] = df['sentiment textblob'].apply(\n",
        "    lambda sent: round(sent.polarity, 3))"
      ]
    },
    {
      "cell_type": "code",
      "execution_count": null,
      "metadata": {
        "colab": {
          "base_uri": "https://localhost:8080/",
          "height": 296
        },
        "id": "6j9ONQSTOxaY",
        "outputId": "88636990-453e-4a0a-f593-47917aead2c9"
      },
      "outputs": [
        {
          "data": {
            "text/html": [
              "<div>\n",
              "<style scoped>\n",
              "    .dataframe tbody tr th:only-of-type {\n",
              "        vertical-align: middle;\n",
              "    }\n",
              "\n",
              "    .dataframe tbody tr th {\n",
              "        vertical-align: top;\n",
              "    }\n",
              "\n",
              "    .dataframe thead th {\n",
              "        text-align: right;\n",
              "    }\n",
              "</style>\n",
              "<table border=\"1\" class=\"dataframe\">\n",
              "  <thead>\n",
              "    <tr style=\"text-align: right;\">\n",
              "      <th></th>\n",
              "      <th>created_at</th>\n",
              "      <th>created_at+1d</th>\n",
              "      <th>created_at+3d</th>\n",
              "      <th>created_at+5d</th>\n",
              "      <th>text</th>\n",
              "      <th>retweet_count</th>\n",
              "      <th>favorite_count</th>\n",
              "      <th>user.screen_name</th>\n",
              "      <th>user.followers_count</th>\n",
              "      <th>super_user</th>\n",
              "      <th>sentiment textblob</th>\n",
              "    </tr>\n",
              "  </thead>\n",
              "  <tbody>\n",
              "    <tr>\n",
              "      <th>0</th>\n",
              "      <td>2021-05-23</td>\n",
              "      <td>2021-05-24</td>\n",
              "      <td>2021-05-26</td>\n",
              "      <td>2021-05-28</td>\n",
              "      <td>person hoursretweet search chad chad star</td>\n",
              "      <td>0</td>\n",
              "      <td>0</td>\n",
              "      <td>pamxlaaaa_</td>\n",
              "      <td>182</td>\n",
              "      <td>1</td>\n",
              "      <td>0.000</td>\n",
              "    </tr>\n",
              "    <tr>\n",
              "      <th>1</th>\n",
              "      <td>2021-05-23</td>\n",
              "      <td>2021-05-24</td>\n",
              "      <td>2021-05-26</td>\n",
              "      <td>2021-05-28</td>\n",
              "      <td>chart hourmacd looks forming bottom strong reb...</td>\n",
              "      <td>0</td>\n",
              "      <td>0</td>\n",
              "      <td>AlexMorgan1984</td>\n",
              "      <td>405</td>\n",
              "      <td>1</td>\n",
              "      <td>0.433</td>\n",
              "    </tr>\n",
              "    <tr>\n",
              "      <th>2</th>\n",
              "      <td>2021-05-23</td>\n",
              "      <td>2021-05-24</td>\n",
              "      <td>2021-05-26</td>\n",
              "      <td>2021-05-28</td>\n",
              "      <td>airdrop bullcrypto reward rate news bondlyfina...</td>\n",
              "      <td>0</td>\n",
              "      <td>0</td>\n",
              "      <td>ball50868202</td>\n",
              "      <td>0</td>\n",
              "      <td>0</td>\n",
              "      <td>0.000</td>\n",
              "    </tr>\n",
              "    <tr>\n",
              "      <th>3</th>\n",
              "      <td>2021-05-23</td>\n",
              "      <td>2021-05-24</td>\n",
              "      <td>2021-05-26</td>\n",
              "      <td>2021-05-28</td>\n",
              "      <td>chart price level total last moved happened weak</td>\n",
              "      <td>0</td>\n",
              "      <td>0</td>\n",
              "      <td>CryptoEscapades</td>\n",
              "      <td>206</td>\n",
              "      <td>0</td>\n",
              "      <td>-0.125</td>\n",
              "    </tr>\n",
              "    <tr>\n",
              "      <th>4</th>\n",
              "      <td>2021-05-23</td>\n",
              "      <td>2021-05-24</td>\n",
              "      <td>2021-05-26</td>\n",
              "      <td>2021-05-28</td>\n",
              "      <td>also time around bitcion peaked coin whereas b...</td>\n",
              "      <td>0</td>\n",
              "      <td>0</td>\n",
              "      <td>tslaqpodcast</td>\n",
              "      <td>4082</td>\n",
              "      <td>0</td>\n",
              "      <td>0.000</td>\n",
              "    </tr>\n",
              "  </tbody>\n",
              "</table>\n",
              "</div>"
            ],
            "text/plain": [
              "  created_at created_at+1d  ... super_user sentiment textblob\n",
              "0 2021-05-23    2021-05-24  ...          1              0.000\n",
              "1 2021-05-23    2021-05-24  ...          1              0.433\n",
              "2 2021-05-23    2021-05-24  ...          0              0.000\n",
              "3 2021-05-23    2021-05-24  ...          0             -0.125\n",
              "4 2021-05-23    2021-05-24  ...          0              0.000\n",
              "\n",
              "[5 rows x 11 columns]"
            ]
          },
          "execution_count": 24,
          "metadata": {
            "tags": []
          },
          "output_type": "execute_result"
        }
      ],
      "source": [
        "df.head()"
      ]
    },
    {
      "cell_type": "code",
      "execution_count": null,
      "metadata": {
        "colab": {
          "base_uri": "https://localhost:8080/",
          "height": 106
        },
        "id": "7clJiu-yCiF7",
        "outputId": "22c688f3-2035-4e59-d59c-4077d17ec8b9"
      },
      "outputs": [
        {
          "data": {
            "text/html": [
              "<div>\n",
              "<style scoped>\n",
              "    .dataframe tbody tr th:only-of-type {\n",
              "        vertical-align: middle;\n",
              "    }\n",
              "\n",
              "    .dataframe tbody tr th {\n",
              "        vertical-align: top;\n",
              "    }\n",
              "\n",
              "    .dataframe thead th {\n",
              "        text-align: right;\n",
              "    }\n",
              "</style>\n",
              "<table border=\"1\" class=\"dataframe\">\n",
              "  <thead>\n",
              "    <tr style=\"text-align: right;\">\n",
              "      <th></th>\n",
              "      <th>sentiment textblob</th>\n",
              "    </tr>\n",
              "    <tr>\n",
              "      <th>created_at</th>\n",
              "      <th></th>\n",
              "    </tr>\n",
              "  </thead>\n",
              "  <tbody>\n",
              "    <tr>\n",
              "      <th>2021-05-23</th>\n",
              "      <td>0.0024</td>\n",
              "    </tr>\n",
              "  </tbody>\n",
              "</table>\n",
              "</div>"
            ],
            "text/plain": [
              "            sentiment textblob\n",
              "created_at                    \n",
              "2021-05-23              0.0024"
            ]
          },
          "execution_count": 25,
          "metadata": {
            "tags": []
          },
          "output_type": "execute_result"
        }
      ],
      "source": [
        "# Sentiment analysis mean value by day\n",
        "df[['created_at', 'sentiment textblob']].groupby(['created_at']).mean()"
      ]
    },
    {
      "cell_type": "markdown",
      "metadata": {
        "id": "vzNnrLz4T4d_"
      },
      "source": [
        "## 3.2 - Sentiment Analysis with Vader\n",
        "\n"
      ]
    },
    {
      "cell_type": "code",
      "execution_count": null,
      "metadata": {
        "colab": {
          "base_uri": "https://localhost:8080/",
          "height": 195
        },
        "id": "E2xoJbSySoVC",
        "outputId": "037ac781-d18e-4ebd-8e44-1deefa5cdc4d"
      },
      "outputs": [
        {
          "data": {
            "text/html": [
              "<div>\n",
              "<style scoped>\n",
              "    .dataframe tbody tr th:only-of-type {\n",
              "        vertical-align: middle;\n",
              "    }\n",
              "\n",
              "    .dataframe tbody tr th {\n",
              "        vertical-align: top;\n",
              "    }\n",
              "\n",
              "    .dataframe thead th {\n",
              "        text-align: right;\n",
              "    }\n",
              "</style>\n",
              "<table border=\"1\" class=\"dataframe\">\n",
              "  <thead>\n",
              "    <tr style=\"text-align: right;\">\n",
              "      <th></th>\n",
              "      <th>text</th>\n",
              "      <th>sentiment textblob</th>\n",
              "      <th>sentiment vader</th>\n",
              "    </tr>\n",
              "  </thead>\n",
              "  <tbody>\n",
              "    <tr>\n",
              "      <th>0</th>\n",
              "      <td>person hoursretweet search chad chad star</td>\n",
              "      <td>0.000</td>\n",
              "      <td>{'neg': 0.0, 'neu': 1.0, 'pos': 0.0, 'compound...</td>\n",
              "    </tr>\n",
              "    <tr>\n",
              "      <th>1</th>\n",
              "      <td>chart hourmacd looks forming bottom strong reb...</td>\n",
              "      <td>0.433</td>\n",
              "      <td>{'neg': 0.0, 'neu': 0.68, 'pos': 0.32, 'compou...</td>\n",
              "    </tr>\n",
              "    <tr>\n",
              "      <th>2</th>\n",
              "      <td>airdrop bullcrypto reward rate news bondlyfina...</td>\n",
              "      <td>0.000</td>\n",
              "      <td>{'neg': 0.0, 'neu': 0.619, 'pos': 0.381, 'comp...</td>\n",
              "    </tr>\n",
              "    <tr>\n",
              "      <th>3</th>\n",
              "      <td>chart price level total last moved happened weak</td>\n",
              "      <td>-0.125</td>\n",
              "      <td>{'neg': 0.293, 'neu': 0.707, 'pos': 0.0, 'comp...</td>\n",
              "    </tr>\n",
              "    <tr>\n",
              "      <th>4</th>\n",
              "      <td>also time around bitcion peaked coin whereas b...</td>\n",
              "      <td>0.000</td>\n",
              "      <td>{'neg': 0.0, 'neu': 1.0, 'pos': 0.0, 'compound...</td>\n",
              "    </tr>\n",
              "  </tbody>\n",
              "</table>\n",
              "</div>"
            ],
            "text/plain": [
              "                                                text  ...                                    sentiment vader\n",
              "0          person hoursretweet search chad chad star  ...  {'neg': 0.0, 'neu': 1.0, 'pos': 0.0, 'compound...\n",
              "1  chart hourmacd looks forming bottom strong reb...  ...  {'neg': 0.0, 'neu': 0.68, 'pos': 0.32, 'compou...\n",
              "2  airdrop bullcrypto reward rate news bondlyfina...  ...  {'neg': 0.0, 'neu': 0.619, 'pos': 0.381, 'comp...\n",
              "3   chart price level total last moved happened weak  ...  {'neg': 0.293, 'neu': 0.707, 'pos': 0.0, 'comp...\n",
              "4  also time around bitcion peaked coin whereas b...  ...  {'neg': 0.0, 'neu': 1.0, 'pos': 0.0, 'compound...\n",
              "\n",
              "[5 rows x 3 columns]"
            ]
          },
          "execution_count": 26,
          "metadata": {
            "tags": []
          },
          "output_type": "execute_result"
        }
      ],
      "source": [
        "# Set the analyzer\n",
        "sentiment_analyzer_vader = SentimentIntensityAnalyzer()\n",
        "\n",
        "df['sentiment vader'] = df['text'].apply(\n",
        "    lambda tx: sentiment_analyzer_vader.polarity_scores(tx))\n",
        "\n",
        "df[['text', 'sentiment textblob', 'sentiment vader']].head()"
      ]
    },
    {
      "cell_type": "markdown",
      "metadata": {
        "id": "YCiGARbLa_DO"
      },
      "source": [
        "## 3.3 - Sentiment Analysis with Flair"
      ]
    },
    {
      "cell_type": "code",
      "execution_count": null,
      "metadata": {
        "colab": {
          "base_uri": "https://localhost:8080/",
          "height": 446,
          "referenced_widgets": [
            "e829771728654d5e8624e9d127bfa359",
            "9cc82f3055c5498e9b0909b932a6b991",
            "ba194565ec3f415993defe36e3b3bea1",
            "f9fab6df7e9342c693e29dd6cf29a1e0",
            "3d0d2853969c4a5fb4fc1b24c42e4bd0",
            "47b97fdd344c4d4bab4a4106c0ec90b2",
            "7a65c42d9a254667b48afe77842ef8c0",
            "c889902874db46b19ad84b7c3181ade4",
            "0cbca27cd3aa40fdbbfded413bc13f61",
            "d6ac755b463c405688dc40374fbca0cc",
            "7ced0b730e7a4d92913f00cc6b8f711d",
            "248695eba4cf483fa7a0ec464434c1b1",
            "b77dc64cf7c9420698d89071fe74db5b",
            "ff48fe3986bd4bfbba3b036a7f763226",
            "245334e1106049eb848c680bad7f3df2",
            "bb31a2e8787b4868a2395191d5dbd4bf",
            "c84daf59e57b4cdfb016ae9d209f9385",
            "1bd69557a4d447e3a3ef008c296a7e53",
            "b4c392be51e345b582ce6970f376029d",
            "6c9590f13dfa471ca737456af9d2bef0",
            "860c78e3e08f427992d26cceffe697ba",
            "483e41a90fd8473e8578a5ce48ae3117",
            "ded41282417b42e693cb4925c01ad0ea",
            "f421d4d8b1cd47c882b98afb5b6fd551"
          ]
        },
        "id": "CdrnN1CDao2O",
        "outputId": "91d55d7c-7714-4142-a7e5-699d86d9974e"
      },
      "outputs": [
        {
          "name": "stdout",
          "output_type": "stream",
          "text": [
            "2021-06-07 20:11:52,670 https://nlp.informatik.hu-berlin.de/resources/models/sentiment-curated-distilbert/sentiment-en-mix-distillbert_4.pt not found in cache, downloading to /tmp/tmp7_lzyowd\n"
          ]
        },
        {
          "name": "stderr",
          "output_type": "stream",
          "text": [
            "100%|██████████| 265512723/265512723 [00:06<00:00, 38090509.86B/s]"
          ]
        },
        {
          "name": "stdout",
          "output_type": "stream",
          "text": [
            "2021-06-07 20:11:59,715 copying /tmp/tmp7_lzyowd to cache at /root/.flair/models/sentiment-en-mix-distillbert_4.pt\n"
          ]
        },
        {
          "name": "stderr",
          "output_type": "stream",
          "text": [
            "\n"
          ]
        },
        {
          "name": "stdout",
          "output_type": "stream",
          "text": [
            "2021-06-07 20:12:00,697 removing temp file /tmp/tmp7_lzyowd\n",
            "2021-06-07 20:12:01,609 loading file /root/.flair/models/sentiment-en-mix-distillbert_4.pt\n"
          ]
        },
        {
          "data": {
            "application/vnd.jupyter.widget-view+json": {
              "model_id": "e829771728654d5e8624e9d127bfa359",
              "version_major": 2,
              "version_minor": 0
            },
            "text/plain": [
              "HBox(children=(FloatProgress(value=0.0, description='Downloading', max=231508.0, style=ProgressStyle(descripti…"
            ]
          },
          "metadata": {
            "tags": []
          },
          "output_type": "display_data"
        },
        {
          "name": "stdout",
          "output_type": "stream",
          "text": [
            "\n"
          ]
        },
        {
          "data": {
            "application/vnd.jupyter.widget-view+json": {
              "model_id": "0cbca27cd3aa40fdbbfded413bc13f61",
              "version_major": 2,
              "version_minor": 0
            },
            "text/plain": [
              "HBox(children=(FloatProgress(value=0.0, description='Downloading', max=466062.0, style=ProgressStyle(descripti…"
            ]
          },
          "metadata": {
            "tags": []
          },
          "output_type": "display_data"
        },
        {
          "name": "stdout",
          "output_type": "stream",
          "text": [
            "\n"
          ]
        },
        {
          "data": {
            "application/vnd.jupyter.widget-view+json": {
              "model_id": "c84daf59e57b4cdfb016ae9d209f9385",
              "version_major": 2,
              "version_minor": 0
            },
            "text/plain": [
              "HBox(children=(FloatProgress(value=0.0, description='Downloading', max=28.0, style=ProgressStyle(description_w…"
            ]
          },
          "metadata": {
            "tags": []
          },
          "output_type": "display_data"
        },
        {
          "name": "stdout",
          "output_type": "stream",
          "text": [
            "\n"
          ]
        },
        {
          "data": {
            "text/html": [
              "<div>\n",
              "<style scoped>\n",
              "    .dataframe tbody tr th:only-of-type {\n",
              "        vertical-align: middle;\n",
              "    }\n",
              "\n",
              "    .dataframe tbody tr th {\n",
              "        vertical-align: top;\n",
              "    }\n",
              "\n",
              "    .dataframe thead th {\n",
              "        text-align: right;\n",
              "    }\n",
              "</style>\n",
              "<table border=\"1\" class=\"dataframe\">\n",
              "  <thead>\n",
              "    <tr style=\"text-align: right;\">\n",
              "      <th></th>\n",
              "      <th>text</th>\n",
              "      <th>sentiment textblob</th>\n",
              "      <th>sentiment vader</th>\n",
              "      <th>sentiment flair</th>\n",
              "    </tr>\n",
              "  </thead>\n",
              "  <tbody>\n",
              "    <tr>\n",
              "      <th>0</th>\n",
              "      <td>person hoursretweet search chad chad star</td>\n",
              "      <td>0.000</td>\n",
              "      <td>{'neg': 0.0, 'neu': 1.0, 'pos': 0.0, 'compound...</td>\n",
              "      <td>[NEGATIVE (0.9913)]</td>\n",
              "    </tr>\n",
              "    <tr>\n",
              "      <th>1</th>\n",
              "      <td>chart hourmacd looks forming bottom strong reb...</td>\n",
              "      <td>0.433</td>\n",
              "      <td>{'neg': 0.0, 'neu': 0.68, 'pos': 0.32, 'compou...</td>\n",
              "      <td>[NEGATIVE (0.9773)]</td>\n",
              "    </tr>\n",
              "    <tr>\n",
              "      <th>2</th>\n",
              "      <td>airdrop bullcrypto reward rate news bondlyfina...</td>\n",
              "      <td>0.000</td>\n",
              "      <td>{'neg': 0.0, 'neu': 0.619, 'pos': 0.381, 'comp...</td>\n",
              "      <td>[POSITIVE (0.997)]</td>\n",
              "    </tr>\n",
              "    <tr>\n",
              "      <th>3</th>\n",
              "      <td>chart price level total last moved happened weak</td>\n",
              "      <td>-0.125</td>\n",
              "      <td>{'neg': 0.293, 'neu': 0.707, 'pos': 0.0, 'comp...</td>\n",
              "      <td>[NEGATIVE (0.9999)]</td>\n",
              "    </tr>\n",
              "    <tr>\n",
              "      <th>4</th>\n",
              "      <td>also time around bitcion peaked coin whereas b...</td>\n",
              "      <td>0.000</td>\n",
              "      <td>{'neg': 0.0, 'neu': 1.0, 'pos': 0.0, 'compound...</td>\n",
              "      <td>[NEGATIVE (0.9922)]</td>\n",
              "    </tr>\n",
              "  </tbody>\n",
              "</table>\n",
              "</div>"
            ],
            "text/plain": [
              "                                                text  ...      sentiment flair\n",
              "0          person hoursretweet search chad chad star  ...  [NEGATIVE (0.9913)]\n",
              "1  chart hourmacd looks forming bottom strong reb...  ...  [NEGATIVE (0.9773)]\n",
              "2  airdrop bullcrypto reward rate news bondlyfina...  ...   [POSITIVE (0.997)]\n",
              "3   chart price level total last moved happened weak  ...  [NEGATIVE (0.9999)]\n",
              "4  also time around bitcion peaked coin whereas b...  ...  [NEGATIVE (0.9922)]\n",
              "\n",
              "[5 rows x 4 columns]"
            ]
          },
          "execution_count": 27,
          "metadata": {
            "tags": []
          },
          "output_type": "execute_result"
        }
      ],
      "source": [
        "# Define the classifier\n",
        "flair_classifier = TextClassifier.load('en-sentiment')\n",
        "\n",
        "def my_flair(text: str):\n",
        "    sentence = Sentence(text)\n",
        "    flair_classifier.predict(sentence)\n",
        "    return sentence.labels\n",
        "\n",
        "df['sentiment flair'] = df['text'].apply(my_flair)\n",
        "\n",
        "df[['text', \n",
        "    'sentiment textblob', \n",
        "    'sentiment vader', \n",
        "    'sentiment flair']].head()"
      ]
    }
  ],
  "metadata": {
    "colab": {
      "collapsed_sections": [],
      "name": "Sentiment Analysis.ipynb",
      "provenance": []
    },
    "kernelspec": {
      "display_name": "Python 3",
      "name": "python3"
    },
    "language_info": {
      "name": "python"
    },
    "widgets": {
      "application/vnd.jupyter.widget-state+json": {
        "0cbca27cd3aa40fdbbfded413bc13f61": {
          "model_module": "@jupyter-widgets/controls",
          "model_module_version": "1.5.0",
          "model_name": "HBoxModel",
          "state": {
            "_dom_classes": [],
            "_model_module": "@jupyter-widgets/controls",
            "_model_module_version": "1.5.0",
            "_model_name": "HBoxModel",
            "_view_count": null,
            "_view_module": "@jupyter-widgets/controls",
            "_view_module_version": "1.5.0",
            "_view_name": "HBoxView",
            "box_style": "",
            "children": [
              "IPY_MODEL_7ced0b730e7a4d92913f00cc6b8f711d",
              "IPY_MODEL_248695eba4cf483fa7a0ec464434c1b1"
            ],
            "layout": "IPY_MODEL_d6ac755b463c405688dc40374fbca0cc"
          }
        },
        "1bd69557a4d447e3a3ef008c296a7e53": {
          "model_module": "@jupyter-widgets/base",
          "model_module_version": "1.2.0",
          "model_name": "LayoutModel",
          "state": {
            "_model_module": "@jupyter-widgets/base",
            "_model_module_version": "1.2.0",
            "_model_name": "LayoutModel",
            "_view_count": null,
            "_view_module": "@jupyter-widgets/base",
            "_view_module_version": "1.2.0",
            "_view_name": "LayoutView",
            "align_content": null,
            "align_items": null,
            "align_self": null,
            "border": null,
            "bottom": null,
            "display": null,
            "flex": null,
            "flex_flow": null,
            "grid_area": null,
            "grid_auto_columns": null,
            "grid_auto_flow": null,
            "grid_auto_rows": null,
            "grid_column": null,
            "grid_gap": null,
            "grid_row": null,
            "grid_template_areas": null,
            "grid_template_columns": null,
            "grid_template_rows": null,
            "height": null,
            "justify_content": null,
            "justify_items": null,
            "left": null,
            "margin": null,
            "max_height": null,
            "max_width": null,
            "min_height": null,
            "min_width": null,
            "object_fit": null,
            "object_position": null,
            "order": null,
            "overflow": null,
            "overflow_x": null,
            "overflow_y": null,
            "padding": null,
            "right": null,
            "top": null,
            "visibility": null,
            "width": null
          }
        },
        "245334e1106049eb848c680bad7f3df2": {
          "model_module": "@jupyter-widgets/controls",
          "model_module_version": "1.5.0",
          "model_name": "DescriptionStyleModel",
          "state": {
            "_model_module": "@jupyter-widgets/controls",
            "_model_module_version": "1.5.0",
            "_model_name": "DescriptionStyleModel",
            "_view_count": null,
            "_view_module": "@jupyter-widgets/base",
            "_view_module_version": "1.2.0",
            "_view_name": "StyleView",
            "description_width": ""
          }
        },
        "248695eba4cf483fa7a0ec464434c1b1": {
          "model_module": "@jupyter-widgets/controls",
          "model_module_version": "1.5.0",
          "model_name": "HTMLModel",
          "state": {
            "_dom_classes": [],
            "_model_module": "@jupyter-widgets/controls",
            "_model_module_version": "1.5.0",
            "_model_name": "HTMLModel",
            "_view_count": null,
            "_view_module": "@jupyter-widgets/controls",
            "_view_module_version": "1.5.0",
            "_view_name": "HTMLView",
            "description": "",
            "description_tooltip": null,
            "layout": "IPY_MODEL_bb31a2e8787b4868a2395191d5dbd4bf",
            "placeholder": "​",
            "style": "IPY_MODEL_245334e1106049eb848c680bad7f3df2",
            "value": " 466k/466k [00:02&lt;00:00, 182kB/s]"
          }
        },
        "3d0d2853969c4a5fb4fc1b24c42e4bd0": {
          "model_module": "@jupyter-widgets/controls",
          "model_module_version": "1.5.0",
          "model_name": "ProgressStyleModel",
          "state": {
            "_model_module": "@jupyter-widgets/controls",
            "_model_module_version": "1.5.0",
            "_model_name": "ProgressStyleModel",
            "_view_count": null,
            "_view_module": "@jupyter-widgets/base",
            "_view_module_version": "1.2.0",
            "_view_name": "StyleView",
            "bar_color": null,
            "description_width": "initial"
          }
        },
        "47b97fdd344c4d4bab4a4106c0ec90b2": {
          "model_module": "@jupyter-widgets/base",
          "model_module_version": "1.2.0",
          "model_name": "LayoutModel",
          "state": {
            "_model_module": "@jupyter-widgets/base",
            "_model_module_version": "1.2.0",
            "_model_name": "LayoutModel",
            "_view_count": null,
            "_view_module": "@jupyter-widgets/base",
            "_view_module_version": "1.2.0",
            "_view_name": "LayoutView",
            "align_content": null,
            "align_items": null,
            "align_self": null,
            "border": null,
            "bottom": null,
            "display": null,
            "flex": null,
            "flex_flow": null,
            "grid_area": null,
            "grid_auto_columns": null,
            "grid_auto_flow": null,
            "grid_auto_rows": null,
            "grid_column": null,
            "grid_gap": null,
            "grid_row": null,
            "grid_template_areas": null,
            "grid_template_columns": null,
            "grid_template_rows": null,
            "height": null,
            "justify_content": null,
            "justify_items": null,
            "left": null,
            "margin": null,
            "max_height": null,
            "max_width": null,
            "min_height": null,
            "min_width": null,
            "object_fit": null,
            "object_position": null,
            "order": null,
            "overflow": null,
            "overflow_x": null,
            "overflow_y": null,
            "padding": null,
            "right": null,
            "top": null,
            "visibility": null,
            "width": null
          }
        },
        "483e41a90fd8473e8578a5ce48ae3117": {
          "model_module": "@jupyter-widgets/base",
          "model_module_version": "1.2.0",
          "model_name": "LayoutModel",
          "state": {
            "_model_module": "@jupyter-widgets/base",
            "_model_module_version": "1.2.0",
            "_model_name": "LayoutModel",
            "_view_count": null,
            "_view_module": "@jupyter-widgets/base",
            "_view_module_version": "1.2.0",
            "_view_name": "LayoutView",
            "align_content": null,
            "align_items": null,
            "align_self": null,
            "border": null,
            "bottom": null,
            "display": null,
            "flex": null,
            "flex_flow": null,
            "grid_area": null,
            "grid_auto_columns": null,
            "grid_auto_flow": null,
            "grid_auto_rows": null,
            "grid_column": null,
            "grid_gap": null,
            "grid_row": null,
            "grid_template_areas": null,
            "grid_template_columns": null,
            "grid_template_rows": null,
            "height": null,
            "justify_content": null,
            "justify_items": null,
            "left": null,
            "margin": null,
            "max_height": null,
            "max_width": null,
            "min_height": null,
            "min_width": null,
            "object_fit": null,
            "object_position": null,
            "order": null,
            "overflow": null,
            "overflow_x": null,
            "overflow_y": null,
            "padding": null,
            "right": null,
            "top": null,
            "visibility": null,
            "width": null
          }
        },
        "6c9590f13dfa471ca737456af9d2bef0": {
          "model_module": "@jupyter-widgets/controls",
          "model_module_version": "1.5.0",
          "model_name": "HTMLModel",
          "state": {
            "_dom_classes": [],
            "_model_module": "@jupyter-widgets/controls",
            "_model_module_version": "1.5.0",
            "_model_name": "HTMLModel",
            "_view_count": null,
            "_view_module": "@jupyter-widgets/controls",
            "_view_module_version": "1.5.0",
            "_view_name": "HTMLView",
            "description": "",
            "description_tooltip": null,
            "layout": "IPY_MODEL_f421d4d8b1cd47c882b98afb5b6fd551",
            "placeholder": "​",
            "style": "IPY_MODEL_ded41282417b42e693cb4925c01ad0ea",
            "value": " 28.0/28.0 [00:00&lt;00:00, 29.6B/s]"
          }
        },
        "7a65c42d9a254667b48afe77842ef8c0": {
          "model_module": "@jupyter-widgets/controls",
          "model_module_version": "1.5.0",
          "model_name": "DescriptionStyleModel",
          "state": {
            "_model_module": "@jupyter-widgets/controls",
            "_model_module_version": "1.5.0",
            "_model_name": "DescriptionStyleModel",
            "_view_count": null,
            "_view_module": "@jupyter-widgets/base",
            "_view_module_version": "1.2.0",
            "_view_name": "StyleView",
            "description_width": ""
          }
        },
        "7ced0b730e7a4d92913f00cc6b8f711d": {
          "model_module": "@jupyter-widgets/controls",
          "model_module_version": "1.5.0",
          "model_name": "FloatProgressModel",
          "state": {
            "_dom_classes": [],
            "_model_module": "@jupyter-widgets/controls",
            "_model_module_version": "1.5.0",
            "_model_name": "FloatProgressModel",
            "_view_count": null,
            "_view_module": "@jupyter-widgets/controls",
            "_view_module_version": "1.5.0",
            "_view_name": "ProgressView",
            "bar_style": "success",
            "description": "Downloading: 100%",
            "description_tooltip": null,
            "layout": "IPY_MODEL_ff48fe3986bd4bfbba3b036a7f763226",
            "max": 466062,
            "min": 0,
            "orientation": "horizontal",
            "style": "IPY_MODEL_b77dc64cf7c9420698d89071fe74db5b",
            "value": 466062
          }
        },
        "860c78e3e08f427992d26cceffe697ba": {
          "model_module": "@jupyter-widgets/controls",
          "model_module_version": "1.5.0",
          "model_name": "ProgressStyleModel",
          "state": {
            "_model_module": "@jupyter-widgets/controls",
            "_model_module_version": "1.5.0",
            "_model_name": "ProgressStyleModel",
            "_view_count": null,
            "_view_module": "@jupyter-widgets/base",
            "_view_module_version": "1.2.0",
            "_view_name": "StyleView",
            "bar_color": null,
            "description_width": "initial"
          }
        },
        "9cc82f3055c5498e9b0909b932a6b991": {
          "model_module": "@jupyter-widgets/base",
          "model_module_version": "1.2.0",
          "model_name": "LayoutModel",
          "state": {
            "_model_module": "@jupyter-widgets/base",
            "_model_module_version": "1.2.0",
            "_model_name": "LayoutModel",
            "_view_count": null,
            "_view_module": "@jupyter-widgets/base",
            "_view_module_version": "1.2.0",
            "_view_name": "LayoutView",
            "align_content": null,
            "align_items": null,
            "align_self": null,
            "border": null,
            "bottom": null,
            "display": null,
            "flex": null,
            "flex_flow": null,
            "grid_area": null,
            "grid_auto_columns": null,
            "grid_auto_flow": null,
            "grid_auto_rows": null,
            "grid_column": null,
            "grid_gap": null,
            "grid_row": null,
            "grid_template_areas": null,
            "grid_template_columns": null,
            "grid_template_rows": null,
            "height": null,
            "justify_content": null,
            "justify_items": null,
            "left": null,
            "margin": null,
            "max_height": null,
            "max_width": null,
            "min_height": null,
            "min_width": null,
            "object_fit": null,
            "object_position": null,
            "order": null,
            "overflow": null,
            "overflow_x": null,
            "overflow_y": null,
            "padding": null,
            "right": null,
            "top": null,
            "visibility": null,
            "width": null
          }
        },
        "b4c392be51e345b582ce6970f376029d": {
          "model_module": "@jupyter-widgets/controls",
          "model_module_version": "1.5.0",
          "model_name": "FloatProgressModel",
          "state": {
            "_dom_classes": [],
            "_model_module": "@jupyter-widgets/controls",
            "_model_module_version": "1.5.0",
            "_model_name": "FloatProgressModel",
            "_view_count": null,
            "_view_module": "@jupyter-widgets/controls",
            "_view_module_version": "1.5.0",
            "_view_name": "ProgressView",
            "bar_style": "success",
            "description": "Downloading: 100%",
            "description_tooltip": null,
            "layout": "IPY_MODEL_483e41a90fd8473e8578a5ce48ae3117",
            "max": 28,
            "min": 0,
            "orientation": "horizontal",
            "style": "IPY_MODEL_860c78e3e08f427992d26cceffe697ba",
            "value": 28
          }
        },
        "b77dc64cf7c9420698d89071fe74db5b": {
          "model_module": "@jupyter-widgets/controls",
          "model_module_version": "1.5.0",
          "model_name": "ProgressStyleModel",
          "state": {
            "_model_module": "@jupyter-widgets/controls",
            "_model_module_version": "1.5.0",
            "_model_name": "ProgressStyleModel",
            "_view_count": null,
            "_view_module": "@jupyter-widgets/base",
            "_view_module_version": "1.2.0",
            "_view_name": "StyleView",
            "bar_color": null,
            "description_width": "initial"
          }
        },
        "ba194565ec3f415993defe36e3b3bea1": {
          "model_module": "@jupyter-widgets/controls",
          "model_module_version": "1.5.0",
          "model_name": "FloatProgressModel",
          "state": {
            "_dom_classes": [],
            "_model_module": "@jupyter-widgets/controls",
            "_model_module_version": "1.5.0",
            "_model_name": "FloatProgressModel",
            "_view_count": null,
            "_view_module": "@jupyter-widgets/controls",
            "_view_module_version": "1.5.0",
            "_view_name": "ProgressView",
            "bar_style": "success",
            "description": "Downloading: 100%",
            "description_tooltip": null,
            "layout": "IPY_MODEL_47b97fdd344c4d4bab4a4106c0ec90b2",
            "max": 231508,
            "min": 0,
            "orientation": "horizontal",
            "style": "IPY_MODEL_3d0d2853969c4a5fb4fc1b24c42e4bd0",
            "value": 231508
          }
        },
        "bb31a2e8787b4868a2395191d5dbd4bf": {
          "model_module": "@jupyter-widgets/base",
          "model_module_version": "1.2.0",
          "model_name": "LayoutModel",
          "state": {
            "_model_module": "@jupyter-widgets/base",
            "_model_module_version": "1.2.0",
            "_model_name": "LayoutModel",
            "_view_count": null,
            "_view_module": "@jupyter-widgets/base",
            "_view_module_version": "1.2.0",
            "_view_name": "LayoutView",
            "align_content": null,
            "align_items": null,
            "align_self": null,
            "border": null,
            "bottom": null,
            "display": null,
            "flex": null,
            "flex_flow": null,
            "grid_area": null,
            "grid_auto_columns": null,
            "grid_auto_flow": null,
            "grid_auto_rows": null,
            "grid_column": null,
            "grid_gap": null,
            "grid_row": null,
            "grid_template_areas": null,
            "grid_template_columns": null,
            "grid_template_rows": null,
            "height": null,
            "justify_content": null,
            "justify_items": null,
            "left": null,
            "margin": null,
            "max_height": null,
            "max_width": null,
            "min_height": null,
            "min_width": null,
            "object_fit": null,
            "object_position": null,
            "order": null,
            "overflow": null,
            "overflow_x": null,
            "overflow_y": null,
            "padding": null,
            "right": null,
            "top": null,
            "visibility": null,
            "width": null
          }
        },
        "c84daf59e57b4cdfb016ae9d209f9385": {
          "model_module": "@jupyter-widgets/controls",
          "model_module_version": "1.5.0",
          "model_name": "HBoxModel",
          "state": {
            "_dom_classes": [],
            "_model_module": "@jupyter-widgets/controls",
            "_model_module_version": "1.5.0",
            "_model_name": "HBoxModel",
            "_view_count": null,
            "_view_module": "@jupyter-widgets/controls",
            "_view_module_version": "1.5.0",
            "_view_name": "HBoxView",
            "box_style": "",
            "children": [
              "IPY_MODEL_b4c392be51e345b582ce6970f376029d",
              "IPY_MODEL_6c9590f13dfa471ca737456af9d2bef0"
            ],
            "layout": "IPY_MODEL_1bd69557a4d447e3a3ef008c296a7e53"
          }
        },
        "c889902874db46b19ad84b7c3181ade4": {
          "model_module": "@jupyter-widgets/base",
          "model_module_version": "1.2.0",
          "model_name": "LayoutModel",
          "state": {
            "_model_module": "@jupyter-widgets/base",
            "_model_module_version": "1.2.0",
            "_model_name": "LayoutModel",
            "_view_count": null,
            "_view_module": "@jupyter-widgets/base",
            "_view_module_version": "1.2.0",
            "_view_name": "LayoutView",
            "align_content": null,
            "align_items": null,
            "align_self": null,
            "border": null,
            "bottom": null,
            "display": null,
            "flex": null,
            "flex_flow": null,
            "grid_area": null,
            "grid_auto_columns": null,
            "grid_auto_flow": null,
            "grid_auto_rows": null,
            "grid_column": null,
            "grid_gap": null,
            "grid_row": null,
            "grid_template_areas": null,
            "grid_template_columns": null,
            "grid_template_rows": null,
            "height": null,
            "justify_content": null,
            "justify_items": null,
            "left": null,
            "margin": null,
            "max_height": null,
            "max_width": null,
            "min_height": null,
            "min_width": null,
            "object_fit": null,
            "object_position": null,
            "order": null,
            "overflow": null,
            "overflow_x": null,
            "overflow_y": null,
            "padding": null,
            "right": null,
            "top": null,
            "visibility": null,
            "width": null
          }
        },
        "d6ac755b463c405688dc40374fbca0cc": {
          "model_module": "@jupyter-widgets/base",
          "model_module_version": "1.2.0",
          "model_name": "LayoutModel",
          "state": {
            "_model_module": "@jupyter-widgets/base",
            "_model_module_version": "1.2.0",
            "_model_name": "LayoutModel",
            "_view_count": null,
            "_view_module": "@jupyter-widgets/base",
            "_view_module_version": "1.2.0",
            "_view_name": "LayoutView",
            "align_content": null,
            "align_items": null,
            "align_self": null,
            "border": null,
            "bottom": null,
            "display": null,
            "flex": null,
            "flex_flow": null,
            "grid_area": null,
            "grid_auto_columns": null,
            "grid_auto_flow": null,
            "grid_auto_rows": null,
            "grid_column": null,
            "grid_gap": null,
            "grid_row": null,
            "grid_template_areas": null,
            "grid_template_columns": null,
            "grid_template_rows": null,
            "height": null,
            "justify_content": null,
            "justify_items": null,
            "left": null,
            "margin": null,
            "max_height": null,
            "max_width": null,
            "min_height": null,
            "min_width": null,
            "object_fit": null,
            "object_position": null,
            "order": null,
            "overflow": null,
            "overflow_x": null,
            "overflow_y": null,
            "padding": null,
            "right": null,
            "top": null,
            "visibility": null,
            "width": null
          }
        },
        "ded41282417b42e693cb4925c01ad0ea": {
          "model_module": "@jupyter-widgets/controls",
          "model_module_version": "1.5.0",
          "model_name": "DescriptionStyleModel",
          "state": {
            "_model_module": "@jupyter-widgets/controls",
            "_model_module_version": "1.5.0",
            "_model_name": "DescriptionStyleModel",
            "_view_count": null,
            "_view_module": "@jupyter-widgets/base",
            "_view_module_version": "1.2.0",
            "_view_name": "StyleView",
            "description_width": ""
          }
        },
        "e829771728654d5e8624e9d127bfa359": {
          "model_module": "@jupyter-widgets/controls",
          "model_module_version": "1.5.0",
          "model_name": "HBoxModel",
          "state": {
            "_dom_classes": [],
            "_model_module": "@jupyter-widgets/controls",
            "_model_module_version": "1.5.0",
            "_model_name": "HBoxModel",
            "_view_count": null,
            "_view_module": "@jupyter-widgets/controls",
            "_view_module_version": "1.5.0",
            "_view_name": "HBoxView",
            "box_style": "",
            "children": [
              "IPY_MODEL_ba194565ec3f415993defe36e3b3bea1",
              "IPY_MODEL_f9fab6df7e9342c693e29dd6cf29a1e0"
            ],
            "layout": "IPY_MODEL_9cc82f3055c5498e9b0909b932a6b991"
          }
        },
        "f421d4d8b1cd47c882b98afb5b6fd551": {
          "model_module": "@jupyter-widgets/base",
          "model_module_version": "1.2.0",
          "model_name": "LayoutModel",
          "state": {
            "_model_module": "@jupyter-widgets/base",
            "_model_module_version": "1.2.0",
            "_model_name": "LayoutModel",
            "_view_count": null,
            "_view_module": "@jupyter-widgets/base",
            "_view_module_version": "1.2.0",
            "_view_name": "LayoutView",
            "align_content": null,
            "align_items": null,
            "align_self": null,
            "border": null,
            "bottom": null,
            "display": null,
            "flex": null,
            "flex_flow": null,
            "grid_area": null,
            "grid_auto_columns": null,
            "grid_auto_flow": null,
            "grid_auto_rows": null,
            "grid_column": null,
            "grid_gap": null,
            "grid_row": null,
            "grid_template_areas": null,
            "grid_template_columns": null,
            "grid_template_rows": null,
            "height": null,
            "justify_content": null,
            "justify_items": null,
            "left": null,
            "margin": null,
            "max_height": null,
            "max_width": null,
            "min_height": null,
            "min_width": null,
            "object_fit": null,
            "object_position": null,
            "order": null,
            "overflow": null,
            "overflow_x": null,
            "overflow_y": null,
            "padding": null,
            "right": null,
            "top": null,
            "visibility": null,
            "width": null
          }
        },
        "f9fab6df7e9342c693e29dd6cf29a1e0": {
          "model_module": "@jupyter-widgets/controls",
          "model_module_version": "1.5.0",
          "model_name": "HTMLModel",
          "state": {
            "_dom_classes": [],
            "_model_module": "@jupyter-widgets/controls",
            "_model_module_version": "1.5.0",
            "_model_name": "HTMLModel",
            "_view_count": null,
            "_view_module": "@jupyter-widgets/controls",
            "_view_module_version": "1.5.0",
            "_view_name": "HTMLView",
            "description": "",
            "description_tooltip": null,
            "layout": "IPY_MODEL_c889902874db46b19ad84b7c3181ade4",
            "placeholder": "​",
            "style": "IPY_MODEL_7a65c42d9a254667b48afe77842ef8c0",
            "value": " 232k/232k [00:00&lt;00:00, 465kB/s]"
          }
        },
        "ff48fe3986bd4bfbba3b036a7f763226": {
          "model_module": "@jupyter-widgets/base",
          "model_module_version": "1.2.0",
          "model_name": "LayoutModel",
          "state": {
            "_model_module": "@jupyter-widgets/base",
            "_model_module_version": "1.2.0",
            "_model_name": "LayoutModel",
            "_view_count": null,
            "_view_module": "@jupyter-widgets/base",
            "_view_module_version": "1.2.0",
            "_view_name": "LayoutView",
            "align_content": null,
            "align_items": null,
            "align_self": null,
            "border": null,
            "bottom": null,
            "display": null,
            "flex": null,
            "flex_flow": null,
            "grid_area": null,
            "grid_auto_columns": null,
            "grid_auto_flow": null,
            "grid_auto_rows": null,
            "grid_column": null,
            "grid_gap": null,
            "grid_row": null,
            "grid_template_areas": null,
            "grid_template_columns": null,
            "grid_template_rows": null,
            "height": null,
            "justify_content": null,
            "justify_items": null,
            "left": null,
            "margin": null,
            "max_height": null,
            "max_width": null,
            "min_height": null,
            "min_width": null,
            "object_fit": null,
            "object_position": null,
            "order": null,
            "overflow": null,
            "overflow_x": null,
            "overflow_y": null,
            "padding": null,
            "right": null,
            "top": null,
            "visibility": null,
            "width": null
          }
        }
      }
    }
  },
  "nbformat": 4,
  "nbformat_minor": 0
}
